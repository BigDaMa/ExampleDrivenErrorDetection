{
 "cells": [
  {
   "cell_type": "code",
   "execution_count": 1,
   "metadata": {
    "collapsed": true
   },
   "outputs": [],
   "source": [
    "from IPython.display import display, HTML\n",
    "import pandas as pd\n",
    "import math\n",
    "import datetime\n",
    "import json\n",
    "import requests\n",
    "import numpy as np\n",
    "import re\n",
    "import jellyfish as jf\n",
    "import geocoder\n",
    "import time\n",
    "import xgboost as xgb\n",
    "from sklearn.metrics import f1_score\n",
    "from sklearn.metrics import precision_score\n",
    "from sklearn.metrics import recall_score\n",
    "from sklearn.naive_bayes import GaussianNB\n",
    "from sklearn import linear_model\n",
    "from sklearn.model_selection import GridSearchCV\n",
    "import re\n",
    "import matplotlib.pyplot as plt\n",
    "import subprocess\n",
    "import os.path\n",
    "from subprocess import PIPE,Popen\n",
    "from collections import defaultdict\n",
    "from scipy import sparse\n",
    "from sklearn.decomposition import TruncatedSVD\n",
    "import pickle\n",
    "\n",
    "import warnings\n",
    "warnings.filterwarnings('ignore')"
   ]
  },
  {
   "cell_type": "code",
   "execution_count": null,
   "metadata": {
    "collapsed": true
   },
   "outputs": [],
   "source": []
  },
  {
   "cell_type": "code",
   "execution_count": 2,
   "metadata": {
    "collapsed": true
   },
   "outputs": [],
   "source": [
    "numberAttributes = 12"
   ]
  },
  {
   "cell_type": "code",
   "execution_count": 3,
   "metadata": {
    "collapsed": true
   },
   "outputs": [],
   "source": [
    "dirty = pd.read_csv(\"/home/felix/BlackOak/List_A/inputDB.csv\")\n",
    "clean = pd.read_csv(\"/home/felix/BlackOak/List_A/groundDB.csv\", dtype={'SSN': object, 'ZIP': object})"
   ]
  },
  {
   "cell_type": "code",
   "execution_count": 4,
   "metadata": {
    "collapsed": false
   },
   "outputs": [],
   "source": [
    "distinct_values_per_column = []\n",
    "for column in range(len(dirty.columns)):\n",
    "    distinct_values_per_column.append(dict())\n",
    "\n",
    "max_length = [0.0] * len(dirty.columns)\n",
    "sum_length = np.array([0] * len(dirty.columns))\n",
    "N = len(dirty)\n",
    "\n",
    "for index, row in dirty.iterrows():\n",
    "    for column in range(len(dirty.columns)):\n",
    "        value = row[dirty.columns[column]]\n",
    "        distinct_values_per_column[column][value] = distinct_values_per_column[column].get(value, 0) + 1\n",
    "\n",
    "        \n",
    "        max_length[column] = max (max_length[column], len(str(value)))\n",
    "        sum_length[column] += len(str(value))\n",
    "avg_length = sum_length / float(N)\n",
    "\n",
    "for column in range(len(dirty.columns)):\n",
    "    for key, value in distinct_values_per_column[column].iteritems():\n",
    "        distinct_values_per_column[column][key] = value / float(N)"
   ]
  },
  {
   "cell_type": "code",
   "execution_count": 5,
   "metadata": {
    "collapsed": false
   },
   "outputs": [
    {
     "name": "stdout",
     "output_type": "stream",
     "text": [
      "[7, 13, 13, 21, 44, 21, 17, 29, 26, 41, 11, 9]\n"
     ]
    }
   ],
   "source": [
    "print max_length"
   ]
  },
  {
   "cell_type": "code",
   "execution_count": null,
   "metadata": {
    "collapsed": false
   },
   "outputs": [],
   "source": []
  },
  {
   "cell_type": "code",
   "execution_count": 6,
   "metadata": {
    "collapsed": false
   },
   "outputs": [
    {
     "name": "stdout",
     "output_type": "stream",
     "text": [
      "[94306, 15048, 681, 31917, 84228, 12695, 5070, 18825, 14558, 9735, 47358, 13608]\n"
     ]
    }
   ],
   "source": [
    "number_distinct_values_per_column = []\n",
    "for column in range(len(dirty.columns)):\n",
    "    number_distinct_values_per_column.append(len(distinct_values_per_column[column]))\n",
    "print number_distinct_values_per_column"
   ]
  },
  {
   "cell_type": "code",
   "execution_count": null,
   "metadata": {
    "collapsed": true
   },
   "outputs": [],
   "source": []
  },
  {
   "cell_type": "code",
   "execution_count": 7,
   "metadata": {
    "collapsed": false
   },
   "outputs": [
    {
     "data": {
      "text/html": [
       "<div>\n",
       "<table border=\"1\" class=\"dataframe\">\n",
       "  <thead>\n",
       "    <tr style=\"text-align: right;\">\n",
       "      <th></th>\n",
       "      <th>RecID(String)</th>\n",
       "      <th>FirstName(String)</th>\n",
       "      <th>MiddleName(String)</th>\n",
       "      <th>LastName(String)</th>\n",
       "      <th>Address(String)</th>\n",
       "      <th>City(String)</th>\n",
       "      <th>State(String)</th>\n",
       "      <th>ZIP(String)</th>\n",
       "      <th>POBox(String)</th>\n",
       "      <th>POCityStateZip(String)</th>\n",
       "      <th>SSN(String)</th>\n",
       "      <th>DOB(String)</th>\n",
       "    </tr>\n",
       "  </thead>\n",
       "  <tbody>\n",
       "    <tr>\n",
       "      <th>0</th>\n",
       "      <td>A904694</td>\n",
       "      <td>christine</td>\n",
       "      <td>NaN</td>\n",
       "      <td>urias</td>\n",
       "      <td>5404 ROCKLAND DR</td>\n",
       "      <td>pearland</td>\n",
       "      <td>tx</td>\n",
       "      <td>77584</td>\n",
       "      <td>NaN</td>\n",
       "      <td>NaN</td>\n",
       "      <td>166-91-0767</td>\n",
       "      <td>NaN</td>\n",
       "    </tr>\n",
       "    <tr>\n",
       "      <th>1</th>\n",
       "      <td>A904695</td>\n",
       "      <td>RICHARD</td>\n",
       "      <td>S</td>\n",
       "      <td>STOKES</td>\n",
       "      <td>2384 MOUNTAIN PINE RD</td>\n",
       "      <td>Hot</td>\n",
       "      <td>Springs</td>\n",
       "      <td>Ar 7191</td>\n",
       "      <td>NaN</td>\n",
       "      <td>NaN</td>\n",
       "      <td>NaN</td>\n",
       "      <td>4/12/72</td>\n",
       "    </tr>\n",
       "    <tr>\n",
       "      <th>2</th>\n",
       "      <td>A904696</td>\n",
       "      <td>michelle</td>\n",
       "      <td>NaN</td>\n",
       "      <td>daughtry</td>\n",
       "      <td>2301 plumeria lane</td>\n",
       "      <td>Palmdale</td>\n",
       "      <td>Ca</td>\n",
       "      <td>93551</td>\n",
       "      <td>PO MBOX 901243</td>\n",
       "      <td>palmdale, ca 93590</td>\n",
       "      <td>086-71-1424</td>\n",
       "      <td>1956</td>\n",
       "    </tr>\n",
       "    <tr>\n",
       "      <th>3</th>\n",
       "      <td>A904697</td>\n",
       "      <td>A</td>\n",
       "      <td>NaN</td>\n",
       "      <td>GARFIO</td>\n",
       "      <td>1305 NORTH FOYD STR LOT 10</td>\n",
       "      <td>JONESBOROY</td>\n",
       "      <td>AR</td>\n",
       "      <td>72401</td>\n",
       "      <td>NaN</td>\n",
       "      <td>NaN</td>\n",
       "      <td>22542011</td>\n",
       "      <td>NaN</td>\n",
       "    </tr>\n",
       "    <tr>\n",
       "      <th>4</th>\n",
       "      <td>A904698</td>\n",
       "      <td>MIHCAEL</td>\n",
       "      <td>L</td>\n",
       "      <td>VALENCIA</td>\n",
       "      <td>3 HOPE DR</td>\n",
       "      <td>WATSONVILLE</td>\n",
       "      <td>CA</td>\n",
       "      <td>95076</td>\n",
       "      <td>P Box 1353</td>\n",
       "      <td>watsonvile, calif. 95077</td>\n",
       "      <td>157146562</td>\n",
       "      <td>NaN</td>\n",
       "    </tr>\n",
       "  </tbody>\n",
       "</table>\n",
       "</div>"
      ],
      "text/plain": [
       "  RecID(String) FirstName(String) MiddleName(String) LastName(String)  \\\n",
       "0       A904694         christine                NaN            urias   \n",
       "1       A904695           RICHARD                  S           STOKES   \n",
       "2       A904696          michelle                NaN         daughtry   \n",
       "3       A904697                 A                NaN           GARFIO   \n",
       "4       A904698           MIHCAEL                  L         VALENCIA   \n",
       "\n",
       "              Address(String) City(String) State(String) ZIP(String)  \\\n",
       "0            5404 ROCKLAND DR     pearland            tx       77584   \n",
       "1       2384 MOUNTAIN PINE RD          Hot       Springs     Ar 7191   \n",
       "2          2301 plumeria lane     Palmdale            Ca       93551   \n",
       "3  1305 NORTH FOYD STR LOT 10   JONESBOROY            AR       72401   \n",
       "4                   3 HOPE DR  WATSONVILLE            CA       95076   \n",
       "\n",
       "    POBox(String)    POCityStateZip(String)  SSN(String) DOB(String)  \n",
       "0             NaN                       NaN  166-91-0767         NaN  \n",
       "1             NaN                       NaN          NaN     4/12/72  \n",
       "2  PO MBOX 901243        palmdale, ca 93590  086-71-1424        1956  \n",
       "3             NaN                       NaN     22542011         NaN  \n",
       "4      P Box 1353  watsonvile, calif. 95077    157146562         NaN  "
      ]
     },
     "execution_count": 7,
     "metadata": {},
     "output_type": "execute_result"
    }
   ],
   "source": [
    "dirty.head()"
   ]
  },
  {
   "cell_type": "code",
   "execution_count": 8,
   "metadata": {
    "collapsed": false
   },
   "outputs": [
    {
     "data": {
      "text/html": [
       "<div>\n",
       "<table border=\"1\" class=\"dataframe\">\n",
       "  <thead>\n",
       "    <tr style=\"text-align: right;\">\n",
       "      <th></th>\n",
       "      <th>RecID</th>\n",
       "      <th>FirstName</th>\n",
       "      <th>MiddleName</th>\n",
       "      <th>LastName</th>\n",
       "      <th>Address</th>\n",
       "      <th>City</th>\n",
       "      <th>State</th>\n",
       "      <th>ZIP</th>\n",
       "      <th>POBox</th>\n",
       "      <th>POCityStateZip</th>\n",
       "      <th>SSN</th>\n",
       "      <th>DOB</th>\n",
       "    </tr>\n",
       "  </thead>\n",
       "  <tbody>\n",
       "    <tr>\n",
       "      <th>0</th>\n",
       "      <td>A904694</td>\n",
       "      <td>CHRISTINE</td>\n",
       "      <td>NaN</td>\n",
       "      <td>URIAS</td>\n",
       "      <td>5404 ROCKLAND DR</td>\n",
       "      <td>PEARLAND</td>\n",
       "      <td>TX</td>\n",
       "      <td>77584</td>\n",
       "      <td>NaN</td>\n",
       "      <td>NaN</td>\n",
       "      <td>166910767</td>\n",
       "      <td>NaN</td>\n",
       "    </tr>\n",
       "    <tr>\n",
       "      <th>1</th>\n",
       "      <td>A904695</td>\n",
       "      <td>RICHARD</td>\n",
       "      <td>S</td>\n",
       "      <td>STOKES</td>\n",
       "      <td>2384 MOUNTAIN PINE RD</td>\n",
       "      <td>HOT SPRINGS NATIONAL PARK</td>\n",
       "      <td>AR</td>\n",
       "      <td>71901</td>\n",
       "      <td>NaN</td>\n",
       "      <td>NaN</td>\n",
       "      <td>NaN</td>\n",
       "      <td>4/12/72</td>\n",
       "    </tr>\n",
       "    <tr>\n",
       "      <th>2</th>\n",
       "      <td>A904696</td>\n",
       "      <td>MICHELLE</td>\n",
       "      <td>NaN</td>\n",
       "      <td>DAUGHTRY</td>\n",
       "      <td>2301 PLUMERIA LANE</td>\n",
       "      <td>PALMDALE</td>\n",
       "      <td>CA</td>\n",
       "      <td>93551</td>\n",
       "      <td>PO MBOX 901243</td>\n",
       "      <td>PALMDALE, CA 93590</td>\n",
       "      <td>86711424</td>\n",
       "      <td>1956</td>\n",
       "    </tr>\n",
       "    <tr>\n",
       "      <th>3</th>\n",
       "      <td>A904697</td>\n",
       "      <td>A</td>\n",
       "      <td>NaN</td>\n",
       "      <td>GARFIO</td>\n",
       "      <td>1305 NORTH FOYD STR LOT 10</td>\n",
       "      <td>JONESBORO</td>\n",
       "      <td>AR</td>\n",
       "      <td>72401</td>\n",
       "      <td>NaN</td>\n",
       "      <td>NaN</td>\n",
       "      <td>22542011</td>\n",
       "      <td>NaN</td>\n",
       "    </tr>\n",
       "    <tr>\n",
       "      <th>4</th>\n",
       "      <td>A904698</td>\n",
       "      <td>MIHCAEL</td>\n",
       "      <td>L</td>\n",
       "      <td>VALENCIA</td>\n",
       "      <td>3 HOPE DR</td>\n",
       "      <td>WATSONVILLE</td>\n",
       "      <td>CA</td>\n",
       "      <td>95076</td>\n",
       "      <td>P BOX 1353</td>\n",
       "      <td>WATSONVILE, CALIF. 95077</td>\n",
       "      <td>157146562</td>\n",
       "      <td>NaN</td>\n",
       "    </tr>\n",
       "  </tbody>\n",
       "</table>\n",
       "</div>"
      ],
      "text/plain": [
       "     RecID  FirstName MiddleName  LastName                     Address  \\\n",
       "0  A904694  CHRISTINE        NaN     URIAS            5404 ROCKLAND DR   \n",
       "1  A904695    RICHARD          S    STOKES       2384 MOUNTAIN PINE RD   \n",
       "2  A904696   MICHELLE        NaN  DAUGHTRY          2301 PLUMERIA LANE   \n",
       "3  A904697          A        NaN    GARFIO  1305 NORTH FOYD STR LOT 10   \n",
       "4  A904698    MIHCAEL          L  VALENCIA                   3 HOPE DR   \n",
       "\n",
       "                        City State    ZIP           POBox  \\\n",
       "0                   PEARLAND    TX  77584             NaN   \n",
       "1  HOT SPRINGS NATIONAL PARK    AR  71901             NaN   \n",
       "2                   PALMDALE    CA  93551  PO MBOX 901243   \n",
       "3                  JONESBORO    AR  72401             NaN   \n",
       "4                WATSONVILLE    CA  95076      P BOX 1353   \n",
       "\n",
       "             POCityStateZip        SSN      DOB  \n",
       "0                       NaN  166910767      NaN  \n",
       "1                       NaN        NaN  4/12/72  \n",
       "2        PALMDALE, CA 93590   86711424     1956  \n",
       "3                       NaN   22542011      NaN  \n",
       "4  WATSONVILE, CALIF. 95077  157146562      NaN  "
      ]
     },
     "execution_count": 8,
     "metadata": {},
     "output_type": "execute_result"
    }
   ],
   "source": [
    "clean.head()"
   ]
  },
  {
   "cell_type": "code",
   "execution_count": 9,
   "metadata": {
    "collapsed": false
   },
   "outputs": [
    {
     "name": "stdout",
     "output_type": "stream",
     "text": [
      "[[False  True False ..., False  True False]\n",
      " [False False False ..., False False False]\n",
      " [False  True False ...,  True  True False]\n",
      " ..., \n",
      " [False  True False ..., False False False]\n",
      " [False  True  True ..., False False False]\n",
      " [False  True False ..., False  True False]]\n"
     ]
    }
   ],
   "source": [
    "ground_truth = dirty.values != clean.values #all real errors\n",
    "print ground_truth"
   ]
  },
  {
   "cell_type": "code",
   "execution_count": 10,
   "metadata": {
    "collapsed": true
   },
   "outputs": [],
   "source": [
    "def generate_error_sets():\n",
    "    folder = \"/home/felix/BlackOak/List_A/ToolOutputDetectedCells/\"\n",
    "    files = [#\"Trifacta_detectedCells.csv\",\n",
    "             \"AddressCleaner_detectedCells.csv\"\n",
    "             ,\"dBoost.csv\"\n",
    "             ,\"gaussian.csv\"\n",
    "             #,\"GRefine_detectedCells.csv\"\n",
    "             ,\"histograms.csv\"\n",
    "             ,\"katara.txt\"\n",
    "             ,\"mixture.csv\"\n",
    "             ,\"tamr.csv\"\n",
    "            ]\n",
    "    \n",
    "    schema = [(\"tool_\" + re.split(r'\\.', s)[0]) for s in files]\n",
    "    \n",
    "    error_sets = []\n",
    "    \n",
    "    for i in range(len(files)):\n",
    "        data = pd.read_csv(folder + files[i], header=None)\n",
    "        \n",
    "        error_set = set()\n",
    "        for index, row in data.iterrows():\n",
    "            key = (row[data.columns[0]] - 1, row[data.columns[1]] - 1)\n",
    "            error_set.add(key)\n",
    "        error_sets.append(error_set)\n",
    "    \n",
    "    return error_sets, schema"
   ]
  },
  {
   "cell_type": "code",
   "execution_count": 11,
   "metadata": {
    "collapsed": true
   },
   "outputs": [],
   "source": [
    "def generate_features(error_sets, clean):\n",
    "    features = []\n",
    "    \n",
    "    for tool in range(len(error_sets)):\n",
    "        feature = np.array([False] * len(clean) * len(clean.columns))\n",
    "\n",
    "        i = 0\n",
    "        for row in range(len(clean)):\n",
    "            for column in range(len(clean.columns)):\n",
    "                feature[i] = (row, column) in error_sets[tool]\n",
    "                i += 1\n",
    "        features.append(feature)\n",
    "        \n",
    "    return features"
   ]
  },
  {
   "cell_type": "code",
   "execution_count": 12,
   "metadata": {
    "collapsed": false
   },
   "outputs": [],
   "source": [
    "def generate_column_feature(clean, dirty, number_distinct_values_per_column, \\\n",
    "                            avg_length1, max_length1, distinct_values_per_column):\n",
    "    column_id = np.array([0] * len(clean) * len(clean.columns))\n",
    "    column_distinct_values = np.array([0] * len(clean) * len(clean.columns))\n",
    "    column_avg_length = np.array([0.0] * len(clean) * len(clean.columns))\n",
    "    column_max_length = np.array([0] * len(clean) * len(clean.columns))\n",
    "    current_value_fraction = np.array([0.0] * len(clean) * len(clean.columns))\n",
    "    current_value_length = np.array([0] * len(clean) * len(clean.columns))\n",
    "    current_row_avg_fraction = np.array([0.0] * len(clean) * len(clean.columns))\n",
    "    current_row_avg_length = np.array([0.0] * len(clean) * len(clean.columns))\n",
    "    \n",
    "    i = 0\n",
    "    for row in range(len(clean)):\n",
    "        \n",
    "        row_sum_length = 0.0\n",
    "        row_sum_fraction = 0.0\n",
    "        for column in range(len(clean.columns)):\n",
    "            row_sum_fraction += distinct_values_per_column[column].get(dirty.values[row][column], 0)\n",
    "            row_sum_length += len(str(dirty.values[row][column]))\n",
    "        row_avg_length = row_sum_length / len(clean.columns)\n",
    "        row_avg_fraction = row_sum_fraction / len(clean.columns)\n",
    "            \n",
    "        \n",
    "        for column in range(len(clean.columns)):\n",
    "            # attribute based\n",
    "            column_id[i] = column\n",
    "            column_distinct_values[i] = number_distinct_values_per_column[column]\n",
    "            column_avg_length[i] = avg_length1[column]\n",
    "            column_max_length[i] = max_length1[column]\n",
    "            # value based\n",
    "            current_value_fraction[i] = distinct_values_per_column[column].get(dirty.values[row][column], 0)\n",
    "            current_value_length[i] = len(str(dirty.values[row][column]))\n",
    "            # row based\n",
    "            current_row_avg_fraction[i] = row_avg_fraction\n",
    "            current_row_avg_length[i] = row_avg_length\n",
    "            \n",
    "            i += 1\n",
    "\n",
    "    schema = [\"col_id\",\"col_distinct_values\",\"col_avg_length\",\"col_max_length\",\\\n",
    "              \"val_fraction\",\"val_length\",\"row_avg_fraction\",\"row_avg_length\"]\n",
    "\n",
    "    return [column_id, column_distinct_values, column_avg_length, column_max_length, \\\n",
    "            current_value_fraction, current_value_length, \\\n",
    "            current_row_avg_fraction, current_row_avg_length], schema"
   ]
  },
  {
   "cell_type": "code",
   "execution_count": 13,
   "metadata": {
    "collapsed": true
   },
   "outputs": [],
   "source": [
    "def generate_target(clean, ground_truth):\n",
    "    target = np.array([False] * len(clean) * len(clean.columns))\n",
    "    \n",
    "    i = 0\n",
    "    for row in range(len(clean)):\n",
    "        for column in range(len(clean.columns)):\n",
    "            target[i] = ground_truth[row,column]\n",
    "            i += 1\n",
    "            \n",
    "    return target"
   ]
  },
  {
   "cell_type": "code",
   "execution_count": 14,
   "metadata": {
    "collapsed": false
   },
   "outputs": [],
   "source": [
    "#error_sets, schema_tools = generate_error_sets()"
   ]
  },
  {
   "cell_type": "code",
   "execution_count": 15,
   "metadata": {
    "collapsed": false
   },
   "outputs": [],
   "source": [
    "features = []\n",
    "\n",
    "column_features, schema_metadata = generate_column_feature(clean, dirty, \\\n",
    "                                          number_distinct_values_per_column, \\\n",
    "                                          avg_length, max_length, distinct_values_per_column)\n",
    "for i in range(len(column_features)):\n",
    "    features.append(column_features[i])"
   ]
  },
  {
   "cell_type": "code",
   "execution_count": 16,
   "metadata": {
    "collapsed": false
   },
   "outputs": [
    {
     "name": "stdout",
     "output_type": "stream",
     "text": [
      "['col_id', 'col_distinct_values', 'col_avg_length', 'col_max_length', 'val_fraction', 'val_length', 'row_avg_fraction', 'row_avg_length']\n"
     ]
    }
   ],
   "source": [
    "total_schema = []\n",
    "#total_schema.extend(schema_tools)\n",
    "total_schema.extend(schema_metadata)\n",
    "print total_schema"
   ]
  },
  {
   "cell_type": "code",
   "execution_count": 17,
   "metadata": {
    "collapsed": true
   },
   "outputs": [],
   "source": [
    "target = generate_target(clean, ground_truth)"
   ]
  },
  {
   "cell_type": "code",
   "execution_count": 18,
   "metadata": {
    "collapsed": false
   },
   "outputs": [],
   "source": [
    "feature_matrix = np.column_stack(features)"
   ]
  },
  {
   "cell_type": "code",
   "execution_count": 19,
   "metadata": {
    "collapsed": false
   },
   "outputs": [
    {
     "name": "stdout",
     "output_type": "stream",
     "text": [
      "(1131672, 8)\n"
     ]
    }
   ],
   "source": [
    "print feature_matrix.shape"
   ]
  },
  {
   "cell_type": "code",
   "execution_count": 20,
   "metadata": {
    "collapsed": false
   },
   "outputs": [],
   "source": [
    "def create_data(feature_matrix, train_size = 0.00001):\n",
    "    train_len = train_size\n",
    "    test_len = feature_matrix.shape[0] - train_len\n",
    "    \n",
    "    if (train_size <= 1):\n",
    "        train_len = int(math.ceil(feature_matrix.shape[0] * train_size))\n",
    "        test_len = int(math.floor(feature_matrix.shape[0] * (1 - train_size)))\n",
    "    \n",
    "    msk = np.ones((train_len,))\n",
    "    msk = np.concatenate((msk, np.zeros((test_len,))))\n",
    "    msk = msk == 1.\n",
    "    np.random.shuffle(msk)\n",
    "    \n",
    "    indices_true = np.where(msk)[0]\n",
    "    indices_false = np.where(~msk)[0]\n",
    "\n",
    "    train = feature_matrix[indices_true,:]\n",
    "    train_target = target[msk]\n",
    "    test = feature_matrix[indices_false,:]\n",
    "    test_target = target[~msk]\n",
    "    \n",
    "    return train, train_target, test, test_target"
   ]
  },
  {
   "cell_type": "code",
   "execution_count": 21,
   "metadata": {
    "collapsed": false
   },
   "outputs": [],
   "source": [
    "def create_data_smart(feature_matrix, column_features, schema_tools, train_n):\n",
    "    number_tools = len(schema_tools)\n",
    "    tool_matrix = feature_matrix[:, 0:len(schema_tools)]\n",
    "    '''\n",
    "    for i in range(9):\n",
    "        print \"size: \" + str(i) + \" -> \" + str(len(np.where(np.sum(tool_matrix, axis=1) == i)[0]))\n",
    "\n",
    "    print \"size: > 0 \" + \" -> \" + str(len(np.where(np.sum(tool_matrix, axis=1) > 0)[0]))\n",
    "    '''\n",
    "\n",
    "    indices = np.where(np.sum(tool_matrix, axis=1) > 0)[0]\n",
    "    #print indices\n",
    "    #print feature_matrix[indices].shape\n",
    "    #print np.max(feature_matrix[:,10])\n",
    "\n",
    "    two_indices = set(np.where(column_features[0] == 2)[0])\n",
    "    no_hits = set(np.where(np.sum(tool_matrix, axis=1) > 0)[0])\n",
    "    too_many_hits = set(np.where(np.sum(tool_matrix, axis=1) < 4)[0])\n",
    "\n",
    "    intersection = two_indices.intersection(no_hits)\n",
    "    intersection = intersection.intersection(too_many_hits)\n",
    "    #print len(intersection)\n",
    "\n",
    "    intersection = no_hits\n",
    "    intersection = intersection.intersection(too_many_hits)\n",
    "\n",
    "    train_len = train_n\n",
    "\n",
    "    trainl = []\n",
    "    train_targetl = []\n",
    "\n",
    "    training_indices = []\n",
    "    attribute_indices = []\n",
    "    for i in range(numberAttributes):\n",
    "        col_indices = set(np.where(column_features[0] == i)[0])\n",
    "        col_intersection = (intersection.intersection(col_indices))\n",
    "        col_intersection_list = np.asmatrix(col_intersection)\n",
    "        #print str(i) + \". col: \" + str(len(col_intersection))\n",
    "\n",
    "        #print col_intersection\n",
    "\n",
    "        test_len = len(col_intersection) - train_len\n",
    "\n",
    "        msk = np.ones((train_len,))\n",
    "        msk = np.concatenate((msk, np.zeros((test_len,))))\n",
    "        msk = msk == 1.\n",
    "        np.random.shuffle(msk)\n",
    "\n",
    "        ids = np.where(msk)\n",
    "\n",
    "        for id in ids:\n",
    "            trainl.extend(feature_matrix[id])\n",
    "            train_targetl.extend(target[id])\n",
    "\n",
    "    train = np.asmatrix(trainl)\n",
    "    \n",
    "    print train.shape\n",
    "    \n",
    "    train_target = np.asarray(train_targetl)\n",
    "    return train, train_target"
   ]
  },
  {
   "cell_type": "code",
   "execution_count": 22,
   "metadata": {
    "collapsed": true
   },
   "outputs": [],
   "source": [
    "def create_next_data(train, train_target, feature_matrix, target, y_pred, n):\n",
    "    diff = np.absolute(y_pred - 0.5)\n",
    "    sorted_ids = np.argsort(diff)\n",
    "        \n",
    "    plt.hist(diff)\n",
    "    plt.show()\n",
    "    \n",
    "    trainl = []\n",
    "    train_targetl = []\n",
    "    \n",
    "    for i in range(n):\n",
    "        #print sorted_ids[i]\n",
    "        #print feature_matrix[sorted_ids[i]]\n",
    "        trainl.append(feature_matrix[sorted_ids[i]])\n",
    "        train = np.vstack((train, feature_matrix[sorted_ids[i]]))\n",
    "        #print target[sorted_ids[i]]\n",
    "        train_target = np.append(train_target, [target[sorted_ids[i]]])\n",
    "        \n",
    "    return train, train_target"
   ]
  },
  {
   "cell_type": "code",
   "execution_count": null,
   "metadata": {
    "collapsed": true
   },
   "outputs": [],
   "source": []
  },
  {
   "cell_type": "code",
   "execution_count": 31,
   "metadata": {
    "collapsed": false
   },
   "outputs": [],
   "source": [
    "input_file = \"/tmp/test.csv\"\n",
    "output_file = \"/tmp/rules.csv\"\n",
    "number_rules = 1000\n",
    "\n",
    "dirty.to_csv(input_file,header=True, index=False)"
   ]
  },
  {
   "cell_type": "code",
   "execution_count": 24,
   "metadata": {
    "collapsed": true
   },
   "outputs": [],
   "source": [
    "def check_rule(data, rule_left, rule_right):\n",
    "    check_rule = np.array([False] * len(data))\n",
    "    \n",
    "    for e in range(len(data)):\n",
    "        check_left = np.array([False] * len(rule_left))\n",
    "        left_done = False\n",
    "        check_right = np.array([False] * len(rule_right))\n",
    "        right_done = False\n",
    "\n",
    "        for c in str(data[e]):\n",
    "            if left_done == False:\n",
    "                for l in range(len(rule_left)):\n",
    "                    if c == rule_left[l]:\n",
    "                        check_left[l] = True\n",
    "                        if np.all(check_left == True):\n",
    "                            left_done = True\n",
    "                            break\n",
    "            else:\n",
    "                for r in range(len(rule_right)):\n",
    "                    if c == rule_right[r]:\n",
    "                        check_right[r] = True\n",
    "                        if np.all(check_right == True):\n",
    "                            right_done = True\n",
    "                            check_rule[e] = True\n",
    "                            break\n",
    "            if right_done == True:\n",
    "                break\n",
    "    return check_rule"
   ]
  },
  {
   "cell_type": "code",
   "execution_count": null,
   "metadata": {
    "collapsed": true
   },
   "outputs": [],
   "source": []
  },
  {
   "cell_type": "code",
   "execution_count": 33,
   "metadata": {
    "collapsed": false
   },
   "outputs": [
    {
     "data": {
      "text/plain": [
       "1"
      ]
     },
     "execution_count": 33,
     "metadata": {},
     "output_type": "execute_result"
    }
   ],
   "source": [
    "subprocess.call(['java -cp /home/felix/SequentialPatternErrorDetection/SeqPatErrorDect/target/seqpaterrordetection-1.0-jar-with-dependencies.jar ' +\n",
    "                 'ca.pfv.spmf.app.RuleExtractionArrayInt '\n",
    "                 '-input ' + input_file + ' ' +\n",
    "                 '-output ' + output_file + ' ' +\n",
    "                 '-nrules ' + str(1000) + ' ' +\n",
    "                 '-cindex ' + str(4)\n",
    "                 ], shell=True)"
   ]
  },
  {
   "cell_type": "code",
   "execution_count": 30,
   "metadata": {
    "collapsed": false
   },
   "outputs": [
    {
     "ename": "KeyboardInterrupt",
     "evalue": "",
     "output_type": "error",
     "traceback": [
      "\u001b[1;31m---------------------------------------------------------------------------\u001b[0m",
      "\u001b[1;31mKeyboardInterrupt\u001b[0m                         Traceback (most recent call last)",
      "\u001b[1;32m<ipython-input-30-02e61da3fdba>\u001b[0m in \u001b[0;36m<module>\u001b[1;34m()\u001b[0m\n\u001b[0;32m     15\u001b[0m                  \u001b[1;34m'-nrules '\u001b[0m \u001b[1;33m+\u001b[0m \u001b[0mstr\u001b[0m\u001b[1;33m(\u001b[0m\u001b[0mnumber_rules\u001b[0m\u001b[1;33m)\u001b[0m \u001b[1;33m+\u001b[0m \u001b[1;34m' '\u001b[0m \u001b[1;33m+\u001b[0m\u001b[1;33m\u001b[0m\u001b[0m\n\u001b[0;32m     16\u001b[0m                  \u001b[1;34m'-cindex '\u001b[0m \u001b[1;33m+\u001b[0m \u001b[0mstr\u001b[0m\u001b[1;33m(\u001b[0m\u001b[0mcolumn\u001b[0m\u001b[1;33m)\u001b[0m\u001b[1;33m\u001b[0m\u001b[0m\n\u001b[1;32m---> 17\u001b[1;33m                  ], shell=True)\n\u001b[0m\u001b[0;32m     18\u001b[0m     \u001b[1;31m#read top-k rules\u001b[0m\u001b[1;33m\u001b[0m\u001b[1;33m\u001b[0m\u001b[0m\n\u001b[0;32m     19\u001b[0m     \u001b[0mrules\u001b[0m \u001b[1;33m=\u001b[0m \u001b[0mpd\u001b[0m\u001b[1;33m.\u001b[0m\u001b[0mread_csv\u001b[0m\u001b[1;33m(\u001b[0m\u001b[0moutput_file\u001b[0m\u001b[1;33m,\u001b[0m \u001b[0msep\u001b[0m\u001b[1;33m=\u001b[0m\u001b[1;34m';'\u001b[0m\u001b[1;33m)\u001b[0m\u001b[1;33m\u001b[0m\u001b[0m\n",
      "\u001b[1;32m/usr/lib/python2.7/subprocess.pyc\u001b[0m in \u001b[0;36mcall\u001b[1;34m(*popenargs, **kwargs)\u001b[0m\n\u001b[0;32m    521\u001b[0m     \u001b[0mretcode\u001b[0m \u001b[1;33m=\u001b[0m \u001b[0mcall\u001b[0m\u001b[1;33m(\u001b[0m\u001b[1;33m[\u001b[0m\u001b[1;34m\"ls\"\u001b[0m\u001b[1;33m,\u001b[0m \u001b[1;34m\"-l\"\u001b[0m\u001b[1;33m]\u001b[0m\u001b[1;33m)\u001b[0m\u001b[1;33m\u001b[0m\u001b[0m\n\u001b[0;32m    522\u001b[0m     \"\"\"\n\u001b[1;32m--> 523\u001b[1;33m     \u001b[1;32mreturn\u001b[0m \u001b[0mPopen\u001b[0m\u001b[1;33m(\u001b[0m\u001b[1;33m*\u001b[0m\u001b[0mpopenargs\u001b[0m\u001b[1;33m,\u001b[0m \u001b[1;33m**\u001b[0m\u001b[0mkwargs\u001b[0m\u001b[1;33m)\u001b[0m\u001b[1;33m.\u001b[0m\u001b[0mwait\u001b[0m\u001b[1;33m(\u001b[0m\u001b[1;33m)\u001b[0m\u001b[1;33m\u001b[0m\u001b[0m\n\u001b[0m\u001b[0;32m    524\u001b[0m \u001b[1;33m\u001b[0m\u001b[0m\n\u001b[0;32m    525\u001b[0m \u001b[1;33m\u001b[0m\u001b[0m\n",
      "\u001b[1;32m/usr/lib/python2.7/subprocess.pyc\u001b[0m in \u001b[0;36mwait\u001b[1;34m(self)\u001b[0m\n\u001b[0;32m   1390\u001b[0m             \u001b[1;32mwhile\u001b[0m \u001b[0mself\u001b[0m\u001b[1;33m.\u001b[0m\u001b[0mreturncode\u001b[0m \u001b[1;32mis\u001b[0m \u001b[0mNone\u001b[0m\u001b[1;33m:\u001b[0m\u001b[1;33m\u001b[0m\u001b[0m\n\u001b[0;32m   1391\u001b[0m                 \u001b[1;32mtry\u001b[0m\u001b[1;33m:\u001b[0m\u001b[1;33m\u001b[0m\u001b[0m\n\u001b[1;32m-> 1392\u001b[1;33m                     \u001b[0mpid\u001b[0m\u001b[1;33m,\u001b[0m \u001b[0msts\u001b[0m \u001b[1;33m=\u001b[0m \u001b[0m_eintr_retry_call\u001b[0m\u001b[1;33m(\u001b[0m\u001b[0mos\u001b[0m\u001b[1;33m.\u001b[0m\u001b[0mwaitpid\u001b[0m\u001b[1;33m,\u001b[0m \u001b[0mself\u001b[0m\u001b[1;33m.\u001b[0m\u001b[0mpid\u001b[0m\u001b[1;33m,\u001b[0m \u001b[1;36m0\u001b[0m\u001b[1;33m)\u001b[0m\u001b[1;33m\u001b[0m\u001b[0m\n\u001b[0m\u001b[0;32m   1393\u001b[0m                 \u001b[1;32mexcept\u001b[0m \u001b[0mOSError\u001b[0m \u001b[1;32mas\u001b[0m \u001b[0me\u001b[0m\u001b[1;33m:\u001b[0m\u001b[1;33m\u001b[0m\u001b[0m\n\u001b[0;32m   1394\u001b[0m                     \u001b[1;32mif\u001b[0m \u001b[0me\u001b[0m\u001b[1;33m.\u001b[0m\u001b[0merrno\u001b[0m \u001b[1;33m!=\u001b[0m \u001b[0merrno\u001b[0m\u001b[1;33m.\u001b[0m\u001b[0mECHILD\u001b[0m\u001b[1;33m:\u001b[0m\u001b[1;33m\u001b[0m\u001b[0m\n",
      "\u001b[1;32m/usr/lib/python2.7/subprocess.pyc\u001b[0m in \u001b[0;36m_eintr_retry_call\u001b[1;34m(func, *args)\u001b[0m\n\u001b[0;32m    474\u001b[0m     \u001b[1;32mwhile\u001b[0m \u001b[0mTrue\u001b[0m\u001b[1;33m:\u001b[0m\u001b[1;33m\u001b[0m\u001b[0m\n\u001b[0;32m    475\u001b[0m         \u001b[1;32mtry\u001b[0m\u001b[1;33m:\u001b[0m\u001b[1;33m\u001b[0m\u001b[0m\n\u001b[1;32m--> 476\u001b[1;33m             \u001b[1;32mreturn\u001b[0m \u001b[0mfunc\u001b[0m\u001b[1;33m(\u001b[0m\u001b[1;33m*\u001b[0m\u001b[0margs\u001b[0m\u001b[1;33m)\u001b[0m\u001b[1;33m\u001b[0m\u001b[0m\n\u001b[0m\u001b[0;32m    477\u001b[0m         \u001b[1;32mexcept\u001b[0m \u001b[1;33m(\u001b[0m\u001b[0mOSError\u001b[0m\u001b[1;33m,\u001b[0m \u001b[0mIOError\u001b[0m\u001b[1;33m)\u001b[0m \u001b[1;32mas\u001b[0m \u001b[0me\u001b[0m\u001b[1;33m:\u001b[0m\u001b[1;33m\u001b[0m\u001b[0m\n\u001b[0;32m    478\u001b[0m             \u001b[1;32mif\u001b[0m \u001b[0me\u001b[0m\u001b[1;33m.\u001b[0m\u001b[0merrno\u001b[0m \u001b[1;33m==\u001b[0m \u001b[0merrno\u001b[0m\u001b[1;33m.\u001b[0m\u001b[0mEINTR\u001b[0m\u001b[1;33m:\u001b[0m\u001b[1;33m\u001b[0m\u001b[0m\n",
      "\u001b[1;31mKeyboardInterrupt\u001b[0m: "
     ]
    }
   ],
   "source": [
    "\n",
    "rules_features = []\n",
    "rules_names = []\n",
    "\n",
    "rule_indices_per_attribute = defaultdict(list)\n",
    "\n",
    "ri = 0\n",
    "\n",
    "for column in [4]: #range(len(dirty.columns)):\n",
    "    #mine top-k rules\n",
    "    subprocess.call(['java -cp /home/felix/SequentialPatternErrorDetection/SeqPatErrorDect/target/seqpaterrordetection-1.0-jar-with-dependencies.jar ' +\n",
    "                 'ca.pfv.spmf.app.RuleExtractionArrayInt '\n",
    "                 '-input ' + input_file + ' ' +\n",
    "                 '-output ' + output_file + ' ' +\n",
    "                 '-nrules ' + str(number_rules) + ' ' +\n",
    "                 '-cindex ' + str(column)\n",
    "                 ], shell=True)\n",
    "    #read top-k rules\n",
    "    rules = pd.read_csv(output_file, sep=';')\n",
    "    \n",
    "    for rule_string in rules.values:\n",
    "        rule_indices_per_attribute[column].append(ri)\n",
    "        rule_split = rule_string[0].split(\"=>\")\n",
    "        left = list(rule_split[0])\n",
    "        right = list(rule_split[1])\n",
    "        \n",
    "        rules_feature = check_rule(dirty.values[:,column], left, right)\n",
    "        rules_features.append(rules_feature)\n",
    "        rules_names.append(rule_string[0])\n",
    "\n",
    "        print rule_string\n",
    "        print np.sum(rules_feature)\n",
    "        \n",
    "        ri += 1\n"
   ]
  },
  {
   "cell_type": "code",
   "execution_count": 29,
   "metadata": {
    "collapsed": false
   },
   "outputs": [
    {
     "name": "stdout",
     "output_type": "stream",
     "text": [
      "1000\n"
     ]
    }
   ],
   "source": [
    "print number_rules"
   ]
  },
  {
   "cell_type": "code",
   "execution_count": 26,
   "metadata": {
    "collapsed": false
   },
   "outputs": [],
   "source": [
    "def generate_rules_feature(dirty,rules_features,rules_names,rule_indices_per_attribute):\n",
    "    rule_decision = np.zeros(((len(dirty) * len(dirty.columns)),len(rules_names)), dtype=bool)\n",
    "    \n",
    "    i = 0\n",
    "    for row in range(len(dirty)):        \n",
    "        for column in range(len(dirty.columns)):\n",
    "            for rule_id in rule_indices_per_attribute[column]:\n",
    "                if rules_features[rule_id][row] == True:\n",
    "                    rule_decision[i,rule_id] = True\n",
    "            i += 1\n",
    "\n",
    "    return sparse.csc_matrix(rule_decision, dtype=bool), rules_names"
   ]
  },
  {
   "cell_type": "code",
   "execution_count": 27,
   "metadata": {
    "collapsed": false
   },
   "outputs": [
    {
     "name": "stdout",
     "output_type": "stream",
     "text": [
      "--- 27.4904351234 seconds ---\n"
     ]
    }
   ],
   "source": [
    "import time\n",
    "start_time = time.time()\n",
    "\n",
    "rule_decision, rules_names = generate_rules_feature(dirty,rules_features,rules_names,rule_indices_per_attribute)\n",
    "\n",
    "print(\"--- %s seconds ---\" % (time.time() - start_time))"
   ]
  },
  {
   "cell_type": "code",
   "execution_count": 28,
   "metadata": {
    "collapsed": false
   },
   "outputs": [],
   "source": [
    "\n",
    "\n",
    "with open(\"rule_features4_1000\", \"wb\") as f:\n",
    "    pickle.dump(rule_decision, f)\n",
    "    f.close\n",
    "    \n",
    "with open(\"rule_names4_1000\", \"wb\") as f:\n",
    "    pickle.dump(rules_names, f)\n",
    "    f.close\n",
    "\n"
   ]
  },
  {
   "cell_type": "code",
   "execution_count": 28,
   "metadata": {
    "collapsed": false
   },
   "outputs": [],
   "source": [
    "with open(\"rule_features\", \"rb\") as f:\n",
    "    rule_decision = pickle.load(f)\n",
    "    f.close\n",
    "\n",
    "with open(\"rule_names\", \"rb\") as g:\n",
    "    rules_names = pickle.load(g)\n",
    "    f.close"
   ]
  },
  {
   "cell_type": "code",
   "execution_count": 29,
   "metadata": {
    "collapsed": false
   },
   "outputs": [],
   "source": [
    "feature_matrix_all = sparse.hstack((feature_matrix,rule_decision))"
   ]
  },
  {
   "cell_type": "code",
   "execution_count": 30,
   "metadata": {
    "collapsed": true
   },
   "outputs": [],
   "source": [
    "feature_matrix_all = feature_matrix_all.tocsr()"
   ]
  },
  {
   "cell_type": "code",
   "execution_count": 31,
   "metadata": {
    "collapsed": false
   },
   "outputs": [
    {
     "name": "stdout",
     "output_type": "stream",
     "text": [
      "(1131672, 1207)\n"
     ]
    }
   ],
   "source": [
    "#feature_matrix_all = feature_matrix\n",
    "print feature_matrix_all.shape"
   ]
  },
  {
   "cell_type": "code",
   "execution_count": 32,
   "metadata": {
    "collapsed": false
   },
   "outputs": [
    {
     "name": "stdout",
     "output_type": "stream",
     "text": [
      "['col_id', 'col_distinct_values', 'col_avg_length', 'col_max_length', 'val_fraction', 'val_length', 'row_avg_fraction', 'row_avg_length', '9=>47', '9=>78', '9=>4', '9=>6', 'A=>79', 'A=>9', 'A=>89', '9=>7', '9=>8', 'A=>69', '9=>5', 'A=>59', 'A=>49', '9=>3', 'A=>39', 'A=>19', 'A=>29', '9=>1', 'A=>09', '9=>2', '9=>0', 'A=>789', '9=>57', '9=>67', 'A=>679', 'A=>689', '9=>68', 'A=>589', 'A=>579', '9=>56', '9=>58', 'A=>569', 'A=>489', 'A=>479', '9=>48', '9=>14', '9=>16', 'A=>179', '9=>45', '9=>46', 'A=>469', 'A=>459', 'A=>289', 'A=>189', 'A=>389', 'A=>279', '9=>17', '9=>18', '9=>37', 'A=>379', '9=>38', '9=>27', 'A=>169', 'A=>369', '9=>28', 'A=>269', 'A=>159', 'A=>359', 'A=>259', '9=>15', '9=>35', '9=>36', '9=>26', 'A=>149', '9=>25', 'A=>349', 'A=>249', '9=>24', '9=>07', '9=>13', 'A=>129', '9=>34', 'A=>239', '9=>12', 'A=>139', 'A=>089', '9=>23', 'A=>079', '9=>08', '9=>02', '9=>04', '9=>05', '9=>06', 'A=>069', 'A=>059', 'A=>049', '9=>01', 'A=>029', 'A=>039', 'A=>019', '9=>03', '8A=>9', '89=>5', '7A=>3', '7A=>5', '7A=>9', '7A=>1', '79=>3', '79=>1', '79=>5', 'H=>A', 'E=>A', 'A=>E', 'A=>R', 'A=>N', 'a=>n', 'I=>A', 'R=>A', 'a=>r', 'i=>a', 'A=>I', 'R=>E', 'a=>e', 'r=>a', 'R=>I', 'A=>L', 'E=>R', 'i=>e', 'a=>i', 'I=>E', 'r=>i', 'N=>A', 'e=>r', 'r=>e', 'L=>E', 'N=>E', 'M=>A', 'L=>A', 'E=>N', 'a=>l', 'E=>L', 'n=>a', 'e=>n', 'R=>N', 'e=>a', 'e=>l', 'l=>a', 'E=>I', 'O=>N', 'R=>O', 'n=>e', 'i=>n', 'r=>n', 'o=>n', 'L=>I', 'I=>N', 'A=>D', 'D=>A', 'C=>A', 'S=>A', 'e=>i', 'l=>i', 'r=>o', 'l=>e', 'M=>I', 'O=>E', 'o=>e', 'M=>E', 'A=>O', 'H=>E', 'C=>E', 'O=>A', 'a=>d', 'J=>E', 'T=>A', 'N=>I', 'S=>E', 'R=>AI', 'I=>L', 'A=>EL', 'h=>a', 'M=>R', 'd=>a', 'i=>l', 'A=>EN', 'O=>R', 'o=>a', 'I=>C', 'c=>a', 'L=>N', 'm=>a', 'h=>e', 'A=>T', 'IR=>A', 's=>a', 'n=>i', 'r=>ai', 'R=>L', 'o=>r', 'i=>c', 'AR=>I', 'R=>Y', 'AR=>N', 'a=>o', 'IL=>A', 's=>e', 'a=>el', 'ar=>i', 'l=>n', 'E=>T', 'E=>L', 'A=>D', 'W=>N', 'A=>R', 'A=>E', 'a=>e', 'A=>N', 'a=>n', 'E=>R', 'A=>L', 'N=>E', 'n=>e', 'e=>r', 'a=>r', 'L=>N', 'a=>l', 'R=>E', 'a=>en', 'an=>e', 'E=>N', 'R=>O', 'r=>e', 'W=>A', 'l=>n', 'R=>N', 'A=>EN', 'a=>y', 'AN=>E', 'r=>o', 'A=>Y', 'e=>n', 'l=>a', 'A=>LN', 'E=>O', 'L=>O', 'a=>ey', 'L=>E', 'L=>A', 'D=>E', 'o=>n', 'y=>n', 'W=>E', 'r=>n', 'A=>EY', 'a=>eny', 'AW=>N', 'O=>N', 'AL=>N', 'y=>e', 'W=>AN', 'W=>EN', 'ay=>n', 'AW=>E', 'W=>AE', 'B=>R', 'A=>O', 'e=>o', 'Y=>E', 'Y=>N', 'ny=>e', 'any=>e', 'l=>o', 'ay=>en', 'e=>l', 'y=>en', 'E=>T', 'l=>e', 'R=>D', 'W=>AEN', 'AW=>EN', 'A=>ENY', 'AY=>N', 'al=>n', 'ANW=>E', 'u=>e', 'R=>A', 'ANY=>E', 'AY=>EN', 'WY=>EN', 'AW=>ENY', 'NY=>E', 'NW=>E', 'r=>t', 'Y=>EN', 'W=>AENY', 'R=>I', 'I=>N', 'i=>e', 'a=>o', 'R=>T', 'r=>i', 'e=>t', 'E=>OR', 'a=>d', 'ER=>O', 'AE=>R', 'a=>ln', 'L=>AN', 'L=>R', 'A=>D', 'E=>A', 'R=>A', 'A=>E', 'E=>R', 'A=>N', 'a=>n', 'R=>E', 'a=>e', 'e=>r', 'A=>R', 'a=>r', 'O=>N', 'r=>e', 'o=>n', 'A=>S', 'L=>E', 'E=>N', 'N=>E', 'r=>a', 'e=>n', 'R=>N', 'a=>s', 'A=>L', 'O=>E', 'R=>O', 'l=>e', 'n=>e', 'I=>N', 'r=>n', 'i=>n', 'a=>l', 'E=>S', 'o=>e', 'I=>A', 'O=>R', 'A=>I', 'I=>E', 'A=>O', 'R=>I', 'e=>s', 'i=>e', 'L=>A', 'a=>o', 'r=>o', 'e=>a', 'S=>N', 'r=>i', 'a=>i', 'R=>S', 'O=>S', 'o=>r', 'l=>a', 'o=>s', 'S=>O', 'I=>S', 'T=>E', 'i=>s', 'i=>a', 'r=>s', 'C=>A', 'M=>A', 'L=>O', 'N=>A', 'S=>E', 's=>n', 'S=>A', 'H=>A', 'O=>A', 't=>e', 'M=>E', 'L=>N', 'A=>ER', 'A=>T', 'E=>L', 'M=>N', 'D=>E', 'n=>a', 'H=>E', 'C=>E', 'E=>Z', 'o=>a', 'I=>L', 's=>o', 'E=>O', 'a=>d', 'e=>l', 'N=>O', 'AR=>N', 'i=>l', 'a=>t', 'l=>o', 'N=>S', 'l=>n', 'n=>o', 'e=>z', 'AR=>E', 'a=>er', 'e=>o', 'A=>EN', 'I=> ', '7=> ', '3=> ', '2=> ', '1=> ', '0=> ', ' =>A', ' =>E', ' =>R', ' =>D', '4=> ', ' =>S', 'A=> ', '5=> ', ' =>e', ' =>a', ' =>T', ' =>r', 'E=> ', '6=> ', 'a=> ', ' =>t', ' =>N', 'e=> ', 'R=> ', ' =>L', 'N=> ', ' =>I', ' =>O', 'T=> ', ' =>AE', ' =>n', 'S=> ', ' =>AR', ' =>ER', 'r=> ', '8=> ', 't=> ', '1=> A', '1=>A', 'n=> ', ' 1=>A', '9=> ', 'O=> ', ' =>er', '12=> ', ' =>o', ' =>C', '01=> ', ' =>i', '1=> R', 'L=> ', '1=>0', ' =>DR', '1=>R', ' 1=>R', 'o=> ', ' =>ae', ' =>AT', ' =>d', ' =>l', ' =>AN', ' =>ar', '1=>E', '1=> 0', ' =>ET', '1=> E', ' =>RT', '1=>T', 'i=> ', ' =>s', '1=>S', ' 1=>E', '1=> S', ' 1=>S', 'A=>E', ' =>ST', '1A=> ', ' =>et', ' A=>E', ' =>EN', '1=>e', 'E=>R', ' E=>R', ' =>AD', 'AE=> ', '1=> e', ' =>NR', ' =>AS', ' 1=>e', '1=>2', '2=>A', ' 1=>T', '1=> T', 'E=> R', '2=> A', ' 2=>A', 'S=>T', ' =>rt', ' S=>T', 'A=>D', 'A=>O', 'A=>L', 'O=>N', 'A=>N', 'a=>n', 'A=>E', 'S=>N', 'o=>n', 'a=>e', 'S=>A', 'a=>l', 'L=>E', 'L=>A', 'R=>E', 'l=>a', 'l=>e', 'R=>N', 'I=>E', 'R=>O', 'O=>A', 'A=>R', 'R=>A', 'N=>O', 'i=>e', 'r=>n', 's=>n', 'A=>I', 'a=>o', 'n=>o', 'r=>e', 'AS=>N', 'O=>R', 'E=>N', 'O=>T', 'a=>i', 'r=>o', 'N=>T', 'a=>r', 'r=>a', 'N=>E', 'e=>n', 'o=>t', 'n=>t', 'C=>O', 'N=>A', 'L=>O', 'S=>T', 'E=>R', 'T=>O', 'I=>N', 'S=>E', 'A=>T', 'e=>r', 'o=>r', 'S=>AN', 'S=>O', 'L=>N', 't=>o', 'n=>a', 'n=>e', 'a=>d', 'i=>n', 'A=>S', 'E=>A', 'E=>O', 'E=>L', 'R=>T', 'a=>t', 'C=>A', 'S=>I', 'l=>n', 'r=>t', 'T=>A', 'R=>I', 's=>o', 'I=>L', 'e=>a', 'O=>E', 'e=>o', 'AL=>E', 'i=>l', 'o=>a', 's=>e', 'M=>A', 'A=>NO', 'l=>o', 'T=>N', 'E=>T', 'E=>S', 'c=>o', 'O=>L', 's=>t', 'e=>s', 's=>a', 'a=>s', 'a=>no', 'e=>l', 'r=>i', 'e=>t', 'A=>E', 'R=>A', 'A=>I', 'A=>L', 'F=>L', 'C=>A', 'C=>a', 'c=>a', 'T=>X', 'A=>N', 'a=>l', 'L=>I', 'C=>I', 'l=>i', 'A=>R', 'a=>i', 'F=>A', 'C=>L', 'L=>A', 'r=>a', 'A=>S', 'E=>S', 'a=>n', 'e=>s', 'F=>l', 'a=>s', 'l=>a', 'C=>AL', 'a=>r', 'f=>l', 'O=>R', 'AC=>L', 'o=>r', 'AC=>I', 'A=>IL', 'O=>A', 'E=>A', 'A=>O', 'al=>i', 'R=>I', 'C=>AI', 'a=>il', 'o=>a', 'r=>i', 'AL=>I', 'i=>a', 'C=>IL', 'CL=>I', 'C=>AIL', 'e=>a', 'ACL=>I', 'AC=>IL', 'I=>A', 'a=>o', 'FL=>A', 'T=>x', 't=>x', 'T=>E', 'O=>I', 'R=>N', 'I=>O', 'AE=>S', 'L=>O', 'i=>o', 'F=>.', 'l=>o', 'o=>i', 'r=>n', 'OR=>A', 'or=>a', 'R=>AI', 'A=>NO', 'r=>ai', 'O=>N', 'l=>f', 'F=>R', 'L=>R', 'o=>n', 'i=>n', 'o=>ar', 'I=>N', 'O=>AR', 'l=>r', 'c=>i', 'ae=>s', 'F=>O', 'a=>e', 'C=>O', 'ir=>a', 'a=>f', 'IL=>A', 'il=>a', 'L=>AR', 'F=>OR', 'A=>.', 'a=>no', 'LR=>A', 'l=>ar', 'lr=>a', 'f=>a', '3=>5', ' =>5', ' =>1', '9=>1', '9=>0', ' =>9', '9=>5', '9=>2', '9=>3', ' =>2', ' =>3', ' =>0', '3=>2', 'A=> ', ' =>7', 'C=> ', '9=>4', '7=>0', '9=>6', '3=>4', ' C=>9', 'C=>9', 'C=> 9', '3=>0', ' =>4', '2=>0', '3=>1', 'a=> ', '7=>2', '7=>5', ' =>6', '3=>6', ' =>09', '7=>6', '9=>7', '7=>1', '3=>7', ' =>29', ' 9=>0', 'A=>9', ' A=>9', ' =>19', 'a=>9', 'A=> 9', ' =>8', '5=>0', 'F=> ', 'C=>A', ' 9=>1', ' a=>9', 'a=> 9', 'AC=> ', ' =>39', 'C=> A', ' AC=>9', '2=>1', ' 9=>2', 'AC=>9', 'C=>9A', '2=>5', 'C=> 9A', 'AC=> 9', '9=>8', '9=>02', '2=>7', '7=>8', '2=>3', '9=>25', '7=>4', '9=>35', '3=>9', 'F=>3', 'F=> 3', ' F=>3', ' =>59', 'L=> ', '7=>3', '2=>4', 'C=>1', 'C=>0', '5=>3', 'l=> ', ' 9=>5', '2=>6', ' =>49', '3=>8', '9=>01', '2=>8', '9=>05', 'C=> 0', ' C=>0', ' =>79', 'C=>09', '29=>0', '9C=>0', ' C=>09', '5=>6', ' 9C=>0', 'C=> 09', ' C=>1', ' =>4', ' =>0', ' =>2', 'O=> ', ' =>B', 'B=> ', 'P=> ', ' =>1', 'BP=> ', 'P=> B', ' P=>B', 'o=> ', 'B=>O', ' =>5', ' =>3', 'BO=> ', 'P=> O', 'P=>O', 'OP=> ', ' =>O', 'o=>x', 'O=>X', 'B=> O', 'O=> X', 'o=> x', 'X=> ', 'OX=> ', ' =>o', 'B=> X', 'x=> ', 'B=>X', 'BO=>X', 'BX=> ', 'ox=> ', 'BOX=> ', 'B=>OX', 'BO=> X', ' =>6', 'B=> OX', ' O=>B', ' =>X', ' =>BO', 'O=> B', ' =>x', ' O=>X', ' P=>O', ' o=>x', ' =>OX', ' B=>O', ' =>ox', ' =>BX', ' B=>X', ' BO=>X', ' =>BOX', ' B=>OX', 'BP=>X', 'PX=> ', 'P=> X', 'B=>1', 'P=> BO', 'O=> BX', 'BOP=> ', ' O=>BX', ' B=>1', 'OP=> B', 'OP=> X', 'P=> OX', 'B=> 1', ' P=>BO', ' OP=>B', ' P=>1', 'P=>1', 'OPX=> ', ' P=>X', 'BP=>O', ' OP=>X', 'BOP=>X', 'P=> 1', 'BP=>OX', 'BPX=> ', ' P=>OX', 'BP=> O', 'P=> BOX', ' BP=>O', 'BP=> X', 'BOP=> X', 'BP=> OX', ' BP=>X', ' BOP=>X', ' P=>BX', 'OP=> BX', 'O=>1', ' BP=>OX', ' P=>BOX', ' =>1B', ' OP=>BX', 'O=> 1', ' O=>1', ' =>7', ' =>8', ' =>6', ' =>0', ' =>,', ' =>7', ' =>2', ' =>9', ',=> ', ',=> 9', 'A=> ', ',=> 2', ',A=> ', ' =>3', ',=> 3', ' =>C', 'a=> ', 'C=> ', ',=> 7', ',C=> ', ',a=> ', ' =>A', 'L=> ', 'C=>9', ',=> 5', ' =>5', ',C=> 9', 'C=> 9', 'A=> ,', ',C=>9', ' =>9C', ',=> C', ',L=> ', ',=> 9C', ' ,=>C', ' =>4', ' ,=>9C', 'E=> ', 'O=> ', ' =>a', ',=> A', ',=> 0', ',=> 4', 'a=> ,', ' ,=>A', 'l=> ', ' =>1', ',O=> ', ',l=> ', ',=> 1', 'T=> ', ',A=> 9', 'A=>9', 'N=> ', ',E=> ', ',A=>9', 'A=> 9', ',N=> ', 'AL=> ', 'AC=> ', 'O=> ,', ',AC=> ', ',AL=> ', ',=> 29', ',=> a', ' =>29', 'N=> ,', ',T=> ', 'E=> ,', 'o=> ', ' ,=>a', 'S=> ', ',o=> ', ',a=>9', 'F=> ', 'R=> ', ',S=> ', 'e=> ', ' =>9A', ',=> 6', ',e=> ', ',R=> ', 'n=> ', ',n=> ', 'a=>9', 'S=> ,', ',F=> ', 'al=> ', ',al=> ', 'a=> 9', 'AN=> ', ',AN=> ', ',a=> 9', ' =>,9', 'o=> ,', 'C=>A', 'AO=> ', 'n=> ,', 'C=> A', ',AO=> ', 'e=> ,', 'AE=> ', '5=>0', '0=>-', '0=>3', '1=>4', '1=>0', '1=>7', '1=>9', '1=>3', '1=>2', '0=>1', '1=>6', '1=>8', '1=>5', '0=>9', '0=>2', '0=>8', '0=>6', '0=>4', '0=>7', '0=>5', '6=>0', '5=>1', '3=>1', '7=>1', '1=>-', '9=>1', '2=>9', '6=>1', '2=>1', '7=>2', '2=>0', '2=>7', '4=>1', '8=>9', '2=>3', '9=>3', '1=>03', '7=>0', '3=>2', '9=>0', '3=>0', '1=>39', '6=>2', '6=>9', '3=>9', '4=>7', '2=>6', '8=>1', '7=>4', '8=>3', '1=>79', '6=>3', '1=>37', '1=>07', '3=>4', '1=>27', '1=>47', '1=>49', '3=>7', '4=>2', '2=>4', '3=>8', '8=>7', '9=>8', '1=>23', '4=>0', '1=>09', '7=>3', '4=>6', '9=>7', '1=>29', '7=>9', '6=>7', '1=>02', '4=>9', '4=>8', '3=>6', '1=>89', '6=>4', '7=>8', '2=>5', '9=>4', '6=>8', '5=>9', '8=>2', '5=>7', '1=>08', '9=>6', '9=>2', '2=>8', '8=>5', '9=>5', '5=>8', '1=>38', '1=>04', '1=>34', '4=>5', '8=>6', '5=>6', '8=>4', '/=>8', '/=>0', '/=>1', '1=>5', '9=>0', '1=>0', '1=>9', '1=>2', '9=>1', '19=>0', '1=>09', '1=>3', '1=>4', '1=>7', '1=>6', '9=>2', '1=>8', '1=>/', '1=>29', '19=>2', '19=>7', '2=>/', '/=>2', '9=>5', '9=>3', '9=>6', '19=>3', '9=>7', '1=>39', '9=>4', '1=>79', '19=>5', '1=>59', '1=>69', '19=>6', '2=>1', '1=>02', '19=>4', '1=>49', '19=>8', '9=>8', '1=>89', '9=>01', '0=>1', '2=>0', '/=>3', '/=>6', '/=>5', '0=>2', '9=>02', '1=>029', '1=>/2', '19=>02', '/=>7', '01=>2', '1=>03', '1=>/0', '2=>3', '/=>4', '2=>5', '2=>6', '12=>/', '09=>1', '1=>05', '1=>06', '3=>1', '2=>4', '2=>7', '1=>04', '1=>07', '/1=>2', '9=>12', '2=>8', '1=>08', '3=>/', '3=>0', '12=>0', '09=>2', '1=>23', '019=>2', '1=>-', '9=>05', '1=>26', '9=>03', '1=>25', '/=>12', '/1=>0', '1=>27', '1=>039', '19=>03', '0=>3', '1=>24', '1=>059', '9=>06', '9=>07', '19=>05', '1=>069', '1=>28', '1=>079', '19=>06']\n"
     ]
    }
   ],
   "source": [
    "total_schema_all = []\n",
    "total_schema_all.extend(schema_metadata)\n",
    "total_schema_all.extend(rules_names)\n",
    "print total_schema_all"
   ]
  },
  {
   "cell_type": "code",
   "execution_count": 33,
   "metadata": {
    "collapsed": true
   },
   "outputs": [],
   "source": [
    "for nn in range(len(total_schema_all)):\n",
    "    total_schema_all[nn] = str(nn) + \"_\" + total_schema_all[nn]"
   ]
  },
  {
   "cell_type": "code",
   "execution_count": null,
   "metadata": {
    "collapsed": false
   },
   "outputs": [],
   "source": [
    "train_size = 1000\n",
    "\n",
    "our_params = {'eta': 0.1, 'seed': 0, 'subsample': 0.8, 'colsample_bytree': 0.8,\n",
    "                          'objective': 'binary:logistic', 'max_depth': 3, 'min_child_weight': 1}\n",
    "\n",
    "\n",
    "train, train_target, test, test_target = create_data(feature_matrix_all, train_size)\n",
    "xgdmat = xgb.DMatrix(train, train_target, feature_names=total_schema_all)\n",
    "\n",
    "cv_params = {'max_depth': [3,5,7], 'min_child_weight': [1,3,5]}\n",
    "ind_params = {'max_depth': 3, 'learning_rate': 0.1, 'n_estimators': 1000, 'seed':0, 'subsample': 0.8, 'colsample_bytree': 0.8, \n",
    "     'objective': 'binary:logistic'}\n",
    "\n",
    "optimized_GBM = GridSearchCV(xgb.XGBClassifier(**ind_params), \n",
    "                    cv_params, \n",
    "                     scoring = 'f1', cv = 5, n_jobs = 4) \n",
    "\n",
    "optimized_GBM.fit(train, train_target)\n",
    "\n",
    "print \"best scores: \" + str(optimized_GBM.grid_scores_)\n",
    "\n",
    "our_params = optimized_GBM.best_params_\n",
    "\n",
    "print \"train size: \" + str(train_size) + \"best params: \" + str(our_params)"
   ]
  },
  {
   "cell_type": "code",
   "execution_count": null,
   "metadata": {
    "collapsed": true
   },
   "outputs": [],
   "source": []
  },
  {
   "cell_type": "code",
   "execution_count": null,
   "metadata": {
    "collapsed": true
   },
   "outputs": [],
   "source": []
  },
  {
   "cell_type": "code",
   "execution_count": null,
   "metadata": {
    "collapsed": false
   },
   "outputs": [
    {
     "name": "stdout",
     "output_type": "stream",
     "text": [
      "100\n"
     ]
    }
   ],
   "source": [
    "f_scores = []\n",
    "precision_scores = []\n",
    "recall_scores = []\n",
    "\n",
    "models = dict()\n",
    "\n",
    "n = 5\n",
    "for train_size in [100]:\n",
    "    f_current = 0.0\n",
    "    precision_current = 0.0\n",
    "    recall_current = 0.0\n",
    "    \n",
    "    our_params = {'eta': 0.1, 'seed': 0, 'subsample': 0.8, 'colsample_bytree': 0.8,\n",
    "                          'objective': 'binary:logistic', 'max_depth': 3, 'min_child_weight': 1}\n",
    "\n",
    "    for t in range(n):\n",
    "        train, train_target, test, test_target = create_data(feature_matrix_all, train_size)\n",
    "        \n",
    "        print train.shape\n",
    "        \n",
    "        xgdmat = xgb.DMatrix(train, train_target, feature_names=total_schema_all)\n",
    " \n",
    "        final_gb = xgb.train(our_params, xgdmat, num_boost_round=3000)\n",
    "\n",
    "        testdmat = xgb.DMatrix(feature_matrix_all, feature_names=total_schema_all)\n",
    "        y_pred = final_gb.predict(testdmat)\n",
    "\n",
    "        res = (y_pred > 0.5)\n",
    "\n",
    "        print f_current\n",
    "        f_current += f1_score(target, res)\n",
    "        precision_current += precision_score(target, res)\n",
    "        recall_current += recall_score(target, res)\n",
    "        \n",
    "        print final_gb.get_fscore()\n",
    "    \n",
    "    f_scores.append(f_current / n)\n",
    "    precision_scores.append(precision_current / n)\n",
    "    recall_scores.append(recall_current / n)\n",
    "\n",
    "print \"F-Score: \" + str(f_scores)\n",
    "print \"Precision: \" + str(precision_scores)\n",
    "print \"Recall: \" + str(recall_scores)"
   ]
  },
  {
   "cell_type": "code",
   "execution_count": 75,
   "metadata": {
    "collapsed": false
   },
   "outputs": [
    {
     "data": {
      "text/plain": [
       "['0_col_id',\n",
       " '1_col_distinct_values',\n",
       " '2_col_avg_length',\n",
       " '3_col_max_length',\n",
       " '4_val_fraction',\n",
       " '5_val_length',\n",
       " '6_row_avg_fraction',\n",
       " '7_row_avg_length',\n",
       " '8_9=>47',\n",
       " '9_9=>78',\n",
       " '10_9=>4',\n",
       " '11_9=>6',\n",
       " '12_A=>79',\n",
       " '13_A=>9',\n",
       " '14_A=>89',\n",
       " '15_9=>7',\n",
       " '16_9=>8',\n",
       " '17_A=>69',\n",
       " '18_9=>5',\n",
       " '19_A=>59',\n",
       " '20_A=>49',\n",
       " '21_9=>3',\n",
       " '22_A=>39',\n",
       " '23_A=>19',\n",
       " '24_A=>29',\n",
       " '25_9=>1',\n",
       " '26_A=>09',\n",
       " '27_9=>2',\n",
       " '28_9=>0',\n",
       " '29_A=>789',\n",
       " '30_9=>57',\n",
       " '31_9=>67',\n",
       " '32_A=>679',\n",
       " '33_A=>689',\n",
       " '34_9=>68',\n",
       " '35_A=>589',\n",
       " '36_A=>579',\n",
       " '37_9=>56',\n",
       " '38_9=>58',\n",
       " '39_A=>569',\n",
       " '40_A=>489',\n",
       " '41_A=>479',\n",
       " '42_9=>48',\n",
       " '43_9=>14',\n",
       " '44_9=>16',\n",
       " '45_A=>179',\n",
       " '46_9=>45',\n",
       " '47_9=>46',\n",
       " '48_A=>469',\n",
       " '49_A=>459',\n",
       " '50_A=>289',\n",
       " '51_A=>189',\n",
       " '52_A=>389',\n",
       " '53_A=>279',\n",
       " '54_9=>17',\n",
       " '55_9=>18',\n",
       " '56_9=>37',\n",
       " '57_A=>379',\n",
       " '58_9=>38',\n",
       " '59_9=>27',\n",
       " '60_A=>169',\n",
       " '61_A=>369',\n",
       " '62_9=>28',\n",
       " '63_A=>269',\n",
       " '64_A=>159',\n",
       " '65_A=>359',\n",
       " '66_A=>259',\n",
       " '67_9=>15',\n",
       " '68_9=>35',\n",
       " '69_9=>36',\n",
       " '70_9=>26',\n",
       " '71_A=>149',\n",
       " '72_9=>25',\n",
       " '73_A=>349',\n",
       " '74_A=>249',\n",
       " '75_9=>24',\n",
       " '76_9=>07',\n",
       " '77_9=>13',\n",
       " '78_A=>129',\n",
       " '79_9=>34',\n",
       " '80_A=>239',\n",
       " '81_9=>12',\n",
       " '82_A=>139',\n",
       " '83_A=>089',\n",
       " '84_9=>23',\n",
       " '85_A=>079',\n",
       " '86_9=>08',\n",
       " '87_9=>02',\n",
       " '88_9=>04',\n",
       " '89_9=>05',\n",
       " '90_9=>06',\n",
       " '91_A=>069',\n",
       " '92_A=>059',\n",
       " '93_A=>049',\n",
       " '94_9=>01',\n",
       " '95_A=>029',\n",
       " '96_A=>039',\n",
       " '97_A=>019',\n",
       " '98_9=>03',\n",
       " '99_8A=>9',\n",
       " '100_89=>5',\n",
       " '101_7A=>3',\n",
       " '102_7A=>5',\n",
       " '103_7A=>9',\n",
       " '104_7A=>1',\n",
       " '105_79=>3',\n",
       " '106_79=>1',\n",
       " '107_79=>5',\n",
       " '108_H=>A',\n",
       " '109_E=>A',\n",
       " '110_A=>E',\n",
       " '111_A=>R',\n",
       " '112_A=>N',\n",
       " '113_a=>n',\n",
       " '114_I=>A',\n",
       " '115_R=>A',\n",
       " '116_a=>r',\n",
       " '117_i=>a',\n",
       " '118_A=>I',\n",
       " '119_R=>E',\n",
       " '120_a=>e',\n",
       " '121_r=>a',\n",
       " '122_R=>I',\n",
       " '123_A=>L',\n",
       " '124_E=>R',\n",
       " '125_i=>e',\n",
       " '126_a=>i',\n",
       " '127_I=>E',\n",
       " '128_r=>i',\n",
       " '129_N=>A',\n",
       " '130_e=>r',\n",
       " '131_r=>e',\n",
       " '132_L=>E',\n",
       " '133_N=>E',\n",
       " '134_M=>A',\n",
       " '135_L=>A',\n",
       " '136_E=>N',\n",
       " '137_a=>l',\n",
       " '138_E=>L',\n",
       " '139_n=>a',\n",
       " '140_e=>n',\n",
       " '141_R=>N',\n",
       " '142_e=>a',\n",
       " '143_e=>l',\n",
       " '144_l=>a',\n",
       " '145_E=>I',\n",
       " '146_O=>N',\n",
       " '147_R=>O',\n",
       " '148_n=>e',\n",
       " '149_i=>n',\n",
       " '150_r=>n',\n",
       " '151_o=>n',\n",
       " '152_L=>I',\n",
       " '153_I=>N',\n",
       " '154_A=>D',\n",
       " '155_D=>A',\n",
       " '156_C=>A',\n",
       " '157_S=>A',\n",
       " '158_e=>i',\n",
       " '159_l=>i',\n",
       " '160_r=>o',\n",
       " '161_l=>e',\n",
       " '162_M=>I',\n",
       " '163_O=>E',\n",
       " '164_o=>e',\n",
       " '165_M=>E',\n",
       " '166_A=>O',\n",
       " '167_H=>E',\n",
       " '168_C=>E',\n",
       " '169_O=>A',\n",
       " '170_a=>d',\n",
       " '171_J=>E',\n",
       " '172_T=>A',\n",
       " '173_N=>I',\n",
       " '174_S=>E',\n",
       " '175_R=>AI',\n",
       " '176_I=>L',\n",
       " '177_A=>EL',\n",
       " '178_h=>a',\n",
       " '179_M=>R',\n",
       " '180_d=>a',\n",
       " '181_i=>l',\n",
       " '182_A=>EN',\n",
       " '183_O=>R',\n",
       " '184_o=>a',\n",
       " '185_I=>C',\n",
       " '186_c=>a',\n",
       " '187_L=>N',\n",
       " '188_m=>a',\n",
       " '189_h=>e',\n",
       " '190_A=>T',\n",
       " '191_IR=>A',\n",
       " '192_s=>a',\n",
       " '193_n=>i',\n",
       " '194_r=>ai',\n",
       " '195_R=>L',\n",
       " '196_o=>r',\n",
       " '197_i=>c',\n",
       " '198_AR=>I',\n",
       " '199_R=>Y',\n",
       " '200_AR=>N',\n",
       " '201_a=>o',\n",
       " '202_IL=>A',\n",
       " '203_s=>e',\n",
       " '204_a=>el',\n",
       " '205_ar=>i',\n",
       " '206_l=>n',\n",
       " '207_E=>T',\n",
       " '208_E=>L',\n",
       " '209_A=>D',\n",
       " '210_W=>N',\n",
       " '211_A=>R',\n",
       " '212_A=>E',\n",
       " '213_a=>e',\n",
       " '214_A=>N',\n",
       " '215_a=>n',\n",
       " '216_E=>R',\n",
       " '217_A=>L',\n",
       " '218_N=>E',\n",
       " '219_n=>e',\n",
       " '220_e=>r',\n",
       " '221_a=>r',\n",
       " '222_L=>N',\n",
       " '223_a=>l',\n",
       " '224_R=>E',\n",
       " '225_a=>en',\n",
       " '226_an=>e',\n",
       " '227_E=>N',\n",
       " '228_R=>O',\n",
       " '229_r=>e',\n",
       " '230_W=>A',\n",
       " '231_l=>n',\n",
       " '232_R=>N',\n",
       " '233_A=>EN',\n",
       " '234_a=>y',\n",
       " '235_AN=>E',\n",
       " '236_r=>o',\n",
       " '237_A=>Y',\n",
       " '238_e=>n',\n",
       " '239_l=>a',\n",
       " '240_A=>LN',\n",
       " '241_E=>O',\n",
       " '242_L=>O',\n",
       " '243_a=>ey',\n",
       " '244_L=>E',\n",
       " '245_L=>A',\n",
       " '246_D=>E',\n",
       " '247_o=>n',\n",
       " '248_y=>n',\n",
       " '249_W=>E',\n",
       " '250_r=>n',\n",
       " '251_A=>EY',\n",
       " '252_a=>eny',\n",
       " '253_AW=>N',\n",
       " '254_O=>N',\n",
       " '255_AL=>N',\n",
       " '256_y=>e',\n",
       " '257_W=>AN',\n",
       " '258_W=>EN',\n",
       " '259_ay=>n',\n",
       " '260_AW=>E',\n",
       " '261_W=>AE',\n",
       " '262_B=>R',\n",
       " '263_A=>O',\n",
       " '264_e=>o',\n",
       " '265_Y=>E',\n",
       " '266_Y=>N',\n",
       " '267_ny=>e',\n",
       " '268_any=>e',\n",
       " '269_l=>o',\n",
       " '270_ay=>en',\n",
       " '271_e=>l',\n",
       " '272_y=>en',\n",
       " '273_E=>T',\n",
       " '274_l=>e',\n",
       " '275_R=>D',\n",
       " '276_W=>AEN',\n",
       " '277_AW=>EN',\n",
       " '278_A=>ENY',\n",
       " '279_AY=>N',\n",
       " '280_al=>n',\n",
       " '281_ANW=>E',\n",
       " '282_u=>e',\n",
       " '283_R=>A',\n",
       " '284_ANY=>E',\n",
       " '285_AY=>EN',\n",
       " '286_WY=>EN',\n",
       " '287_AW=>ENY',\n",
       " '288_NY=>E',\n",
       " '289_NW=>E',\n",
       " '290_r=>t',\n",
       " '291_Y=>EN',\n",
       " '292_W=>AENY',\n",
       " '293_R=>I',\n",
       " '294_I=>N',\n",
       " '295_i=>e',\n",
       " '296_a=>o',\n",
       " '297_R=>T',\n",
       " '298_r=>i',\n",
       " '299_e=>t',\n",
       " '300_E=>OR',\n",
       " '301_a=>d',\n",
       " '302_ER=>O',\n",
       " '303_AE=>R',\n",
       " '304_a=>ln',\n",
       " '305_L=>AN',\n",
       " '306_L=>R',\n",
       " '307_A=>D',\n",
       " '308_E=>A',\n",
       " '309_R=>A',\n",
       " '310_A=>E',\n",
       " '311_E=>R',\n",
       " '312_A=>N',\n",
       " '313_a=>n',\n",
       " '314_R=>E',\n",
       " '315_a=>e',\n",
       " '316_e=>r',\n",
       " '317_A=>R',\n",
       " '318_a=>r',\n",
       " '319_O=>N',\n",
       " '320_r=>e',\n",
       " '321_o=>n',\n",
       " '322_A=>S',\n",
       " '323_L=>E',\n",
       " '324_E=>N',\n",
       " '325_N=>E',\n",
       " '326_r=>a',\n",
       " '327_e=>n',\n",
       " '328_R=>N',\n",
       " '329_a=>s',\n",
       " '330_A=>L',\n",
       " '331_O=>E',\n",
       " '332_R=>O',\n",
       " '333_l=>e',\n",
       " '334_n=>e',\n",
       " '335_I=>N',\n",
       " '336_r=>n',\n",
       " '337_i=>n',\n",
       " '338_a=>l',\n",
       " '339_E=>S',\n",
       " '340_o=>e',\n",
       " '341_I=>A',\n",
       " '342_O=>R',\n",
       " '343_A=>I',\n",
       " '344_I=>E',\n",
       " '345_A=>O',\n",
       " '346_R=>I',\n",
       " '347_e=>s',\n",
       " '348_i=>e',\n",
       " '349_L=>A',\n",
       " '350_a=>o',\n",
       " '351_r=>o',\n",
       " '352_e=>a',\n",
       " '353_S=>N',\n",
       " '354_r=>i',\n",
       " '355_a=>i',\n",
       " '356_R=>S',\n",
       " '357_O=>S',\n",
       " '358_o=>r',\n",
       " '359_l=>a',\n",
       " '360_o=>s',\n",
       " '361_S=>O',\n",
       " '362_I=>S',\n",
       " '363_T=>E',\n",
       " '364_i=>s',\n",
       " '365_i=>a',\n",
       " '366_r=>s',\n",
       " '367_C=>A',\n",
       " '368_M=>A',\n",
       " '369_L=>O',\n",
       " '370_N=>A',\n",
       " '371_S=>E',\n",
       " '372_s=>n',\n",
       " '373_S=>A',\n",
       " '374_H=>A',\n",
       " '375_O=>A',\n",
       " '376_t=>e',\n",
       " '377_M=>E',\n",
       " '378_L=>N',\n",
       " '379_A=>ER',\n",
       " '380_A=>T',\n",
       " '381_E=>L',\n",
       " '382_M=>N',\n",
       " '383_D=>E',\n",
       " '384_n=>a',\n",
       " '385_H=>E',\n",
       " '386_C=>E',\n",
       " '387_E=>Z',\n",
       " '388_o=>a',\n",
       " '389_I=>L',\n",
       " '390_s=>o',\n",
       " '391_E=>O',\n",
       " '392_a=>d',\n",
       " '393_e=>l',\n",
       " '394_N=>O',\n",
       " '395_AR=>N',\n",
       " '396_i=>l',\n",
       " '397_a=>t',\n",
       " '398_l=>o',\n",
       " '399_N=>S',\n",
       " '400_l=>n',\n",
       " '401_n=>o',\n",
       " '402_e=>z',\n",
       " '403_AR=>E',\n",
       " '404_a=>er',\n",
       " '405_e=>o',\n",
       " '406_A=>EN',\n",
       " '407_I=> ',\n",
       " '408_7=> ',\n",
       " '409_3=> ',\n",
       " '410_2=> ',\n",
       " '411_1=> ',\n",
       " '412_0=> ',\n",
       " '413_ =>A',\n",
       " '414_ =>E',\n",
       " '415_ =>R',\n",
       " '416_ =>D',\n",
       " '417_4=> ',\n",
       " '418_ =>S',\n",
       " '419_A=> ',\n",
       " '420_5=> ',\n",
       " '421_ =>e',\n",
       " '422_ =>a',\n",
       " '423_ =>T',\n",
       " '424_ =>r',\n",
       " '425_E=> ',\n",
       " '426_6=> ',\n",
       " '427_a=> ',\n",
       " '428_ =>t',\n",
       " '429_ =>N',\n",
       " '430_e=> ',\n",
       " '431_R=> ',\n",
       " '432_ =>L',\n",
       " '433_N=> ',\n",
       " '434_ =>I',\n",
       " '435_ =>O',\n",
       " '436_T=> ',\n",
       " '437_ =>AE',\n",
       " '438_ =>n',\n",
       " '439_S=> ',\n",
       " '440_ =>AR',\n",
       " '441_ =>ER',\n",
       " '442_r=> ',\n",
       " '443_8=> ',\n",
       " '444_t=> ',\n",
       " '445_1=> A',\n",
       " '446_1=>A',\n",
       " '447_n=> ',\n",
       " '448_ 1=>A',\n",
       " '449_9=> ',\n",
       " '450_O=> ',\n",
       " '451_ =>er',\n",
       " '452_12=> ',\n",
       " '453_ =>o',\n",
       " '454_ =>C',\n",
       " '455_01=> ',\n",
       " '456_ =>i',\n",
       " '457_1=> R',\n",
       " '458_L=> ',\n",
       " '459_1=>0',\n",
       " '460_ =>DR',\n",
       " '461_1=>R',\n",
       " '462_ 1=>R',\n",
       " '463_o=> ',\n",
       " '464_ =>ae',\n",
       " '465_ =>AT',\n",
       " '466_ =>d',\n",
       " '467_ =>l',\n",
       " '468_ =>AN',\n",
       " '469_ =>ar',\n",
       " '470_1=>E',\n",
       " '471_1=> 0',\n",
       " '472_ =>ET',\n",
       " '473_1=> E',\n",
       " '474_ =>RT',\n",
       " '475_1=>T',\n",
       " '476_i=> ',\n",
       " '477_ =>s',\n",
       " '478_1=>S',\n",
       " '479_ 1=>E',\n",
       " '480_1=> S',\n",
       " '481_ 1=>S',\n",
       " '482_A=>E',\n",
       " '483_ =>ST',\n",
       " '484_1A=> ',\n",
       " '485_ =>et',\n",
       " '486_ A=>E',\n",
       " '487_ =>EN',\n",
       " '488_1=>e',\n",
       " '489_E=>R',\n",
       " '490_ E=>R',\n",
       " '491_ =>AD',\n",
       " '492_AE=> ',\n",
       " '493_1=> e',\n",
       " '494_ =>NR',\n",
       " '495_ =>AS',\n",
       " '496_ 1=>e',\n",
       " '497_1=>2',\n",
       " '498_2=>A',\n",
       " '499_ 1=>T',\n",
       " '500_1=> T',\n",
       " '501_E=> R',\n",
       " '502_2=> A',\n",
       " '503_ 2=>A',\n",
       " '504_S=>T',\n",
       " '505_ =>rt',\n",
       " '506_ S=>T',\n",
       " '507_A=>D',\n",
       " '508_A=>O',\n",
       " '509_A=>L',\n",
       " '510_O=>N',\n",
       " '511_A=>N',\n",
       " '512_a=>n',\n",
       " '513_A=>E',\n",
       " '514_S=>N',\n",
       " '515_o=>n',\n",
       " '516_a=>e',\n",
       " '517_S=>A',\n",
       " '518_a=>l',\n",
       " '519_L=>E',\n",
       " '520_L=>A',\n",
       " '521_R=>E',\n",
       " '522_l=>a',\n",
       " '523_l=>e',\n",
       " '524_R=>N',\n",
       " '525_I=>E',\n",
       " '526_R=>O',\n",
       " '527_O=>A',\n",
       " '528_A=>R',\n",
       " '529_R=>A',\n",
       " '530_N=>O',\n",
       " '531_i=>e',\n",
       " '532_r=>n',\n",
       " '533_s=>n',\n",
       " '534_A=>I',\n",
       " '535_a=>o',\n",
       " '536_n=>o',\n",
       " '537_r=>e',\n",
       " '538_AS=>N',\n",
       " '539_O=>R',\n",
       " '540_E=>N',\n",
       " '541_O=>T',\n",
       " '542_a=>i',\n",
       " '543_r=>o',\n",
       " '544_N=>T',\n",
       " '545_a=>r',\n",
       " '546_r=>a',\n",
       " '547_N=>E',\n",
       " '548_e=>n',\n",
       " '549_o=>t',\n",
       " '550_n=>t',\n",
       " '551_C=>O',\n",
       " '552_N=>A',\n",
       " '553_L=>O',\n",
       " '554_S=>T',\n",
       " '555_E=>R',\n",
       " '556_T=>O',\n",
       " '557_I=>N',\n",
       " '558_S=>E',\n",
       " '559_A=>T',\n",
       " '560_e=>r',\n",
       " '561_o=>r',\n",
       " '562_S=>AN',\n",
       " '563_S=>O',\n",
       " '564_L=>N',\n",
       " '565_t=>o',\n",
       " '566_n=>a',\n",
       " '567_n=>e',\n",
       " '568_a=>d',\n",
       " '569_i=>n',\n",
       " '570_A=>S',\n",
       " '571_E=>A',\n",
       " '572_E=>O',\n",
       " '573_E=>L',\n",
       " '574_R=>T',\n",
       " '575_a=>t',\n",
       " '576_C=>A',\n",
       " '577_S=>I',\n",
       " '578_l=>n',\n",
       " '579_r=>t',\n",
       " '580_T=>A',\n",
       " '581_R=>I',\n",
       " '582_s=>o',\n",
       " '583_I=>L',\n",
       " '584_e=>a',\n",
       " '585_O=>E',\n",
       " '586_e=>o',\n",
       " '587_AL=>E',\n",
       " '588_i=>l',\n",
       " '589_o=>a',\n",
       " '590_s=>e',\n",
       " '591_M=>A',\n",
       " '592_A=>NO',\n",
       " '593_l=>o',\n",
       " '594_T=>N',\n",
       " '595_E=>T',\n",
       " '596_E=>S',\n",
       " '597_c=>o',\n",
       " '598_O=>L',\n",
       " '599_s=>t',\n",
       " '600_e=>s',\n",
       " '601_s=>a',\n",
       " '602_a=>s',\n",
       " '603_a=>no',\n",
       " '604_e=>l',\n",
       " '605_r=>i',\n",
       " '606_e=>t',\n",
       " '607_A=>E',\n",
       " '608_R=>A',\n",
       " '609_A=>I',\n",
       " '610_A=>L',\n",
       " '611_F=>L',\n",
       " '612_C=>A',\n",
       " '613_C=>a',\n",
       " '614_c=>a',\n",
       " '615_T=>X',\n",
       " '616_A=>N',\n",
       " '617_a=>l',\n",
       " '618_L=>I',\n",
       " '619_C=>I',\n",
       " '620_l=>i',\n",
       " '621_A=>R',\n",
       " '622_a=>i',\n",
       " '623_F=>A',\n",
       " '624_C=>L',\n",
       " '625_L=>A',\n",
       " '626_r=>a',\n",
       " '627_A=>S',\n",
       " '628_E=>S',\n",
       " '629_a=>n',\n",
       " '630_e=>s',\n",
       " '631_F=>l',\n",
       " '632_a=>s',\n",
       " '633_l=>a',\n",
       " '634_C=>AL',\n",
       " '635_a=>r',\n",
       " '636_f=>l',\n",
       " '637_O=>R',\n",
       " '638_AC=>L',\n",
       " '639_o=>r',\n",
       " '640_AC=>I',\n",
       " '641_A=>IL',\n",
       " '642_O=>A',\n",
       " '643_E=>A',\n",
       " '644_A=>O',\n",
       " '645_al=>i',\n",
       " '646_R=>I',\n",
       " '647_C=>AI',\n",
       " '648_a=>il',\n",
       " '649_o=>a',\n",
       " '650_r=>i',\n",
       " '651_AL=>I',\n",
       " '652_i=>a',\n",
       " '653_C=>IL',\n",
       " '654_CL=>I',\n",
       " '655_C=>AIL',\n",
       " '656_e=>a',\n",
       " '657_ACL=>I',\n",
       " '658_AC=>IL',\n",
       " '659_I=>A',\n",
       " '660_a=>o',\n",
       " '661_FL=>A',\n",
       " '662_T=>x',\n",
       " '663_t=>x',\n",
       " '664_T=>E',\n",
       " '665_O=>I',\n",
       " '666_R=>N',\n",
       " '667_I=>O',\n",
       " '668_AE=>S',\n",
       " '669_L=>O',\n",
       " '670_i=>o',\n",
       " '671_F=>.',\n",
       " '672_l=>o',\n",
       " '673_o=>i',\n",
       " '674_r=>n',\n",
       " '675_OR=>A',\n",
       " '676_or=>a',\n",
       " '677_R=>AI',\n",
       " '678_A=>NO',\n",
       " '679_r=>ai',\n",
       " '680_O=>N',\n",
       " '681_l=>f',\n",
       " '682_F=>R',\n",
       " '683_L=>R',\n",
       " '684_o=>n',\n",
       " '685_i=>n',\n",
       " '686_o=>ar',\n",
       " '687_I=>N',\n",
       " '688_O=>AR',\n",
       " '689_l=>r',\n",
       " '690_c=>i',\n",
       " '691_ae=>s',\n",
       " '692_F=>O',\n",
       " '693_a=>e',\n",
       " '694_C=>O',\n",
       " '695_ir=>a',\n",
       " '696_a=>f',\n",
       " '697_IL=>A',\n",
       " '698_il=>a',\n",
       " '699_L=>AR',\n",
       " '700_F=>OR',\n",
       " '701_A=>.',\n",
       " '702_a=>no',\n",
       " '703_LR=>A',\n",
       " '704_l=>ar',\n",
       " '705_lr=>a',\n",
       " '706_f=>a',\n",
       " '707_3=>5',\n",
       " '708_ =>5',\n",
       " '709_ =>1',\n",
       " '710_9=>1',\n",
       " '711_9=>0',\n",
       " '712_ =>9',\n",
       " '713_9=>5',\n",
       " '714_9=>2',\n",
       " '715_9=>3',\n",
       " '716_ =>2',\n",
       " '717_ =>3',\n",
       " '718_ =>0',\n",
       " '719_3=>2',\n",
       " '720_A=> ',\n",
       " '721_ =>7',\n",
       " '722_C=> ',\n",
       " '723_9=>4',\n",
       " '724_7=>0',\n",
       " '725_9=>6',\n",
       " '726_3=>4',\n",
       " '727_ C=>9',\n",
       " '728_C=>9',\n",
       " '729_C=> 9',\n",
       " '730_3=>0',\n",
       " '731_ =>4',\n",
       " '732_2=>0',\n",
       " '733_3=>1',\n",
       " '734_a=> ',\n",
       " '735_7=>2',\n",
       " '736_7=>5',\n",
       " '737_ =>6',\n",
       " '738_3=>6',\n",
       " '739_ =>09',\n",
       " '740_7=>6',\n",
       " '741_9=>7',\n",
       " '742_7=>1',\n",
       " '743_3=>7',\n",
       " '744_ =>29',\n",
       " '745_ 9=>0',\n",
       " '746_A=>9',\n",
       " '747_ A=>9',\n",
       " '748_ =>19',\n",
       " '749_a=>9',\n",
       " '750_A=> 9',\n",
       " '751_ =>8',\n",
       " '752_5=>0',\n",
       " '753_F=> ',\n",
       " '754_C=>A',\n",
       " '755_ 9=>1',\n",
       " '756_ a=>9',\n",
       " '757_a=> 9',\n",
       " '758_AC=> ',\n",
       " '759_ =>39',\n",
       " '760_C=> A',\n",
       " '761_ AC=>9',\n",
       " '762_2=>1',\n",
       " '763_ 9=>2',\n",
       " '764_AC=>9',\n",
       " '765_C=>9A',\n",
       " '766_2=>5',\n",
       " '767_C=> 9A',\n",
       " '768_AC=> 9',\n",
       " '769_9=>8',\n",
       " '770_9=>02',\n",
       " '771_2=>7',\n",
       " '772_7=>8',\n",
       " '773_2=>3',\n",
       " '774_9=>25',\n",
       " '775_7=>4',\n",
       " '776_9=>35',\n",
       " '777_3=>9',\n",
       " '778_F=>3',\n",
       " '779_F=> 3',\n",
       " '780_ F=>3',\n",
       " '781_ =>59',\n",
       " '782_L=> ',\n",
       " '783_7=>3',\n",
       " '784_2=>4',\n",
       " '785_C=>1',\n",
       " '786_C=>0',\n",
       " '787_5=>3',\n",
       " '788_l=> ',\n",
       " '789_ 9=>5',\n",
       " '790_2=>6',\n",
       " '791_ =>49',\n",
       " '792_3=>8',\n",
       " '793_9=>01',\n",
       " '794_2=>8',\n",
       " '795_9=>05',\n",
       " '796_C=> 0',\n",
       " '797_ C=>0',\n",
       " '798_ =>79',\n",
       " '799_C=>09',\n",
       " '800_29=>0',\n",
       " '801_9C=>0',\n",
       " '802_ C=>09',\n",
       " '803_5=>6',\n",
       " '804_ 9C=>0',\n",
       " '805_C=> 09',\n",
       " '806_ C=>1',\n",
       " '807_ =>4',\n",
       " '808_ =>0',\n",
       " '809_ =>2',\n",
       " '810_O=> ',\n",
       " '811_ =>B',\n",
       " '812_B=> ',\n",
       " '813_P=> ',\n",
       " '814_ =>1',\n",
       " '815_BP=> ',\n",
       " '816_P=> B',\n",
       " '817_ P=>B',\n",
       " '818_o=> ',\n",
       " '819_B=>O',\n",
       " '820_ =>5',\n",
       " '821_ =>3',\n",
       " '822_BO=> ',\n",
       " '823_P=> O',\n",
       " '824_P=>O',\n",
       " '825_OP=> ',\n",
       " '826_ =>O',\n",
       " '827_o=>x',\n",
       " '828_O=>X',\n",
       " '829_B=> O',\n",
       " '830_O=> X',\n",
       " '831_o=> x',\n",
       " '832_X=> ',\n",
       " '833_OX=> ',\n",
       " '834_ =>o',\n",
       " '835_B=> X',\n",
       " '836_x=> ',\n",
       " '837_B=>X',\n",
       " '838_BO=>X',\n",
       " '839_BX=> ',\n",
       " '840_ox=> ',\n",
       " '841_BOX=> ',\n",
       " '842_B=>OX',\n",
       " '843_BO=> X',\n",
       " '844_ =>6',\n",
       " '845_B=> OX',\n",
       " '846_ O=>B',\n",
       " '847_ =>X',\n",
       " '848_ =>BO',\n",
       " '849_O=> B',\n",
       " '850_ =>x',\n",
       " '851_ O=>X',\n",
       " '852_ P=>O',\n",
       " '853_ o=>x',\n",
       " '854_ =>OX',\n",
       " '855_ B=>O',\n",
       " '856_ =>ox',\n",
       " '857_ =>BX',\n",
       " '858_ B=>X',\n",
       " '859_ BO=>X',\n",
       " '860_ =>BOX',\n",
       " '861_ B=>OX',\n",
       " '862_BP=>X',\n",
       " '863_PX=> ',\n",
       " '864_P=> X',\n",
       " '865_B=>1',\n",
       " '866_P=> BO',\n",
       " '867_O=> BX',\n",
       " '868_BOP=> ',\n",
       " '869_ O=>BX',\n",
       " '870_ B=>1',\n",
       " '871_OP=> B',\n",
       " '872_OP=> X',\n",
       " '873_P=> OX',\n",
       " '874_B=> 1',\n",
       " '875_ P=>BO',\n",
       " '876_ OP=>B',\n",
       " '877_ P=>1',\n",
       " '878_P=>1',\n",
       " '879_OPX=> ',\n",
       " '880_ P=>X',\n",
       " '881_BP=>O',\n",
       " '882_ OP=>X',\n",
       " '883_BOP=>X',\n",
       " '884_P=> 1',\n",
       " '885_BP=>OX',\n",
       " '886_BPX=> ',\n",
       " '887_ P=>OX',\n",
       " '888_BP=> O',\n",
       " '889_P=> BOX',\n",
       " '890_ BP=>O',\n",
       " '891_BP=> X',\n",
       " '892_BOP=> X',\n",
       " '893_BP=> OX',\n",
       " '894_ BP=>X',\n",
       " '895_ BOP=>X',\n",
       " '896_ P=>BX',\n",
       " '897_OP=> BX',\n",
       " '898_O=>1',\n",
       " '899_ BP=>OX',\n",
       " '900_ P=>BOX',\n",
       " '901_ =>1B',\n",
       " '902_ OP=>BX',\n",
       " '903_O=> 1',\n",
       " '904_ O=>1',\n",
       " '905_ =>7',\n",
       " '906_ =>8',\n",
       " '907_ =>6',\n",
       " '908_ =>0',\n",
       " '909_ =>,',\n",
       " '910_ =>7',\n",
       " '911_ =>2',\n",
       " '912_ =>9',\n",
       " '913_,=> ',\n",
       " '914_,=> 9',\n",
       " '915_A=> ',\n",
       " '916_,=> 2',\n",
       " '917_,A=> ',\n",
       " '918_ =>3',\n",
       " '919_,=> 3',\n",
       " '920_ =>C',\n",
       " '921_a=> ',\n",
       " '922_C=> ',\n",
       " '923_,=> 7',\n",
       " '924_,C=> ',\n",
       " '925_,a=> ',\n",
       " '926_ =>A',\n",
       " '927_L=> ',\n",
       " '928_C=>9',\n",
       " '929_,=> 5',\n",
       " '930_ =>5',\n",
       " '931_,C=> 9',\n",
       " '932_C=> 9',\n",
       " '933_A=> ,',\n",
       " '934_,C=>9',\n",
       " '935_ =>9C',\n",
       " '936_,=> C',\n",
       " '937_,L=> ',\n",
       " '938_,=> 9C',\n",
       " '939_ ,=>C',\n",
       " '940_ =>4',\n",
       " '941_ ,=>9C',\n",
       " '942_E=> ',\n",
       " '943_O=> ',\n",
       " '944_ =>a',\n",
       " '945_,=> A',\n",
       " '946_,=> 0',\n",
       " '947_,=> 4',\n",
       " '948_a=> ,',\n",
       " '949_ ,=>A',\n",
       " '950_l=> ',\n",
       " '951_ =>1',\n",
       " '952_,O=> ',\n",
       " '953_,l=> ',\n",
       " '954_,=> 1',\n",
       " '955_T=> ',\n",
       " '956_,A=> 9',\n",
       " '957_A=>9',\n",
       " '958_N=> ',\n",
       " '959_,E=> ',\n",
       " '960_,A=>9',\n",
       " '961_A=> 9',\n",
       " '962_,N=> ',\n",
       " '963_AL=> ',\n",
       " '964_AC=> ',\n",
       " '965_O=> ,',\n",
       " '966_,AC=> ',\n",
       " '967_,AL=> ',\n",
       " '968_,=> 29',\n",
       " '969_,=> a',\n",
       " '970_ =>29',\n",
       " '971_N=> ,',\n",
       " '972_,T=> ',\n",
       " '973_E=> ,',\n",
       " '974_o=> ',\n",
       " '975_ ,=>a',\n",
       " '976_S=> ',\n",
       " '977_,o=> ',\n",
       " '978_,a=>9',\n",
       " '979_F=> ',\n",
       " '980_R=> ',\n",
       " '981_,S=> ',\n",
       " '982_e=> ',\n",
       " '983_ =>9A',\n",
       " '984_,=> 6',\n",
       " '985_,e=> ',\n",
       " '986_,R=> ',\n",
       " '987_n=> ',\n",
       " '988_,n=> ',\n",
       " '989_a=>9',\n",
       " '990_S=> ,',\n",
       " '991_,F=> ',\n",
       " '992_al=> ',\n",
       " '993_,al=> ',\n",
       " '994_a=> 9',\n",
       " '995_AN=> ',\n",
       " '996_,AN=> ',\n",
       " '997_,a=> 9',\n",
       " '998_ =>,9',\n",
       " '999_o=> ,',\n",
       " ...]"
      ]
     },
     "execution_count": 75,
     "metadata": {},
     "output_type": "execute_result"
    }
   ],
   "source": [
    "final_gb.feature_names"
   ]
  },
  {
   "cell_type": "code",
   "execution_count": 73,
   "metadata": {
    "collapsed": false
   },
   "outputs": [
    {
     "data": {
      "text/plain": [
       "{'0_col_id': 352,\n",
       " '1_col_distinct_values': 275,\n",
       " '2_col_avg_length': 161,\n",
       " '3_col_max_length': 138,\n",
       " '4_val_fraction': 875,\n",
       " '5_val_length': 300,\n",
       " '6_row_avg_fraction': 921,\n",
       " '7_row_avg_length': 522}"
      ]
     },
     "execution_count": 73,
     "metadata": {},
     "output_type": "execute_result"
    }
   ],
   "source": [
    "importances = final_gb.get_fscore()\n",
    "importances"
   ]
  },
  {
   "cell_type": "code",
   "execution_count": 74,
   "metadata": {
    "collapsed": false
   },
   "outputs": [
    {
     "data": {
      "text/plain": [
       "<matplotlib.axes.AxesSubplot at 0x7f7e6a976ad0>"
      ]
     },
     "execution_count": 74,
     "metadata": {},
     "output_type": "execute_result"
    },
    {
     "data": {
      "image/png": "[encoded data removed]",
      "text/plain": [
       "<matplotlib.figure.Figure at 0x7f7e937d42d0>"
      ]
     },
     "metadata": {},
     "output_type": "display_data"
    }
   ],
   "source": [
    "%matplotlib inline  \n",
    "importance_frame = pd.DataFrame({'Importance': list(importances.values()), 'Feature': list(importances.keys())})\n",
    "importance_frame.sort_values(by = 'Importance', inplace = True)\n",
    "importance_frame.plot(kind = 'barh', x = 'Feature', figsize = (8,8), color = 'orange')"
   ]
  },
  {
   "cell_type": "code",
   "execution_count": 60,
   "metadata": {
    "collapsed": false
   },
   "outputs": [
    {
     "name": "stdout",
     "output_type": "stream",
     "text": [
      "train size: 8best params: {'colsample_bytree': 0.8, 'min_child_weight': 1, 'subsample': 0.8, 'eta': 0.1, 'objective': 'binary:logistic', 'seed': 0, 'max_depth': 3}\n",
      "(1131672, 15)\n",
      "(96, 15)\n",
      "(1131672, 15)\n",
      "1 - F-Score: 0.856209017641\n",
      "1 - Precision: 0.832816229411\n",
      "1 - Recall: 0.880953935087\n"
     ]
    },
    {
     "data": {
      "image/png": "[encoded data removed]",
      "text/plain": [
       "<matplotlib.figure.Figure at 0x7ffc23df4e90>"
      ]
     },
     "metadata": {},
     "output_type": "display_data"
    },
    {
     "name": "stdout",
     "output_type": "stream",
     "text": [
      "196\n",
      "196\n",
      "2 - F-Score: 0.822315242863\n",
      "2 - Precision: 0.805219471547\n",
      "2 - Recall: 0.840152688099\n"
     ]
    },
    {
     "data": {
      "image/png": "[encoded data removed]",
      "text/plain": [
       "<matplotlib.figure.Figure at 0x7ffc265b8d10>"
      ]
     },
     "metadata": {},
     "output_type": "display_data"
    },
    {
     "name": "stdout",
     "output_type": "stream",
     "text": [
      "296\n",
      "296\n",
      "2 - F-Score: 0.864649891333\n",
      "2 - Precision: 0.847587400311\n",
      "2 - Recall: 0.882413453681\n"
     ]
    },
    {
     "data": {
      "image/png": "[encoded data removed]",
      "text/plain": [
       "<matplotlib.figure.Figure at 0x7ffc24007fd0>"
      ]
     },
     "metadata": {},
     "output_type": "display_data"
    },
    {
     "name": "stdout",
     "output_type": "stream",
     "text": [
      "396\n",
      "396\n",
      "2 - F-Score: 0.898607487466\n",
      "2 - Precision: 0.85534387889\n",
      "2 - Recall: 0.946480836965\n"
     ]
    },
    {
     "data": {
      "image/png": "[encoded data removed]",
      "text/plain": [
       "<matplotlib.figure.Figure at 0x7ffc23f933d0>"
      ]
     },
     "metadata": {},
     "output_type": "display_data"
    },
    {
     "name": "stdout",
     "output_type": "stream",
     "text": [
      "496\n",
      "496\n",
      "2 - F-Score: 0.912982638119\n",
      "2 - Precision: 0.8775431076\n",
      "2 - Recall: 0.951405080378\n"
     ]
    },
    {
     "data": {
      "image/png": "[encoded data removed]",
      "text/plain": [
       "<matplotlib.figure.Figure at 0x7ffc242b0850>"
      ]
     },
     "metadata": {},
     "output_type": "display_data"
    },
    {
     "name": "stdout",
     "output_type": "stream",
     "text": [
      "596\n",
      "596\n",
      "2 - F-Score: 0.928010882859\n",
      "2 - Precision: 0.888900843261\n",
      "2 - Recall: 0.970720855972\n"
     ]
    },
    {
     "data": {
      "image/png": "[encoded data removed]",
      "text/plain": [
       "<matplotlib.figure.Figure at 0x7ffc827c9d10>"
      ]
     },
     "metadata": {},
     "output_type": "display_data"
    },
    {
     "name": "stdout",
     "output_type": "stream",
     "text": [
      "696\n",
      "696\n",
      "2 - F-Score: 0.931551662069\n",
      "2 - Precision: 0.896443004543\n",
      "2 - Recall: 0.969522431939\n"
     ]
    },
    {
     "data": {
      "image/png": "[encoded data removed]",
      "text/plain": [
       "<matplotlib.figure.Figure at 0x7ffc43c1bd50>"
      ]
     },
     "metadata": {},
     "output_type": "display_data"
    },
    {
     "name": "stdout",
     "output_type": "stream",
     "text": [
      "796\n",
      "796\n",
      "2 - F-Score: 0.938572273589\n",
      "2 - Precision: 0.907799843857\n",
      "2 - Recall: 0.971504139654\n"
     ]
    },
    {
     "data": {
      "image/png": "[encoded data removed]",
      "text/plain": [
       "<matplotlib.figure.Figure at 0x7ffc23d0a410>"
      ]
     },
     "metadata": {},
     "output_type": "display_data"
    },
    {
     "name": "stdout",
     "output_type": "stream",
     "text": [
      "896\n",
      "896\n",
      "2 - F-Score: 0.941548287606\n",
      "2 - Precision: 0.916829116241\n",
      "2 - Recall: 0.967637329212\n"
     ]
    },
    {
     "data": {
      "image/png": "[encoded data removed]",
      "text/plain": [
       "<matplotlib.figure.Figure at 0x7ffc23e7afd0>"
      ]
     },
     "metadata": {},
     "output_type": "display_data"
    },
    {
     "name": "stdout",
     "output_type": "stream",
     "text": [
      "996\n",
      "996\n",
      "2 - F-Score: 0.950891676742\n",
      "2 - Precision: 0.935181561813\n",
      "2 - Recall: 0.967138638601\n",
      "F-Score: [0.95089167674247266]\n",
      "Precision: [0.93518156181281575]\n",
      "Recall: [0.96713863860074201]\n"
     ]
    }
   ],
   "source": [
    "f_scores = []\n",
    "precision_scores = []\n",
    "recall_scores = []\n",
    "\n",
    "models = dict()\n",
    "\n",
    "n = 1\n",
    "for train_size in [8]:\n",
    "    f_current = 0.0\n",
    "    precision_current = 0.0\n",
    "    recall_current = 0.0\n",
    "    \n",
    "    our_params = {'eta': 0.1, 'seed': 0, 'subsample': 0.8, 'colsample_bytree': 0.8,\n",
    "                          'objective': 'binary:logistic', 'max_depth': 3, 'min_child_weight': 1}\n",
    "\n",
    "    '''\n",
    "    train, train_target, test, test_target = create_data(feature_matrix, train_size)\n",
    "    xgdmat = xgb.DMatrix(train, train_target, feature_names=total_schema)\n",
    "\n",
    "    cv_params = {'max_depth': [3,5,7], 'min_child_weight': [1,3,5]}\n",
    "    ind_params = {'max_depth': 3, 'learning_rate': 0.1, 'n_estimators': 1000, 'seed':0, 'subsample': 0.8, 'colsample_bytree': 0.8, \n",
    "         'objective': 'binary:logistic'}\n",
    "\n",
    "    optimized_GBM = GridSearchCV(xgb.XGBClassifier(**ind_params), \n",
    "                        cv_params, \n",
    "                         scoring = 'f1', cv = 5, n_jobs = 4) \n",
    "\n",
    "    optimized_GBM.fit(train, train_target)\n",
    "\n",
    "    print \"best scores: \" + str(optimized_GBM.grid_scores_)\n",
    "\n",
    "    our_params = optimized_GBM.best_params_\n",
    "    '''\n",
    "    \n",
    "    print \"train size: \" + str(train_size) + \"best params: \" + str(our_params)\n",
    "    \n",
    "    for t in range(n):\n",
    "        print feature_matrix.shape\n",
    "        \n",
    "        #train, train_target, test, test_target = create_data(feature_matrix, train_size)\n",
    "        train, train_target = create_data_smart(feature_matrix, column_features, schema_tools, train_size)\n",
    "        \n",
    "        print feature_matrix.shape\n",
    "        \n",
    "        xgdmat = xgb.DMatrix(train, train_target, feature_names=total_schema)\n",
    " \n",
    "        final_gb = xgb.train(our_params, xgdmat, num_boost_round=3000)\n",
    "\n",
    "        testdmat = xgb.DMatrix(feature_matrix, feature_names=total_schema)\n",
    "        y_pred = final_gb.predict(testdmat)\n",
    "\n",
    "        #res = (y_pred > 0.5)\n",
    "                \n",
    "        print \"1 - F-Score: \" + str(f1_score(target, res))\n",
    "        print \"1 - Precision: \" + str(precision_score(target, res))\n",
    "        print \"1 - Recall: \" + str(recall_score(target, res))\n",
    "        \n",
    "        \n",
    "        for r in range (9):\n",
    "            train, train_target = create_next_data(train, train_target,feature_matrix, target, y_pred, 100)\n",
    "\n",
    "            print len(train)\n",
    "            print len(train_target)\n",
    "            xgdmat2 = xgb.DMatrix(train, train_target, feature_names=total_schema)\n",
    "\n",
    "            final_gb2 = xgb.train(our_params, xgdmat2, num_boost_round=3000)\n",
    "\n",
    "            y_pred = final_gb2.predict(testdmat)\n",
    "\n",
    "            res2 = (y_pred > 0.5)\n",
    "\n",
    "            print \"2 - F-Score: \" + str(f1_score(target, res2))\n",
    "            print \"2 - Precision: \" + str(precision_score(target, res2))\n",
    "            print \"2 - Recall: \" + str(recall_score(target, res2))\n",
    "                \n",
    "        f_current += f1_score(target, res2)\n",
    "        precision_current += precision_score(target, res2)\n",
    "        recall_current += recall_score(target, res2)\n",
    "    \n",
    "    f_scores.append(f_current / n)\n",
    "    precision_scores.append(precision_current / n)\n",
    "    recall_scores.append(recall_current / n)\n",
    "\n",
    "print \"F-Score: \" + str(f_scores)\n",
    "print \"Precision: \" + str(precision_scores)\n",
    "print \"Recall: \" + str(recall_scores)"
   ]
  },
  {
   "cell_type": "code",
   "execution_count": null,
   "metadata": {
    "collapsed": true
   },
   "outputs": [],
   "source": []
  },
  {
   "cell_type": "code",
   "execution_count": 24,
   "metadata": {
    "collapsed": false
   },
   "outputs": [
    {
     "name": "stdout",
     "output_type": "stream",
     "text": [
      "F-Score: [0.1890476877457227, 0.37834691631269701, 0.58013839104177711, 0.64066265622150431, 0.76637150886752126, 0.88541243966779748, 0.8904424312141298, 0.89418077951191766, 0.89400388396576158]\n",
      "Precision: [0.12948940111400137, 0.62960554503886479, 0.70424754442742199, 0.64042826713778922, 0.807455474301358, 0.90216814718046978, 0.89283842140448699, 0.89833355466123843, 0.89884032575999573]\n",
      "Recall: [0.35217309570185013, 0.34439729061364038, 0.55682396832813552, 0.65127321356131895, 0.75088111053690398, 0.86981633402841962, 0.88823521575000952, 0.89007312570900476, 0.88922014444919262]\n"
     ]
    }
   ],
   "source": [
    "f_scores = []\n",
    "precision_scores = []\n",
    "recall_scores = []\n",
    "\n",
    "n = 5\n",
    "for train_size in [2, 5, 10, 15, 100, 1000, 10000, 100000, 200000]:\n",
    "    f_current = 0.0\n",
    "    precision_current = 0.0\n",
    "    recall_current = 0.0\n",
    "    for t in range(n):\n",
    "        train, train_target, test, test_target = create_data(feature_matrix, train_size)\n",
    "\n",
    "        gnb = GaussianNB()\n",
    "        final = gnb.fit(train, train_target)\n",
    "\n",
    "        res = final.predict(test)\n",
    "        \n",
    "        f_current += f1_score(test_target, res)\n",
    "        precision_current += precision_score(test_target, res)\n",
    "        recall_current += recall_score(test_target, res)\n",
    "    \n",
    "    f_scores.append(f_current / n)\n",
    "    precision_scores.append(precision_current / n)\n",
    "    recall_scores.append(recall_current / n)\n",
    "\n",
    "print \"F-Score: \" + str(f_scores)\n",
    "print \"Precision: \" + str(precision_scores)\n",
    "print \"Recall: \" + str(recall_scores)"
   ]
  },
  {
   "cell_type": "code",
   "execution_count": null,
   "metadata": {
    "collapsed": true
   },
   "outputs": [],
   "source": []
  },
  {
   "cell_type": "code",
   "execution_count": 25,
   "metadata": {
    "collapsed": false
   },
   "outputs": [
    {
     "name": "stdout",
     "output_type": "stream",
     "text": [
      "F-Score: [0.87223511722492031, 0.89280466393892388, 0.9687255651065676, 0.95227522685165267, 0.95391058569075116, 0.95623387247360725]\n",
      "Precision: [0.93076489020254838, 0.90334381529741548, 0.99457415845025388, 0.9703945073953697, 0.97138393496406006, 0.97921391826144721]\n",
      "Recall: [0.84483747697020684, 0.88643684568142933, 0.94420199829901663, 0.93495260626051502, 0.93739386301633743, 0.93440290289820849]\n"
     ]
    }
   ],
   "source": [
    "f_scores = []\n",
    "precision_scores = []\n",
    "recall_scores = []\n",
    "\n",
    "n = 5\n",
    "for train_size in [30,100,1000,10000,30000,100000]:\n",
    "    f_current = 0.0\n",
    "    precision_current = 0.0\n",
    "    recall_current = 0.0\n",
    "    \n",
    "    for t in range(n):\n",
    "        train, train_target, test, test_target = create_data(feature_matrix, train_size)\n",
    "\n",
    "        logistic = linear_model.LogisticRegression()\n",
    "        final = logistic.fit(train, train_target)\n",
    "\n",
    "        res = final.predict(test)\n",
    "        \n",
    "        f_current += f1_score(test_target, res)\n",
    "        precision_current += precision_score(test_target, res)\n",
    "        recall_current += recall_score(test_target, res)\n",
    "    \n",
    "    f_scores.append(f_current / n)\n",
    "    precision_scores.append(precision_current / n)\n",
    "    recall_scores.append(recall_current / n)\n",
    "\n",
    "print \"F-Score: \" + str(f_scores)\n",
    "print \"Precision: \" + str(precision_scores)\n",
    "print \"Recall: \" + str(recall_scores)"
   ]
  },
  {
   "cell_type": "code",
   "execution_count": 145,
   "metadata": {
    "collapsed": false
   },
   "outputs": [
    {
     "name": "stdout",
     "output_type": "stream",
     "text": [
      "recall: 0.931965062081\n"
     ]
    }
   ],
   "source": [
    "recall = recall_score(test_target, res)\n",
    "print \"recall: \" + str(recall)"
   ]
  },
  {
   "cell_type": "code",
   "execution_count": 146,
   "metadata": {
    "collapsed": false
   },
   "outputs": [
    {
     "name": "stdout",
     "output_type": "stream",
     "text": [
      "precision: 0.963111878677\n"
     ]
    }
   ],
   "source": [
    "precision = precision_score(test_target, res)\n",
    "print \"precision: \" + str(precision)"
   ]
  },
  {
   "cell_type": "code",
   "execution_count": 99,
   "metadata": {
    "collapsed": true
   },
   "outputs": [],
   "source": [
    "column_detect = np.array([False] * len(clean) * len(clean.columns))\n",
    "target = np.array([False] * len(clean) * len(clean.columns))"
   ]
  },
  {
   "cell_type": "code",
   "execution_count": 100,
   "metadata": {
    "collapsed": false
   },
   "outputs": [],
   "source": [
    "i = 0\n",
    "for row in range(len(clean)):\n",
    "    for column in range(len(clean.columns)):\n",
    "        column_detect[i] = (row, column) in error_sets[4]\n",
    "        target[i] = ground_truth[row,column]\n",
    "        i += 1"
   ]
  },
  {
   "cell_type": "code",
   "execution_count": 101,
   "metadata": {
    "collapsed": false
   },
   "outputs": [],
   "source": [
    "TP = np.sum(np.logical_and(column_detect == True, target == True))"
   ]
  },
  {
   "cell_type": "code",
   "execution_count": 102,
   "metadata": {
    "collapsed": false
   },
   "outputs": [],
   "source": [
    "FP = np.sum(np.logical_and(column_detect == True, target == False))"
   ]
  },
  {
   "cell_type": "code",
   "execution_count": 103,
   "metadata": {
    "collapsed": true
   },
   "outputs": [],
   "source": [
    "FN = np.sum(np.logical_and(column_detect == False, target == True))"
   ]
  },
  {
   "cell_type": "code",
   "execution_count": 104,
   "metadata": {
    "collapsed": false
   },
   "outputs": [
    {
     "name": "stdout",
     "output_type": "stream",
     "text": [
      "precision: 0.999349493101\n"
     ]
    }
   ],
   "source": [
    "print \"precision: \" + str(float(TP) / (TP + FP))"
   ]
  },
  {
   "cell_type": "code",
   "execution_count": 105,
   "metadata": {
    "collapsed": false
   },
   "outputs": [
    {
     "name": "stdout",
     "output_type": "stream",
     "text": [
      "recall: 0.946619217082\n"
     ]
    }
   ],
   "source": [
    "print \"recall: \" + str(float(TP) / (TP + FN))"
   ]
  },
  {
   "cell_type": "code",
   "execution_count": null,
   "metadata": {
    "collapsed": true
   },
   "outputs": [],
   "source": []
  }
 ],
 "metadata": {
  "kernelspec": {
   "display_name": "Python 2",
   "language": "python",
   "name": "python2"
  },
  "language_info": {
   "codemirror_mode": {
    "name": "ipython",
    "version": 2
   },
   "file_extension": ".py",
   "mimetype": "text/x-python",
   "name": "python",
   "nbconvert_exporter": "python",
   "pygments_lexer": "ipython2",
   "version": "2.7.12"
  }
 },
 "nbformat": 4,
 "nbformat_minor": 0
}
