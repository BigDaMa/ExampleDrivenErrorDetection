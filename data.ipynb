{
 "cells": [
  {
   "cell_type": "code",
   "execution_count": 1,
   "metadata": {
    "collapsed": true
   },
   "outputs": [],
   "source": [
    "from IPython.display import display, HTML\n",
    "import pandas as pd\n",
    "import math\n",
    "import datetime\n",
    "import json\n",
    "import requests\n",
    "import numpy as np\n",
    "import re\n",
    "import jellyfish as jf\n",
    "import geocoder\n",
    "import time\n",
    "import xgboost as xgb\n",
    "from sklearn.metrics import f1_score\n",
    "from sklearn.metrics import precision_score\n",
    "from sklearn.metrics import recall_score\n",
    "from sklearn.naive_bayes import GaussianNB\n",
    "from sklearn import linear_model\n",
    "from sklearn.model_selection import GridSearchCV\n",
    "import re\n",
    "import matplotlib.pyplot as plt\n",
    "import subprocess\n",
    "import os.path\n",
    "from subprocess import PIPE,Popen\n",
    "from collections import defaultdict\n",
    "from scipy import sparse\n",
    "from sklearn.decomposition import TruncatedSVD\n",
    "\n",
    "import warnings\n",
    "warnings.filterwarnings('ignore')"
   ]
  },
  {
   "cell_type": "code",
   "execution_count": null,
   "metadata": {
    "collapsed": true
   },
   "outputs": [],
   "source": []
  },
  {
   "cell_type": "code",
   "execution_count": 2,
   "metadata": {
    "collapsed": true
   },
   "outputs": [],
   "source": [
    "numberAttributes = 12"
   ]
  },
  {
   "cell_type": "code",
   "execution_count": 3,
   "metadata": {
    "collapsed": true
   },
   "outputs": [],
   "source": [
    "dirty = pd.read_csv(\"/home/felix/BlackOak/List_A/inputDB.csv\")\n",
    "clean = pd.read_csv(\"/home/felix/BlackOak/List_A/groundDB.csv\", dtype={'SSN': object, 'ZIP': object})"
   ]
  },
  {
   "cell_type": "code",
   "execution_count": 4,
   "metadata": {
    "collapsed": true
   },
   "outputs": [],
   "source": [
    "dirty['Address(String)'].to_csv(\"address.txt\",header=False, index=False)"
   ]
  },
  {
   "cell_type": "code",
   "execution_count": null,
   "metadata": {
    "collapsed": true
   },
   "outputs": [],
   "source": []
  },
  {
   "cell_type": "code",
   "execution_count": null,
   "metadata": {
    "collapsed": true
   },
   "outputs": [],
   "source": []
  },
  {
   "cell_type": "code",
   "execution_count": 5,
   "metadata": {
    "collapsed": false
   },
   "outputs": [],
   "source": [
    "distinct_values_per_column = []\n",
    "for column in range(len(dirty.columns)):\n",
    "    distinct_values_per_column.append(dict())\n",
    "\n",
    "max_length = [0.0] * len(dirty.columns)\n",
    "sum_length = np.array([0] * len(dirty.columns))\n",
    "N = len(dirty)\n",
    "\n",
    "for index, row in dirty.iterrows():\n",
    "    for column in range(len(dirty.columns)):\n",
    "        value = row[dirty.columns[column]]\n",
    "        distinct_values_per_column[column][value] = distinct_values_per_column[column].get(value, 0) + 1\n",
    "\n",
    "        \n",
    "        max_length[column] = max (max_length[column], len(str(value)))\n",
    "        sum_length[column] += len(str(value))\n",
    "avg_length = sum_length / float(N)\n",
    "\n",
    "for column in range(len(dirty.columns)):\n",
    "    for key, value in distinct_values_per_column[column].iteritems():\n",
    "        distinct_values_per_column[column][key] = value / float(N)"
   ]
  },
  {
   "cell_type": "code",
   "execution_count": null,
   "metadata": {
    "collapsed": true
   },
   "outputs": [],
   "source": []
  },
  {
   "cell_type": "code",
   "execution_count": 6,
   "metadata": {
    "collapsed": false
   },
   "outputs": [
    {
     "name": "stdout",
     "output_type": "stream",
     "text": [
      "[7, 13, 13, 21, 44, 21, 17, 29, 26, 41, 11, 9]\n"
     ]
    }
   ],
   "source": [
    "print max_length"
   ]
  },
  {
   "cell_type": "code",
   "execution_count": null,
   "metadata": {
    "collapsed": false
   },
   "outputs": [],
   "source": []
  },
  {
   "cell_type": "code",
   "execution_count": 7,
   "metadata": {
    "collapsed": false
   },
   "outputs": [
    {
     "name": "stdout",
     "output_type": "stream",
     "text": [
      "[94306, 15048, 681, 31917, 84228, 12695, 5070, 18825, 14558, 9735, 47358, 13608]\n"
     ]
    }
   ],
   "source": [
    "number_distinct_values_per_column = []\n",
    "for column in range(len(dirty.columns)):\n",
    "    number_distinct_values_per_column.append(len(distinct_values_per_column[column]))\n",
    "print number_distinct_values_per_column"
   ]
  },
  {
   "cell_type": "code",
   "execution_count": null,
   "metadata": {
    "collapsed": true
   },
   "outputs": [],
   "source": []
  },
  {
   "cell_type": "code",
   "execution_count": 8,
   "metadata": {
    "collapsed": false
   },
   "outputs": [
    {
     "data": {
      "text/html": [
       "<div>\n",
       "<table border=\"1\" class=\"dataframe\">\n",
       "  <thead>\n",
       "    <tr style=\"text-align: right;\">\n",
       "      <th></th>\n",
       "      <th>RecID(String)</th>\n",
       "      <th>FirstName(String)</th>\n",
       "      <th>MiddleName(String)</th>\n",
       "      <th>LastName(String)</th>\n",
       "      <th>Address(String)</th>\n",
       "      <th>City(String)</th>\n",
       "      <th>State(String)</th>\n",
       "      <th>ZIP(String)</th>\n",
       "      <th>POBox(String)</th>\n",
       "      <th>POCityStateZip(String)</th>\n",
       "      <th>SSN(String)</th>\n",
       "      <th>DOB(String)</th>\n",
       "    </tr>\n",
       "  </thead>\n",
       "  <tbody>\n",
       "    <tr>\n",
       "      <th>0</th>\n",
       "      <td>A904694</td>\n",
       "      <td>christine</td>\n",
       "      <td>NaN</td>\n",
       "      <td>urias</td>\n",
       "      <td>5404 ROCKLAND DR</td>\n",
       "      <td>pearland</td>\n",
       "      <td>tx</td>\n",
       "      <td>77584</td>\n",
       "      <td>NaN</td>\n",
       "      <td>NaN</td>\n",
       "      <td>166-91-0767</td>\n",
       "      <td>NaN</td>\n",
       "    </tr>\n",
       "    <tr>\n",
       "      <th>1</th>\n",
       "      <td>A904695</td>\n",
       "      <td>RICHARD</td>\n",
       "      <td>S</td>\n",
       "      <td>STOKES</td>\n",
       "      <td>2384 MOUNTAIN PINE RD</td>\n",
       "      <td>Hot</td>\n",
       "      <td>Springs</td>\n",
       "      <td>Ar 7191</td>\n",
       "      <td>NaN</td>\n",
       "      <td>NaN</td>\n",
       "      <td>NaN</td>\n",
       "      <td>4/12/72</td>\n",
       "    </tr>\n",
       "    <tr>\n",
       "      <th>2</th>\n",
       "      <td>A904696</td>\n",
       "      <td>michelle</td>\n",
       "      <td>NaN</td>\n",
       "      <td>daughtry</td>\n",
       "      <td>2301 plumeria lane</td>\n",
       "      <td>Palmdale</td>\n",
       "      <td>Ca</td>\n",
       "      <td>93551</td>\n",
       "      <td>PO MBOX 901243</td>\n",
       "      <td>palmdale, ca 93590</td>\n",
       "      <td>086-71-1424</td>\n",
       "      <td>1956</td>\n",
       "    </tr>\n",
       "    <tr>\n",
       "      <th>3</th>\n",
       "      <td>A904697</td>\n",
       "      <td>A</td>\n",
       "      <td>NaN</td>\n",
       "      <td>GARFIO</td>\n",
       "      <td>1305 NORTH FOYD STR LOT 10</td>\n",
       "      <td>JONESBOROY</td>\n",
       "      <td>AR</td>\n",
       "      <td>72401</td>\n",
       "      <td>NaN</td>\n",
       "      <td>NaN</td>\n",
       "      <td>22542011</td>\n",
       "      <td>NaN</td>\n",
       "    </tr>\n",
       "    <tr>\n",
       "      <th>4</th>\n",
       "      <td>A904698</td>\n",
       "      <td>MIHCAEL</td>\n",
       "      <td>L</td>\n",
       "      <td>VALENCIA</td>\n",
       "      <td>3 HOPE DR</td>\n",
       "      <td>WATSONVILLE</td>\n",
       "      <td>CA</td>\n",
       "      <td>95076</td>\n",
       "      <td>P Box 1353</td>\n",
       "      <td>watsonvile, calif. 95077</td>\n",
       "      <td>157146562</td>\n",
       "      <td>NaN</td>\n",
       "    </tr>\n",
       "  </tbody>\n",
       "</table>\n",
       "</div>"
      ],
      "text/plain": [
       "  RecID(String) FirstName(String) MiddleName(String) LastName(String)  \\\n",
       "0       A904694         christine                NaN            urias   \n",
       "1       A904695           RICHARD                  S           STOKES   \n",
       "2       A904696          michelle                NaN         daughtry   \n",
       "3       A904697                 A                NaN           GARFIO   \n",
       "4       A904698           MIHCAEL                  L         VALENCIA   \n",
       "\n",
       "              Address(String) City(String) State(String) ZIP(String)  \\\n",
       "0            5404 ROCKLAND DR     pearland            tx       77584   \n",
       "1       2384 MOUNTAIN PINE RD          Hot       Springs     Ar 7191   \n",
       "2          2301 plumeria lane     Palmdale            Ca       93551   \n",
       "3  1305 NORTH FOYD STR LOT 10   JONESBOROY            AR       72401   \n",
       "4                   3 HOPE DR  WATSONVILLE            CA       95076   \n",
       "\n",
       "    POBox(String)    POCityStateZip(String)  SSN(String) DOB(String)  \n",
       "0             NaN                       NaN  166-91-0767         NaN  \n",
       "1             NaN                       NaN          NaN     4/12/72  \n",
       "2  PO MBOX 901243        palmdale, ca 93590  086-71-1424        1956  \n",
       "3             NaN                       NaN     22542011         NaN  \n",
       "4      P Box 1353  watsonvile, calif. 95077    157146562         NaN  "
      ]
     },
     "execution_count": 8,
     "metadata": {},
     "output_type": "execute_result"
    }
   ],
   "source": [
    "dirty.head()"
   ]
  },
  {
   "cell_type": "code",
   "execution_count": 9,
   "metadata": {
    "collapsed": false
   },
   "outputs": [
    {
     "data": {
      "text/html": [
       "<div>\n",
       "<table border=\"1\" class=\"dataframe\">\n",
       "  <thead>\n",
       "    <tr style=\"text-align: right;\">\n",
       "      <th></th>\n",
       "      <th>RecID</th>\n",
       "      <th>FirstName</th>\n",
       "      <th>MiddleName</th>\n",
       "      <th>LastName</th>\n",
       "      <th>Address</th>\n",
       "      <th>City</th>\n",
       "      <th>State</th>\n",
       "      <th>ZIP</th>\n",
       "      <th>POBox</th>\n",
       "      <th>POCityStateZip</th>\n",
       "      <th>SSN</th>\n",
       "      <th>DOB</th>\n",
       "    </tr>\n",
       "  </thead>\n",
       "  <tbody>\n",
       "    <tr>\n",
       "      <th>0</th>\n",
       "      <td>A904694</td>\n",
       "      <td>CHRISTINE</td>\n",
       "      <td>NaN</td>\n",
       "      <td>URIAS</td>\n",
       "      <td>5404 ROCKLAND DR</td>\n",
       "      <td>PEARLAND</td>\n",
       "      <td>TX</td>\n",
       "      <td>77584</td>\n",
       "      <td>NaN</td>\n",
       "      <td>NaN</td>\n",
       "      <td>166910767</td>\n",
       "      <td>NaN</td>\n",
       "    </tr>\n",
       "    <tr>\n",
       "      <th>1</th>\n",
       "      <td>A904695</td>\n",
       "      <td>RICHARD</td>\n",
       "      <td>S</td>\n",
       "      <td>STOKES</td>\n",
       "      <td>2384 MOUNTAIN PINE RD</td>\n",
       "      <td>HOT SPRINGS NATIONAL PARK</td>\n",
       "      <td>AR</td>\n",
       "      <td>71901</td>\n",
       "      <td>NaN</td>\n",
       "      <td>NaN</td>\n",
       "      <td>NaN</td>\n",
       "      <td>4/12/72</td>\n",
       "    </tr>\n",
       "    <tr>\n",
       "      <th>2</th>\n",
       "      <td>A904696</td>\n",
       "      <td>MICHELLE</td>\n",
       "      <td>NaN</td>\n",
       "      <td>DAUGHTRY</td>\n",
       "      <td>2301 PLUMERIA LANE</td>\n",
       "      <td>PALMDALE</td>\n",
       "      <td>CA</td>\n",
       "      <td>93551</td>\n",
       "      <td>PO MBOX 901243</td>\n",
       "      <td>PALMDALE, CA 93590</td>\n",
       "      <td>86711424</td>\n",
       "      <td>1956</td>\n",
       "    </tr>\n",
       "    <tr>\n",
       "      <th>3</th>\n",
       "      <td>A904697</td>\n",
       "      <td>A</td>\n",
       "      <td>NaN</td>\n",
       "      <td>GARFIO</td>\n",
       "      <td>1305 NORTH FOYD STR LOT 10</td>\n",
       "      <td>JONESBORO</td>\n",
       "      <td>AR</td>\n",
       "      <td>72401</td>\n",
       "      <td>NaN</td>\n",
       "      <td>NaN</td>\n",
       "      <td>22542011</td>\n",
       "      <td>NaN</td>\n",
       "    </tr>\n",
       "    <tr>\n",
       "      <th>4</th>\n",
       "      <td>A904698</td>\n",
       "      <td>MIHCAEL</td>\n",
       "      <td>L</td>\n",
       "      <td>VALENCIA</td>\n",
       "      <td>3 HOPE DR</td>\n",
       "      <td>WATSONVILLE</td>\n",
       "      <td>CA</td>\n",
       "      <td>95076</td>\n",
       "      <td>P BOX 1353</td>\n",
       "      <td>WATSONVILE, CALIF. 95077</td>\n",
       "      <td>157146562</td>\n",
       "      <td>NaN</td>\n",
       "    </tr>\n",
       "  </tbody>\n",
       "</table>\n",
       "</div>"
      ],
      "text/plain": [
       "     RecID  FirstName MiddleName  LastName                     Address  \\\n",
       "0  A904694  CHRISTINE        NaN     URIAS            5404 ROCKLAND DR   \n",
       "1  A904695    RICHARD          S    STOKES       2384 MOUNTAIN PINE RD   \n",
       "2  A904696   MICHELLE        NaN  DAUGHTRY          2301 PLUMERIA LANE   \n",
       "3  A904697          A        NaN    GARFIO  1305 NORTH FOYD STR LOT 10   \n",
       "4  A904698    MIHCAEL          L  VALENCIA                   3 HOPE DR   \n",
       "\n",
       "                        City State    ZIP           POBox  \\\n",
       "0                   PEARLAND    TX  77584             NaN   \n",
       "1  HOT SPRINGS NATIONAL PARK    AR  71901             NaN   \n",
       "2                   PALMDALE    CA  93551  PO MBOX 901243   \n",
       "3                  JONESBORO    AR  72401             NaN   \n",
       "4                WATSONVILLE    CA  95076      P BOX 1353   \n",
       "\n",
       "             POCityStateZip        SSN      DOB  \n",
       "0                       NaN  166910767      NaN  \n",
       "1                       NaN        NaN  4/12/72  \n",
       "2        PALMDALE, CA 93590   86711424     1956  \n",
       "3                       NaN   22542011      NaN  \n",
       "4  WATSONVILE, CALIF. 95077  157146562      NaN  "
      ]
     },
     "execution_count": 9,
     "metadata": {},
     "output_type": "execute_result"
    }
   ],
   "source": [
    "clean.head()"
   ]
  },
  {
   "cell_type": "code",
   "execution_count": 10,
   "metadata": {
    "collapsed": false
   },
   "outputs": [
    {
     "name": "stdout",
     "output_type": "stream",
     "text": [
      "[[False  True False ..., False  True False]\n",
      " [False False False ..., False False False]\n",
      " [False  True False ...,  True  True False]\n",
      " ..., \n",
      " [False  True False ..., False False False]\n",
      " [False  True  True ..., False False False]\n",
      " [False  True False ..., False  True False]]\n"
     ]
    }
   ],
   "source": [
    "ground_truth = dirty.values != clean.values #all real errors\n",
    "print ground_truth"
   ]
  },
  {
   "cell_type": "code",
   "execution_count": 11,
   "metadata": {
    "collapsed": true
   },
   "outputs": [],
   "source": [
    "def generate_error_sets():\n",
    "    folder = \"/home/felix/BlackOak/List_A/ToolOutputDetectedCells/\"\n",
    "    files = [#\"Trifacta_detectedCells.csv\",\n",
    "             \"AddressCleaner_detectedCells.csv\"\n",
    "             ,\"dBoost.csv\"\n",
    "             ,\"gaussian.csv\"\n",
    "             #,\"GRefine_detectedCells.csv\"\n",
    "             ,\"histograms.csv\"\n",
    "             ,\"katara.txt\"\n",
    "             ,\"mixture.csv\"\n",
    "             ,\"tamr.csv\"\n",
    "            ]\n",
    "    \n",
    "    schema = [(\"tool_\" + re.split(r'\\.', s)[0]) for s in files]\n",
    "    \n",
    "    error_sets = []\n",
    "    \n",
    "    for i in range(len(files)):\n",
    "        data = pd.read_csv(folder + files[i], header=None)\n",
    "        \n",
    "        error_set = set()\n",
    "        for index, row in data.iterrows():\n",
    "            key = (row[data.columns[0]] - 1, row[data.columns[1]] - 1)\n",
    "            error_set.add(key)\n",
    "        error_sets.append(error_set)\n",
    "    \n",
    "    return error_sets, schema"
   ]
  },
  {
   "cell_type": "code",
   "execution_count": 12,
   "metadata": {
    "collapsed": true
   },
   "outputs": [],
   "source": [
    "def generate_features(error_sets, clean):\n",
    "    features = []\n",
    "    \n",
    "    for tool in range(len(error_sets)):\n",
    "        feature = np.array([False] * len(clean) * len(clean.columns))\n",
    "\n",
    "        i = 0\n",
    "        for row in range(len(clean)):\n",
    "            for column in range(len(clean.columns)):\n",
    "                feature[i] = (row, column) in error_sets[tool]\n",
    "                i += 1\n",
    "        features.append(feature)\n",
    "        \n",
    "    return features"
   ]
  },
  {
   "cell_type": "code",
   "execution_count": 13,
   "metadata": {
    "collapsed": false
   },
   "outputs": [],
   "source": [
    "def generate_column_feature(clean, dirty, number_distinct_values_per_column, \\\n",
    "                            avg_length1, max_length1, distinct_values_per_column):\n",
    "    column_id = np.array([0] * len(clean) * len(clean.columns))\n",
    "    column_distinct_values = np.array([0] * len(clean) * len(clean.columns))\n",
    "    column_avg_length = np.array([0.0] * len(clean) * len(clean.columns))\n",
    "    column_max_length = np.array([0] * len(clean) * len(clean.columns))\n",
    "    current_value_fraction = np.array([0.0] * len(clean) * len(clean.columns))\n",
    "    current_value_length = np.array([0] * len(clean) * len(clean.columns))\n",
    "    current_row_avg_fraction = np.array([0.0] * len(clean) * len(clean.columns))\n",
    "    current_row_avg_length = np.array([0.0] * len(clean) * len(clean.columns))\n",
    "    \n",
    "    i = 0\n",
    "    for row in range(len(clean)):\n",
    "        \n",
    "        row_sum_length = 0.0\n",
    "        row_sum_fraction = 0.0\n",
    "        for column in range(len(clean.columns)):\n",
    "            row_sum_fraction += distinct_values_per_column[column].get(dirty.values[row][column], 0)\n",
    "            row_sum_length += len(str(dirty.values[row][column]))\n",
    "        row_avg_length = row_sum_length / len(clean.columns)\n",
    "        row_avg_fraction = row_sum_fraction / len(clean.columns)\n",
    "            \n",
    "        \n",
    "        for column in range(len(clean.columns)):\n",
    "            # attribute based\n",
    "            column_id[i] = column\n",
    "            column_distinct_values[i] = number_distinct_values_per_column[column]\n",
    "            column_avg_length[i] = avg_length1[column]\n",
    "            column_max_length[i] = max_length1[column]\n",
    "            # value based\n",
    "            current_value_fraction[i] = distinct_values_per_column[column].get(dirty.values[row][column], 0)\n",
    "            current_value_length[i] = len(str(dirty.values[row][column]))\n",
    "            # row based\n",
    "            current_row_avg_fraction[i] = row_avg_fraction\n",
    "            current_row_avg_length[i] = row_avg_length\n",
    "            \n",
    "            i += 1\n",
    "\n",
    "    schema = [\"col_id\",\"col_distinct_values\",\"col_avg_length\",\"col_max_length\",\\\n",
    "              \"val_fraction\",\"val_length\",\"row_avg_fraction\",\"row_avg_length\"]\n",
    "\n",
    "    return [column_id, column_distinct_values, column_avg_length, column_max_length, \\\n",
    "            current_value_fraction, current_value_length, \\\n",
    "            current_row_avg_fraction, current_row_avg_length], schema"
   ]
  },
  {
   "cell_type": "code",
   "execution_count": 14,
   "metadata": {
    "collapsed": true
   },
   "outputs": [],
   "source": [
    "def generate_target(clean, ground_truth):\n",
    "    target = np.array([False] * len(clean) * len(clean.columns))\n",
    "    \n",
    "    i = 0\n",
    "    for row in range(len(clean)):\n",
    "        for column in range(len(clean.columns)):\n",
    "            target[i] = ground_truth[row,column]\n",
    "            i += 1\n",
    "            \n",
    "    return target"
   ]
  },
  {
   "cell_type": "code",
   "execution_count": 15,
   "metadata": {
    "collapsed": false
   },
   "outputs": [],
   "source": [
    "#error_sets, schema_tools = generate_error_sets()"
   ]
  },
  {
   "cell_type": "code",
   "execution_count": 16,
   "metadata": {
    "collapsed": false
   },
   "outputs": [],
   "source": [
    "features = []\n",
    "\n",
    "column_features, schema_metadata = generate_column_feature(clean, dirty, \\\n",
    "                                          number_distinct_values_per_column, \\\n",
    "                                          avg_length, max_length, distinct_values_per_column)\n",
    "for i in range(len(column_features)):\n",
    "    features.append(column_features[i])"
   ]
  },
  {
   "cell_type": "code",
   "execution_count": 17,
   "metadata": {
    "collapsed": false
   },
   "outputs": [
    {
     "name": "stdout",
     "output_type": "stream",
     "text": [
      "['col_id', 'col_distinct_values', 'col_avg_length', 'col_max_length', 'val_fraction', 'val_length', 'row_avg_fraction', 'row_avg_length']\n"
     ]
    }
   ],
   "source": [
    "total_schema = []\n",
    "#total_schema.extend(schema_tools)\n",
    "total_schema.extend(schema_metadata)\n",
    "print total_schema"
   ]
  },
  {
   "cell_type": "code",
   "execution_count": 18,
   "metadata": {
    "collapsed": true
   },
   "outputs": [],
   "source": [
    "target = generate_target(clean, ground_truth)"
   ]
  },
  {
   "cell_type": "code",
   "execution_count": 19,
   "metadata": {
    "collapsed": false
   },
   "outputs": [],
   "source": [
    "feature_matrix = np.column_stack(features)"
   ]
  },
  {
   "cell_type": "code",
   "execution_count": 20,
   "metadata": {
    "collapsed": false
   },
   "outputs": [
    {
     "name": "stdout",
     "output_type": "stream",
     "text": [
      "(1131672, 8)\n"
     ]
    }
   ],
   "source": [
    "print feature_matrix.shape"
   ]
  },
  {
   "cell_type": "code",
   "execution_count": 21,
   "metadata": {
    "collapsed": false
   },
   "outputs": [],
   "source": [
    "def create_data(feature_matrix, train_size = 0.00001):\n",
    "    train_len = train_size\n",
    "    test_len = len(feature_matrix) - train_len\n",
    "    \n",
    "    if (train_size <= 1):\n",
    "        train_len = int(math.ceil(len(feature_matrix) * train_size))\n",
    "        test_len = int(math.floor(len(feature_matrix) * (1 - train_size)))\n",
    "    \n",
    "    msk = np.ones((train_len,))\n",
    "    msk = np.concatenate((msk, np.zeros((test_len,))))\n",
    "    msk = msk == 1.\n",
    "    np.random.shuffle(msk)\n",
    "\n",
    "    train = feature_matrix[msk]\n",
    "    train_target = target[msk]\n",
    "    test = feature_matrix[~msk]\n",
    "    test_target = target[~msk]\n",
    "    \n",
    "    return train, train_target, test, test_target"
   ]
  },
  {
   "cell_type": "code",
   "execution_count": 22,
   "metadata": {
    "collapsed": false
   },
   "outputs": [],
   "source": [
    "def create_data_smart(feature_matrix, column_features, schema_tools, train_n):\n",
    "    number_tools = len(schema_tools)\n",
    "    tool_matrix = feature_matrix[:, 0:len(schema_tools)]\n",
    "    '''\n",
    "    for i in range(9):\n",
    "        print \"size: \" + str(i) + \" -> \" + str(len(np.where(np.sum(tool_matrix, axis=1) == i)[0]))\n",
    "\n",
    "    print \"size: > 0 \" + \" -> \" + str(len(np.where(np.sum(tool_matrix, axis=1) > 0)[0]))\n",
    "    '''\n",
    "\n",
    "    indices = np.where(np.sum(tool_matrix, axis=1) > 0)[0]\n",
    "    #print indices\n",
    "    #print feature_matrix[indices].shape\n",
    "    #print np.max(feature_matrix[:,10])\n",
    "\n",
    "    two_indices = set(np.where(column_features[0] == 2)[0])\n",
    "    no_hits = set(np.where(np.sum(tool_matrix, axis=1) > 0)[0])\n",
    "    too_many_hits = set(np.where(np.sum(tool_matrix, axis=1) < 4)[0])\n",
    "\n",
    "    intersection = two_indices.intersection(no_hits)\n",
    "    intersection = intersection.intersection(too_many_hits)\n",
    "    #print len(intersection)\n",
    "\n",
    "    intersection = no_hits\n",
    "    intersection = intersection.intersection(too_many_hits)\n",
    "\n",
    "    train_len = train_n\n",
    "\n",
    "    trainl = []\n",
    "    train_targetl = []\n",
    "\n",
    "    training_indices = []\n",
    "    attribute_indices = []\n",
    "    for i in range(numberAttributes):\n",
    "        col_indices = set(np.where(column_features[0] == i)[0])\n",
    "        col_intersection = (intersection.intersection(col_indices))\n",
    "        col_intersection_list = np.asmatrix(col_intersection)\n",
    "        #print str(i) + \". col: \" + str(len(col_intersection))\n",
    "\n",
    "        #print col_intersection\n",
    "\n",
    "        test_len = len(col_intersection) - train_len\n",
    "\n",
    "        msk = np.ones((train_len,))\n",
    "        msk = np.concatenate((msk, np.zeros((test_len,))))\n",
    "        msk = msk == 1.\n",
    "        np.random.shuffle(msk)\n",
    "\n",
    "        ids = np.where(msk)\n",
    "\n",
    "        for id in ids:\n",
    "            trainl.extend(feature_matrix[id])\n",
    "            train_targetl.extend(target[id])\n",
    "\n",
    "    train = np.asmatrix(trainl)\n",
    "    \n",
    "    print train.shape\n",
    "    \n",
    "    train_target = np.asarray(train_targetl)\n",
    "    return train, train_target"
   ]
  },
  {
   "cell_type": "code",
   "execution_count": 23,
   "metadata": {
    "collapsed": true
   },
   "outputs": [],
   "source": [
    "def create_next_data(train, train_target, feature_matrix, target, y_pred, n):\n",
    "    diff = np.absolute(y_pred - 0.5)\n",
    "    sorted_ids = np.argsort(diff)\n",
    "        \n",
    "    plt.hist(diff)\n",
    "    plt.show()\n",
    "    \n",
    "    trainl = []\n",
    "    train_targetl = []\n",
    "    \n",
    "    for i in range(n):\n",
    "        #print sorted_ids[i]\n",
    "        #print feature_matrix[sorted_ids[i]]\n",
    "        trainl.append(feature_matrix[sorted_ids[i]])\n",
    "        train = np.vstack((train, feature_matrix[sorted_ids[i]]))\n",
    "        #print target[sorted_ids[i]]\n",
    "        train_target = np.append(train_target, [target[sorted_ids[i]]])\n",
    "        \n",
    "    return train, train_target"
   ]
  },
  {
   "cell_type": "code",
   "execution_count": 24,
   "metadata": {
    "collapsed": true
   },
   "outputs": [],
   "source": [
    "train, train_target, test, test_target = create_data(feature_matrix, 100)"
   ]
  },
  {
   "cell_type": "code",
   "execution_count": null,
   "metadata": {
    "collapsed": true
   },
   "outputs": [],
   "source": []
  },
  {
   "cell_type": "code",
   "execution_count": 25,
   "metadata": {
    "collapsed": false
   },
   "outputs": [],
   "source": [
    "input_file = \"/tmp/test.csv\"\n",
    "output_file = \"/tmp/rules.csv\"\n",
    "number_rules = 200\n",
    "\n",
    "dirty.to_csv(input_file,header=True, index=False)"
   ]
  },
  {
   "cell_type": "code",
   "execution_count": 26,
   "metadata": {
    "collapsed": true
   },
   "outputs": [],
   "source": [
    "def check_rule(data, rule_left, rule_right):\n",
    "    check_rule = np.array([False] * len(data))\n",
    "    \n",
    "    for e in range(len(data)):\n",
    "        check_left = np.array([False] * len(rule_left))\n",
    "        left_done = False\n",
    "        check_right = np.array([False] * len(rule_right))\n",
    "        right_done = False\n",
    "\n",
    "        for c in str(data[e]):\n",
    "            if left_done == False:\n",
    "                for l in range(len(rule_left)):\n",
    "                    if c == rule_left[l]:\n",
    "                        check_left[l] = True\n",
    "                        if np.all(check_left == True):\n",
    "                            left_done = True\n",
    "                            break\n",
    "            else:\n",
    "                for r in range(len(rule_right)):\n",
    "                    if c == rule_right[r]:\n",
    "                        check_right[r] = True\n",
    "                        if np.all(check_right == True):\n",
    "                            right_done = True\n",
    "                            check_rule[e] = True\n",
    "                            break\n",
    "            if right_done == True:\n",
    "                break\n",
    "    return check_rule"
   ]
  },
  {
   "cell_type": "code",
   "execution_count": 27,
   "metadata": {
    "collapsed": false
   },
   "outputs": [
    {
     "name": "stdout",
     "output_type": "stream",
     "text": [
      "['I=> ' 18609 0.8974247685185185]\n",
      "18609\n",
      "['7=> ' 24516 0.9416192963588876]\n",
      "24516\n",
      "['3=> ' 32986 0.9287906518372518]\n",
      "32986\n",
      "['2=> ' 40542 0.9239078416626786]\n",
      "40542\n",
      "['1=> ' 53086 0.9411910713969116]\n",
      "53086\n",
      "['0=> ' 38856 0.9388001642948608]\n",
      "38856\n",
      "[' =>A' 39945 0.4235994019024592]\n",
      "39945\n",
      "[' =>E' 33545 0.3557301774143947]\n",
      "33545\n",
      "[' =>R' 35900 0.3807039311127372]\n",
      "35900\n",
      "[' =>D' 28426 0.30144540239026923]\n",
      "28426\n",
      "['4=> ' 30721 0.9344506630977004]\n",
      "30721\n",
      "[' =>S' 31362 0.3325804091241689]\n",
      "31362\n",
      "['A=> ' 32913 0.8206298152442217]\n",
      "32913\n",
      "['5=> ' 30797 0.9523470839260312]\n",
      "30797\n",
      "[' =>e' 31012 0.3288688109099778]\n",
      "31012\n",
      "[' =>a' 29311 0.3108304435890094]\n",
      "29311\n",
      "[' =>T' 30003 0.3181688034867814]\n",
      "30003\n",
      "[' =>r' 30306 0.3213819870836382]\n",
      "30306\n",
      "['E=> ' 29060 0.8622122003323047]\n",
      "29060\n",
      "['6=> ' 25098 0.9363178511471741]\n",
      "25098\n",
      "['a=> ' 26375 0.8947350566524187]\n",
      "26375\n",
      "[' =>t' 27801 0.2948175484363567]\n",
      "27801\n",
      "[' =>N' 27946 0.2963552105536644]\n",
      "27946\n",
      "['e=> ' 26803 0.8597594226142743]\n",
      "26803\n",
      "['R=> ' 26364 0.7322723106407799]\n",
      "26364\n",
      "[' =>L' 24930 0.264371838513664]\n",
      "24930\n",
      "['N=> ' 24561 0.8734974037982787]\n",
      "24561\n",
      "[' =>I' 20601 0.21846467088728405]\n",
      "20601\n",
      "[' =>O' 22512 0.2387299971367671]\n",
      "22512\n",
      "['T=> ' 23036 0.7645028541085889]\n",
      "23036\n",
      "[' =>AE' 23454 0.2487194986161041]\n",
      "23454\n",
      "[' =>n' 24505 0.25986489782500344]\n",
      "24505\n",
      "['S=> ' 23102 0.7335132560723925]\n",
      "23102\n",
      "[' =>AR' 23051 0.2444458583866213]\n",
      "23051\n",
      "[' =>ER' 22797 0.2417522985397512]\n",
      "22797\n",
      "['r=> ' 22928 0.7539377199039821]\n",
      "22928\n",
      "['8=> ' 22610 0.9391484942886812]\n",
      "22610\n",
      "['t=> ' 21383 0.7661411680401291]\n",
      "21383\n",
      "['1=> A' 21997 0.3899969859759233]\n",
      "21997\n",
      "['1=>A' 22017 0.3903515770437743]\n",
      "22017\n",
      "['n=> ' 21539 0.872412815423873]\n",
      "21539\n",
      "[' 1=>A' 21938 0.38896473466782505]\n",
      "21938\n",
      "['9=> ' 21128 0.9432142857142856]\n",
      "21128\n",
      "['O=> ' 21254 0.9366296492155826]\n",
      "21254\n",
      "[' =>er' 21212 0.22494406091262895]\n",
      "21212\n",
      "['12=> ' 20880 0.8403428985390591]\n",
      "20880\n",
      "[' =>o' 20888 0.2215081814229207]\n",
      "20888\n",
      "[' =>C' 20645 0.2189312718056395]\n",
      "20645\n",
      "['01=> ' 20748 0.8463735008566533]\n",
      "20748\n",
      "[' =>i' 19609 0.20794494109163408]\n",
      "19609\n",
      "['1=> R' 19662 0.3485984788043189]\n",
      "19662\n",
      "['L=> ' 19797 0.7895744426275276]\n",
      "19797\n",
      "['1=>0' 19855 0.3520202826090811]\n",
      "19855\n",
      "[' =>DR' 20000 0.2120913265252017]\n",
      "20000\n",
      "['1=>R' 19666 0.3486693970178891]\n",
      "19666\n",
      "[' 1=>R' 19613 0.3477420613109697]\n",
      "19613\n",
      "['o=> ' 19639 0.93257039745477]\n",
      "19639\n",
      "[' =>ae' 19653 0.20841154200998951]\n",
      "19653\n",
      "[' =>AT' 19612 0.20797675479061284]\n",
      "19612\n",
      "[' =>d' 19229 0.2039152058876552]\n",
      "19229\n",
      "[' =>l' 19462 0.20638606984167385]\n",
      "19462\n",
      "[' =>AN' 19605 0.20790252282632898]\n",
      "19605\n",
      "[' =>ar' 19395 0.2056755638978144]\n",
      "19395\n",
      "['1=>E' 18660 0.3308334663049838]\n",
      "18660\n",
      "['1=> 0' 18732 0.33210999414924736]\n",
      "18732\n",
      "[' =>ET' 18868 0.20008695744387534]\n",
      "18868\n",
      "['1=> E' 18651 0.3306739003244508]\n",
      "18651\n",
      "[' =>RT' 18625 0.19751004782659407]\n",
      "18625\n",
      "['1=>T' 17167 0.3043632430899066]\n",
      "17167\n",
      "['i=> ' 17708 0.8964260402956363]\n",
      "17708\n",
      "[' =>s' 17913 0.18995959660229692]\n",
      "17913\n",
      "['1=>S' 18026 0.31959292945410706]\n",
      "18026\n",
      "[' 1=>E' 18584 0.3294977039414195]\n",
      "18584\n",
      "['1=> S' 18025 0.3195751999007145]\n",
      "18025\n",
      "[' 1=>S' 17964 0.3185049910462581]\n",
      "17964\n",
      "['A=>E' 17770 0.4430648016555713]\n",
      "17770\n",
      "[' =>ST' 17859 0.1893869500206789]\n",
      "17859\n",
      "['1A=> ' 17869 0.7413907559538627]\n",
      "17869\n",
      "[' =>et' 17813 0.18889913996967092]\n",
      "17813\n",
      "[' A=>E' 17721 0.4418540866703237]\n",
      "17721\n",
      "[' =>EN' 17748 0.18820984315846406]\n",
      "17748\n",
      "['1=>e' 17312 0.3069340283318263]\n",
      "17312\n",
      "['E=>R' 17638 0.5233206741039639]\n",
      "17638\n",
      "[' E=>R' 17608 0.5224305720389272]\n",
      "17608\n",
      "[' =>AD' 17273 0.1831726741534905]\n",
      "17273\n",
      "['AE=> ' 17300 0.7331751144261739]\n",
      "17300\n",
      "['1=> e' 17306 0.306827651011471]\n",
      "17306\n",
      "[' =>NR' 17291 0.1833635563473632]\n",
      "17291\n",
      "[' =>AS' 17229 0.18270607323513505]\n",
      "17229\n",
      "[' 1=>e' 17224 0.3053846563004202]\n",
      "17224\n",
      "['1=>2' 16984 0.3011187348190699]\n",
      "16984\n",
      "['2=>A' 17051 0.3885736423509036]\n",
      "17051\n",
      "[' 1=>T' 17106 0.3032924948139217]\n",
      "17106\n",
      "['1=> T' 17163 0.30429232487633634]\n",
      "17163\n",
      "['E=> R' 17085 0.5069131260384524]\n",
      "17085\n",
      "['2=> A' 17031 0.3881178642236959]\n",
      "17031\n",
      "[' 2=>A' 16999 0.38742393509127787]\n",
      "16999\n",
      "['S=>T' 16867 0.5355453246547071]\n",
      "16867\n",
      "[' =>rt' 16895 0.1791641480821642]\n",
      "16895\n",
      "[' S=>T' 16843 0.5348002794183019]\n",
      "16843\n"
     ]
    }
   ],
   "source": [
    "rules_features = []\n",
    "rules_names = []\n",
    "\n",
    "rule_indices_per_attribute = defaultdict(list)\n",
    "\n",
    "ri = 0\n",
    "\n",
    "for column in [4]:\n",
    "    #mine top-k rules\n",
    "    subprocess.call(['java -cp /home/felix/SequentialPatternErrorDetection/SeqPatErrorDect/target/seqpaterrordetection-1.0-jar-with-dependencies.jar ' +\n",
    "                 'ca.pfv.spmf.app.RuleExtractionArrayInt '\n",
    "                 '-input ' + input_file + ' ' +\n",
    "                 '-output ' + output_file + ' ' +\n",
    "                 '-nrules ' + str(number_rules) + ' ' +\n",
    "                 '-cindex ' + str(column)\n",
    "                 ], shell=True)\n",
    "    #read top-k rules\n",
    "    rules = pd.read_csv(output_file, sep=';')\n",
    "    \n",
    "    for rule_string in rules.values:\n",
    "        rule_indices_per_attribute[column].append(ri)\n",
    "        rule_split = rule_string[0].split(\"=>\")\n",
    "        left = list(rule_split[0])\n",
    "        right = list(rule_split[1])\n",
    "        \n",
    "        rules_feature = check_rule(dirty.values[:,column], left, right)\n",
    "        rules_features.append(rules_feature)\n",
    "        rules_names.append(rule_string[0])\n",
    "\n",
    "        print rule_string\n",
    "        print np.sum(rules_feature)\n",
    "        \n",
    "        ri += 1"
   ]
  },
  {
   "cell_type": "code",
   "execution_count": 28,
   "metadata": {
    "collapsed": false
   },
   "outputs": [],
   "source": [
    "def generate_rules_feature(dirty,rules_features,rules_names,rule_indices_per_attribute):\n",
    "    rule_decision = sparse.csr_matrix(np.zeros([(len(dirty) * len(dirty.columns)),len(rules_names)]), dtype=bool)\n",
    "        \n",
    "    i = 0\n",
    "    for row in range(len(dirty)):        \n",
    "        for column in range(len(dirty.columns)):\n",
    "            for rule_id in rule_indices_per_attribute[column]:\n",
    "                if rules_features[rule_id][row] == True:\n",
    "                    rule_decision[i,rule_id] = True\n",
    "            i += 1\n",
    "\n",
    "    return rule_decision, rules_names"
   ]
  },
  {
   "cell_type": "code",
   "execution_count": 29,
   "metadata": {
    "collapsed": false
   },
   "outputs": [
    {
     "ename": "KeyboardInterrupt",
     "evalue": "",
     "output_type": "error",
     "traceback": [
      "\u001b[1;31m---------------------------------------------------------------------------\u001b[0m",
      "\u001b[1;31mKeyboardInterrupt\u001b[0m                         Traceback (most recent call last)",
      "\u001b[1;32m<ipython-input-29-1f989ae246eb>\u001b[0m in \u001b[0;36m<module>\u001b[1;34m()\u001b[0m\n\u001b[1;32m----> 1\u001b[1;33m \u001b[0mrule_decision\u001b[0m\u001b[1;33m,\u001b[0m \u001b[0mrules_names\u001b[0m \u001b[1;33m=\u001b[0m \u001b[0mgenerate_rules_feature\u001b[0m\u001b[1;33m(\u001b[0m\u001b[0mdirty\u001b[0m\u001b[1;33m,\u001b[0m\u001b[0mrules_features\u001b[0m\u001b[1;33m,\u001b[0m\u001b[0mrules_names\u001b[0m\u001b[1;33m,\u001b[0m\u001b[0mrule_indices_per_attribute\u001b[0m\u001b[1;33m)\u001b[0m\u001b[1;33m\u001b[0m\u001b[0m\n\u001b[0m",
      "\u001b[1;32m<ipython-input-28-2eb07cd5d6c2>\u001b[0m in \u001b[0;36mgenerate_rules_feature\u001b[1;34m(dirty, rules_features, rules_names, rule_indices_per_attribute)\u001b[0m\n\u001b[0;32m      7\u001b[0m             \u001b[1;32mfor\u001b[0m \u001b[0mrule_id\u001b[0m \u001b[1;32min\u001b[0m \u001b[0mrule_indices_per_attribute\u001b[0m\u001b[1;33m[\u001b[0m\u001b[0mcolumn\u001b[0m\u001b[1;33m]\u001b[0m\u001b[1;33m:\u001b[0m\u001b[1;33m\u001b[0m\u001b[0m\n\u001b[0;32m      8\u001b[0m                 \u001b[1;32mif\u001b[0m \u001b[0mrules_features\u001b[0m\u001b[1;33m[\u001b[0m\u001b[0mrule_id\u001b[0m\u001b[1;33m]\u001b[0m\u001b[1;33m[\u001b[0m\u001b[0mrow\u001b[0m\u001b[1;33m]\u001b[0m \u001b[1;33m==\u001b[0m \u001b[0mTrue\u001b[0m\u001b[1;33m:\u001b[0m\u001b[1;33m\u001b[0m\u001b[0m\n\u001b[1;32m----> 9\u001b[1;33m                     \u001b[0mrule_decision\u001b[0m\u001b[1;33m[\u001b[0m\u001b[0mi\u001b[0m\u001b[1;33m,\u001b[0m\u001b[0mrule_id\u001b[0m\u001b[1;33m]\u001b[0m \u001b[1;33m=\u001b[0m \u001b[0mTrue\u001b[0m\u001b[1;33m\u001b[0m\u001b[0m\n\u001b[0m\u001b[0;32m     10\u001b[0m             \u001b[0mi\u001b[0m \u001b[1;33m+=\u001b[0m \u001b[1;36m1\u001b[0m\u001b[1;33m\u001b[0m\u001b[0m\n\u001b[0;32m     11\u001b[0m \u001b[1;33m\u001b[0m\u001b[0m\n",
      "\u001b[1;32m/usr/local/lib/python2.7/dist-packages/scipy/sparse/compressed.pyc\u001b[0m in \u001b[0;36m__setitem__\u001b[1;34m(self, index, x)\u001b[0m\n\u001b[0;32m    654\u001b[0m             \u001b[1;32mreturn\u001b[0m\u001b[1;33m\u001b[0m\u001b[0m\n\u001b[0;32m    655\u001b[0m         \u001b[0mi\u001b[0m\u001b[1;33m,\u001b[0m \u001b[0mj\u001b[0m \u001b[1;33m=\u001b[0m \u001b[0mself\u001b[0m\u001b[1;33m.\u001b[0m\u001b[0m_swap\u001b[0m\u001b[1;33m(\u001b[0m\u001b[1;33m(\u001b[0m\u001b[0mi\u001b[0m\u001b[1;33m.\u001b[0m\u001b[0mravel\u001b[0m\u001b[1;33m(\u001b[0m\u001b[1;33m)\u001b[0m\u001b[1;33m,\u001b[0m \u001b[0mj\u001b[0m\u001b[1;33m.\u001b[0m\u001b[0mravel\u001b[0m\u001b[1;33m(\u001b[0m\u001b[1;33m)\u001b[0m\u001b[1;33m)\u001b[0m\u001b[1;33m)\u001b[0m\u001b[1;33m\u001b[0m\u001b[0m\n\u001b[1;32m--> 656\u001b[1;33m         \u001b[0mself\u001b[0m\u001b[1;33m.\u001b[0m\u001b[0m_set_many\u001b[0m\u001b[1;33m(\u001b[0m\u001b[0mi\u001b[0m\u001b[1;33m,\u001b[0m \u001b[0mj\u001b[0m\u001b[1;33m,\u001b[0m \u001b[0mx\u001b[0m\u001b[1;33m.\u001b[0m\u001b[0mravel\u001b[0m\u001b[1;33m(\u001b[0m\u001b[1;33m)\u001b[0m\u001b[1;33m)\u001b[0m\u001b[1;33m\u001b[0m\u001b[0m\n\u001b[0m\u001b[0;32m    657\u001b[0m \u001b[1;33m\u001b[0m\u001b[0m\n\u001b[0;32m    658\u001b[0m     \u001b[1;32mdef\u001b[0m \u001b[0m_setdiag\u001b[0m\u001b[1;33m(\u001b[0m\u001b[0mself\u001b[0m\u001b[1;33m,\u001b[0m \u001b[0mvalues\u001b[0m\u001b[1;33m,\u001b[0m \u001b[0mk\u001b[0m\u001b[1;33m)\u001b[0m\u001b[1;33m:\u001b[0m\u001b[1;33m\u001b[0m\u001b[0m\n",
      "\u001b[1;32m/usr/local/lib/python2.7/dist-packages/scipy/sparse/compressed.pyc\u001b[0m in \u001b[0;36m_set_many\u001b[1;34m(self, i, j, x)\u001b[0m\n\u001b[0;32m    738\u001b[0m             \u001b[0mj\u001b[0m \u001b[1;33m=\u001b[0m \u001b[0mj\u001b[0m\u001b[1;33m[\u001b[0m\u001b[0mmask\u001b[0m\u001b[1;33m]\u001b[0m\u001b[1;33m\u001b[0m\u001b[0m\n\u001b[0;32m    739\u001b[0m             \u001b[0mj\u001b[0m\u001b[1;33m[\u001b[0m\u001b[0mj\u001b[0m \u001b[1;33m<\u001b[0m \u001b[1;36m0\u001b[0m\u001b[1;33m]\u001b[0m \u001b[1;33m+=\u001b[0m \u001b[0mN\u001b[0m\u001b[1;33m\u001b[0m\u001b[0m\n\u001b[1;32m--> 740\u001b[1;33m             \u001b[0mself\u001b[0m\u001b[1;33m.\u001b[0m\u001b[0m_insert_many\u001b[0m\u001b[1;33m(\u001b[0m\u001b[0mi\u001b[0m\u001b[1;33m,\u001b[0m \u001b[0mj\u001b[0m\u001b[1;33m,\u001b[0m \u001b[0mx\u001b[0m\u001b[1;33m[\u001b[0m\u001b[0mmask\u001b[0m\u001b[1;33m]\u001b[0m\u001b[1;33m)\u001b[0m\u001b[1;33m\u001b[0m\u001b[0m\n\u001b[0m\u001b[0;32m    741\u001b[0m \u001b[1;33m\u001b[0m\u001b[0m\n\u001b[0;32m    742\u001b[0m     \u001b[1;32mdef\u001b[0m \u001b[0m_insert_many\u001b[0m\u001b[1;33m(\u001b[0m\u001b[0mself\u001b[0m\u001b[1;33m,\u001b[0m \u001b[0mi\u001b[0m\u001b[1;33m,\u001b[0m \u001b[0mj\u001b[0m\u001b[1;33m,\u001b[0m \u001b[0mx\u001b[0m\u001b[1;33m)\u001b[0m\u001b[1;33m:\u001b[0m\u001b[1;33m\u001b[0m\u001b[0m\n",
      "\u001b[1;32m/usr/local/lib/python2.7/dist-packages/scipy/sparse/compressed.pyc\u001b[0m in \u001b[0;36m_insert_many\u001b[1;34m(self, i, j, x)\u001b[0m\n\u001b[0;32m    798\u001b[0m         \u001b[0mself\u001b[0m\u001b[1;33m.\u001b[0m\u001b[0mindices\u001b[0m \u001b[1;33m=\u001b[0m \u001b[0mnp\u001b[0m\u001b[1;33m.\u001b[0m\u001b[0mconcatenate\u001b[0m\u001b[1;33m(\u001b[0m\u001b[0mindices_parts\u001b[0m\u001b[1;33m)\u001b[0m\u001b[1;33m\u001b[0m\u001b[0m\n\u001b[0;32m    799\u001b[0m         \u001b[0mself\u001b[0m\u001b[1;33m.\u001b[0m\u001b[0mdata\u001b[0m \u001b[1;33m=\u001b[0m \u001b[0mnp\u001b[0m\u001b[1;33m.\u001b[0m\u001b[0mconcatenate\u001b[0m\u001b[1;33m(\u001b[0m\u001b[0mdata_parts\u001b[0m\u001b[1;33m)\u001b[0m\u001b[1;33m\u001b[0m\u001b[0m\n\u001b[1;32m--> 800\u001b[1;33m         \u001b[0mnnzs\u001b[0m \u001b[1;33m=\u001b[0m \u001b[0mnp\u001b[0m\u001b[1;33m.\u001b[0m\u001b[0masarray\u001b[0m\u001b[1;33m(\u001b[0m\u001b[0mnp\u001b[0m\u001b[1;33m.\u001b[0m\u001b[0mediff1d\u001b[0m\u001b[1;33m(\u001b[0m\u001b[0mself\u001b[0m\u001b[1;33m.\u001b[0m\u001b[0mindptr\u001b[0m\u001b[1;33m,\u001b[0m \u001b[0mto_begin\u001b[0m\u001b[1;33m=\u001b[0m\u001b[1;36m0\u001b[0m\u001b[1;33m)\u001b[0m\u001b[1;33m,\u001b[0m \u001b[0mdtype\u001b[0m\u001b[1;33m=\u001b[0m\u001b[0midx_dtype\u001b[0m\u001b[1;33m)\u001b[0m\u001b[1;33m\u001b[0m\u001b[0m\n\u001b[0m\u001b[0;32m    801\u001b[0m         \u001b[0mnnzs\u001b[0m\u001b[1;33m[\u001b[0m\u001b[1;36m1\u001b[0m\u001b[1;33m:\u001b[0m\u001b[1;33m]\u001b[0m\u001b[1;33m[\u001b[0m\u001b[0mui\u001b[0m\u001b[1;33m]\u001b[0m \u001b[1;33m+=\u001b[0m \u001b[0mnew_nnzs\u001b[0m\u001b[1;33m\u001b[0m\u001b[0m\n\u001b[0;32m    802\u001b[0m         \u001b[0mself\u001b[0m\u001b[1;33m.\u001b[0m\u001b[0mindptr\u001b[0m \u001b[1;33m=\u001b[0m \u001b[0mnp\u001b[0m\u001b[1;33m.\u001b[0m\u001b[0mcumsum\u001b[0m\u001b[1;33m(\u001b[0m\u001b[0mnnzs\u001b[0m\u001b[1;33m,\u001b[0m \u001b[0mout\u001b[0m\u001b[1;33m=\u001b[0m\u001b[0mnnzs\u001b[0m\u001b[1;33m)\u001b[0m\u001b[1;33m\u001b[0m\u001b[0m\n",
      "\u001b[1;32m/usr/local/lib/python2.7/dist-packages/numpy/lib/arraysetops.pyc\u001b[0m in \u001b[0;36mediff1d\u001b[1;34m(ary, to_end, to_begin)\u001b[0m\n\u001b[0;32m     80\u001b[0m     \"\"\"\n\u001b[0;32m     81\u001b[0m     \u001b[0mary\u001b[0m \u001b[1;33m=\u001b[0m \u001b[0mnp\u001b[0m\u001b[1;33m.\u001b[0m\u001b[0masanyarray\u001b[0m\u001b[1;33m(\u001b[0m\u001b[0mary\u001b[0m\u001b[1;33m)\u001b[0m\u001b[1;33m.\u001b[0m\u001b[0mflat\u001b[0m\u001b[1;33m\u001b[0m\u001b[0m\n\u001b[1;32m---> 82\u001b[1;33m     \u001b[0med\u001b[0m \u001b[1;33m=\u001b[0m \u001b[0mary\u001b[0m\u001b[1;33m[\u001b[0m\u001b[1;36m1\u001b[0m\u001b[1;33m:\u001b[0m\u001b[1;33m]\u001b[0m \u001b[1;33m-\u001b[0m \u001b[0mary\u001b[0m\u001b[1;33m[\u001b[0m\u001b[1;33m:\u001b[0m\u001b[1;33m-\u001b[0m\u001b[1;36m1\u001b[0m\u001b[1;33m]\u001b[0m\u001b[1;33m\u001b[0m\u001b[0m\n\u001b[0m\u001b[0;32m     83\u001b[0m     \u001b[0marrays\u001b[0m \u001b[1;33m=\u001b[0m \u001b[1;33m[\u001b[0m\u001b[0med\u001b[0m\u001b[1;33m]\u001b[0m\u001b[1;33m\u001b[0m\u001b[0m\n\u001b[0;32m     84\u001b[0m     \u001b[1;32mif\u001b[0m \u001b[0mto_begin\u001b[0m \u001b[1;32mis\u001b[0m \u001b[1;32mnot\u001b[0m \u001b[0mNone\u001b[0m\u001b[1;33m:\u001b[0m\u001b[1;33m\u001b[0m\u001b[0m\n",
      "\u001b[1;31mKeyboardInterrupt\u001b[0m: "
     ]
    }
   ],
   "source": [
    "rule_decision, rules_names = generate_rules_feature(dirty,rules_features,rules_names,rule_indices_per_attribute)"
   ]
  },
  {
   "cell_type": "code",
   "execution_count": null,
   "metadata": {
    "collapsed": false
   },
   "outputs": [],
   "source": [
    "print rule_decision.shape"
   ]
  },
  {
   "cell_type": "code",
   "execution_count": null,
   "metadata": {
    "collapsed": true
   },
   "outputs": [],
   "source": [
    "np.save(\"data4.p\", rule_decision)\n",
    "np.save(\"names4.p\", rules_names)"
   ]
  },
  {
   "cell_type": "code",
   "execution_count": null,
   "metadata": {
    "collapsed": false
   },
   "outputs": [],
   "source": [
    "svd = TruncatedSVD(n_components=200, n_iter=7, random_state=42)\n",
    "svd.fit(rule_decision)\n",
    "svd_score = svd.explained_variance_ratio_"
   ]
  },
  {
   "cell_type": "code",
   "execution_count": null,
   "metadata": {
    "collapsed": true
   },
   "outputs": [],
   "source": []
  },
  {
   "cell_type": "code",
   "execution_count": null,
   "metadata": {
    "collapsed": true
   },
   "outputs": [],
   "source": [
    "feature_matrix_all = sparse.hstack((feature_matrix,rule_decision))"
   ]
  },
  {
   "cell_type": "code",
   "execution_count": null,
   "metadata": {
    "collapsed": true
   },
   "outputs": [],
   "source": []
  },
  {
   "cell_type": "code",
   "execution_count": null,
   "metadata": {
    "collapsed": true
   },
   "outputs": [],
   "source": []
  },
  {
   "cell_type": "code",
   "execution_count": 60,
   "metadata": {
    "collapsed": false
   },
   "outputs": [
    {
     "name": "stdout",
     "output_type": "stream",
     "text": [
      "train size: 8best params: {'colsample_bytree': 0.8, 'min_child_weight': 1, 'subsample': 0.8, 'eta': 0.1, 'objective': 'binary:logistic', 'seed': 0, 'max_depth': 3}\n",
      "(1131672, 15)\n",
      "(96, 15)\n",
      "(1131672, 15)\n",
      "1 - F-Score: 0.856209017641\n",
      "1 - Precision: 0.832816229411\n",
      "1 - Recall: 0.880953935087\n"
     ]
    },
    {
     "data": {
      "image/png": "[encoded data removed]",
      "text/plain": [
       "<matplotlib.figure.Figure at 0x7ffc23df4e90>"
      ]
     },
     "metadata": {},
     "output_type": "display_data"
    },
    {
     "name": "stdout",
     "output_type": "stream",
     "text": [
      "196\n",
      "196\n",
      "2 - F-Score: 0.822315242863\n",
      "2 - Precision: 0.805219471547\n",
      "2 - Recall: 0.840152688099\n"
     ]
    },
    {
     "data": {
      "image/png": "[encoded data removed]",
      "text/plain": [
       "<matplotlib.figure.Figure at 0x7ffc265b8d10>"
      ]
     },
     "metadata": {},
     "output_type": "display_data"
    },
    {
     "name": "stdout",
     "output_type": "stream",
     "text": [
      "296\n",
      "296\n",
      "2 - F-Score: 0.864649891333\n",
      "2 - Precision: 0.847587400311\n",
      "2 - Recall: 0.882413453681\n"
     ]
    },
    {
     "data": {
      "image/png": "[encoded data removed]",
      "text/plain": [
       "<matplotlib.figure.Figure at 0x7ffc24007fd0>"
      ]
     },
     "metadata": {},
     "output_type": "display_data"
    },
    {
     "name": "stdout",
     "output_type": "stream",
     "text": [
      "396\n",
      "396\n",
      "2 - F-Score: 0.898607487466\n",
      "2 - Precision: 0.85534387889\n",
      "2 - Recall: 0.946480836965\n"
     ]
    },
    {
     "data": {
      "image/png": "[encoded data removed]",
      "text/plain": [
       "<matplotlib.figure.Figure at 0x7ffc23f933d0>"
      ]
     },
     "metadata": {},
     "output_type": "display_data"
    },
    {
     "name": "stdout",
     "output_type": "stream",
     "text": [
      "496\n",
      "496\n",
      "2 - F-Score: 0.912982638119\n",
      "2 - Precision: 0.8775431076\n",
      "2 - Recall: 0.951405080378\n"
     ]
    },
    {
     "data": {
      "image/png": "[encoded data removed]",
      "text/plain": [
       "<matplotlib.figure.Figure at 0x7ffc242b0850>"
      ]
     },
     "metadata": {},
     "output_type": "display_data"
    },
    {
     "name": "stdout",
     "output_type": "stream",
     "text": [
      "596\n",
      "596\n",
      "2 - F-Score: 0.928010882859\n",
      "2 - Precision: 0.888900843261\n",
      "2 - Recall: 0.970720855972\n"
     ]
    },
    {
     "data": {
      "image/png": "[encoded data removed]",
      "text/plain": [
       "<matplotlib.figure.Figure at 0x7ffc827c9d10>"
      ]
     },
     "metadata": {},
     "output_type": "display_data"
    },
    {
     "name": "stdout",
     "output_type": "stream",
     "text": [
      "696\n",
      "696\n",
      "2 - F-Score: 0.931551662069\n",
      "2 - Precision: 0.896443004543\n",
      "2 - Recall: 0.969522431939\n"
     ]
    },
    {
     "data": {
      "image/png": "[encoded data removed]",
      "text/plain": [
       "<matplotlib.figure.Figure at 0x7ffc43c1bd50>"
      ]
     },
     "metadata": {},
     "output_type": "display_data"
    },
    {
     "name": "stdout",
     "output_type": "stream",
     "text": [
      "796\n",
      "796\n",
      "2 - F-Score: 0.938572273589\n",
      "2 - Precision: 0.907799843857\n",
      "2 - Recall: 0.971504139654\n"
     ]
    },
    {
     "data": {
      "image/png": "[encoded data removed]",
      "text/plain": [
       "<matplotlib.figure.Figure at 0x7ffc23d0a410>"
      ]
     },
     "metadata": {},
     "output_type": "display_data"
    },
    {
     "name": "stdout",
     "output_type": "stream",
     "text": [
      "896\n",
      "896\n",
      "2 - F-Score: 0.941548287606\n",
      "2 - Precision: 0.916829116241\n",
      "2 - Recall: 0.967637329212\n"
     ]
    },
    {
     "data": {
      "image/png": "[encoded data removed]",
      "text/plain": [
       "<matplotlib.figure.Figure at 0x7ffc23e7afd0>"
      ]
     },
     "metadata": {},
     "output_type": "display_data"
    },
    {
     "name": "stdout",
     "output_type": "stream",
     "text": [
      "996\n",
      "996\n",
      "2 - F-Score: 0.950891676742\n",
      "2 - Precision: 0.935181561813\n",
      "2 - Recall: 0.967138638601\n",
      "F-Score: [0.95089167674247266]\n",
      "Precision: [0.93518156181281575]\n",
      "Recall: [0.96713863860074201]\n"
     ]
    }
   ],
   "source": [
    "f_scores = []\n",
    "precision_scores = []\n",
    "recall_scores = []\n",
    "\n",
    "models = dict()\n",
    "\n",
    "n = 1\n",
    "for train_size in [8]:\n",
    "    f_current = 0.0\n",
    "    precision_current = 0.0\n",
    "    recall_current = 0.0\n",
    "    \n",
    "    our_params = {'eta': 0.1, 'seed': 0, 'subsample': 0.8, 'colsample_bytree': 0.8,\n",
    "                          'objective': 'binary:logistic', 'max_depth': 3, 'min_child_weight': 1}\n",
    "\n",
    "    '''\n",
    "    train, train_target, test, test_target = create_data(feature_matrix, train_size)\n",
    "    xgdmat = xgb.DMatrix(train, train_target, feature_names=total_schema)\n",
    "\n",
    "    cv_params = {'max_depth': [3,5,7], 'min_child_weight': [1,3,5]}\n",
    "    ind_params = {'max_depth': 3, 'learning_rate': 0.1, 'n_estimators': 1000, 'seed':0, 'subsample': 0.8, 'colsample_bytree': 0.8, \n",
    "         'objective': 'binary:logistic'}\n",
    "\n",
    "    optimized_GBM = GridSearchCV(xgb.XGBClassifier(**ind_params), \n",
    "                        cv_params, \n",
    "                         scoring = 'f1', cv = 5, n_jobs = 4) \n",
    "\n",
    "    optimized_GBM.fit(train, train_target)\n",
    "\n",
    "    print \"best scores: \" + str(optimized_GBM.grid_scores_)\n",
    "\n",
    "    our_params = optimized_GBM.best_params_\n",
    "    '''\n",
    "    \n",
    "    print \"train size: \" + str(train_size) + \"best params: \" + str(our_params)\n",
    "    \n",
    "    for t in range(n):\n",
    "        print feature_matrix.shape\n",
    "        \n",
    "        #train, train_target, test, test_target = create_data(feature_matrix, train_size)\n",
    "        train, train_target = create_data_smart(feature_matrix, column_features, schema_tools, train_size)\n",
    "        \n",
    "        print feature_matrix.shape\n",
    "        \n",
    "        xgdmat = xgb.DMatrix(train, train_target, feature_names=total_schema)\n",
    " \n",
    "        final_gb = xgb.train(our_params, xgdmat, num_boost_round=3000)\n",
    "\n",
    "        testdmat = xgb.DMatrix(feature_matrix, feature_names=total_schema)\n",
    "        y_pred = final_gb.predict(testdmat)\n",
    "\n",
    "        #res = (y_pred > 0.5)\n",
    "                \n",
    "        print \"1 - F-Score: \" + str(f1_score(target, res))\n",
    "        print \"1 - Precision: \" + str(precision_score(target, res))\n",
    "        print \"1 - Recall: \" + str(recall_score(target, res))\n",
    "        \n",
    "        \n",
    "        for r in range (9):\n",
    "            train, train_target = create_next_data(train, train_target,feature_matrix, target, y_pred, 100)\n",
    "\n",
    "            print len(train)\n",
    "            print len(train_target)\n",
    "            xgdmat2 = xgb.DMatrix(train, train_target, feature_names=total_schema)\n",
    "\n",
    "            final_gb2 = xgb.train(our_params, xgdmat2, num_boost_round=3000)\n",
    "\n",
    "            y_pred = final_gb2.predict(testdmat)\n",
    "\n",
    "            res2 = (y_pred > 0.5)\n",
    "\n",
    "            print \"2 - F-Score: \" + str(f1_score(target, res2))\n",
    "            print \"2 - Precision: \" + str(precision_score(target, res2))\n",
    "            print \"2 - Recall: \" + str(recall_score(target, res2))\n",
    "                \n",
    "        f_current += f1_score(target, res2)\n",
    "        precision_current += precision_score(target, res2)\n",
    "        recall_current += recall_score(target, res2)\n",
    "    \n",
    "    f_scores.append(f_current / n)\n",
    "    precision_scores.append(precision_current / n)\n",
    "    recall_scores.append(recall_current / n)\n",
    "\n",
    "print \"F-Score: \" + str(f_scores)\n",
    "print \"Precision: \" + str(precision_scores)\n",
    "print \"Recall: \" + str(recall_scores)"
   ]
  },
  {
   "cell_type": "code",
   "execution_count": 25,
   "metadata": {
    "collapsed": false
   },
   "outputs": [
    {
     "name": "stdout",
     "output_type": "stream",
     "text": [
      "train size: 20best params: {'colsample_bytree': 0.8, 'min_child_weight': 1, 'subsample': 0.8, 'eta': 0.1, 'objective': 'binary:logistic', 'seed': 0, 'max_depth': 3}\n",
      "(240, 15)\n",
      "(240, 15)\n",
      "(240, 15)\n",
      "(240, 15)\n",
      "(240, 15)\n",
      "train size: 40best params: {'colsample_bytree': 0.8, 'min_child_weight': 1, 'subsample': 0.8, 'eta': 0.1, 'objective': 'binary:logistic', 'seed': 0, 'max_depth': 3}\n",
      "(480, 15)\n",
      "(480, 15)\n",
      "(480, 15)\n",
      "(480, 15)\n",
      "(480, 15)\n",
      "train size: 60best params: {'colsample_bytree': 0.8, 'min_child_weight': 1, 'subsample': 0.8, 'eta': 0.1, 'objective': 'binary:logistic', 'seed': 0, 'max_depth': 3}\n",
      "(720, 15)\n",
      "(720, 15)\n",
      "(720, 15)\n",
      "(720, 15)\n",
      "(720, 15)\n",
      "train size: 80best params: {'colsample_bytree': 0.8, 'min_child_weight': 1, 'subsample': 0.8, 'eta': 0.1, 'objective': 'binary:logistic', 'seed': 0, 'max_depth': 3}\n",
      "(960, 15)\n",
      "(960, 15)\n",
      "(960, 15)\n",
      "(960, 15)\n",
      "(960, 15)\n",
      "F-Score: [0.88846033996110307, 0.90917524467053057, 0.91837378527260216, 0.92729418224021987]\n",
      "Precision: [0.85737635360047337, 0.89865851529611507, 0.90318508368046546, 0.9197334647064761]\n",
      "Recall: [0.92278493902136527, 0.92038495782017371, 0.9341070435479617, 0.9350992028783065]\n"
     ]
    }
   ],
   "source": [
    "f_scores = []\n",
    "precision_scores = []\n",
    "recall_scores = []\n",
    "\n",
    "models = dict()\n",
    "\n",
    "n = 5\n",
    "for train_size in [20, 40, 60, 80]:\n",
    "    f_current = 0.0\n",
    "    precision_current = 0.0\n",
    "    recall_current = 0.0\n",
    "    \n",
    "    our_params = {'eta': 0.1, 'seed': 0, 'subsample': 0.8, 'colsample_bytree': 0.8,\n",
    "                          'objective': 'binary:logistic', 'max_depth': 3, 'min_child_weight': 1}\n",
    "\n",
    "    '''\n",
    "    train, train_target, test, test_target = create_data(feature_matrix, train_size)\n",
    "    xgdmat = xgb.DMatrix(train, train_target, feature_names=total_schema)\n",
    "\n",
    "    cv_params = {'max_depth': [3,5,7], 'min_child_weight': [1,3,5]}\n",
    "    ind_params = {'max_depth': 3, 'learning_rate': 0.1, 'n_estimators': 1000, 'seed':0, 'subsample': 0.8, 'colsample_bytree': 0.8, \n",
    "         'objective': 'binary:logistic'}\n",
    "\n",
    "    optimized_GBM = GridSearchCV(xgb.XGBClassifier(**ind_params), \n",
    "                        cv_params, \n",
    "                         scoring = 'f1', cv = 5, n_jobs = 4) \n",
    "\n",
    "    optimized_GBM.fit(train, train_target)\n",
    "\n",
    "    print \"best scores: \" + str(optimized_GBM.grid_scores_)\n",
    "\n",
    "    our_params = optimized_GBM.best_params_\n",
    "    '''\n",
    "    \n",
    "    print \"train size: \" + str(train_size) + \"best params: \" + str(our_params)\n",
    "    \n",
    "    for t in range(n):\n",
    "        #train, train_target, test, test_target = create_data(feature_matrix, train_size)\n",
    "        train, train_target = create_data_smart(feature_matrix, column_features, schema_tools, train_size)\n",
    "        \n",
    "        xgdmat = xgb.DMatrix(train, train_target, feature_names=total_schema)\n",
    " \n",
    "        final_gb = xgb.train(our_params, xgdmat, num_boost_round=3000)\n",
    "\n",
    "        testdmat = xgb.DMatrix(feature_matrix, feature_names=total_schema)\n",
    "        y_pred = final_gb.predict(testdmat)\n",
    "\n",
    "        res = (y_pred > 0.5)\n",
    "\n",
    "        f_current += f1_score(target, res)\n",
    "        precision_current += precision_score(target, res)\n",
    "        recall_current += recall_score(target, res)\n",
    "    \n",
    "    f_scores.append(f_current / n)\n",
    "    precision_scores.append(precision_current / n)\n",
    "    recall_scores.append(recall_current / n)\n",
    "\n",
    "print \"F-Score: \" + str(f_scores)\n",
    "print \"Precision: \" + str(precision_scores)\n",
    "print \"Recall: \" + str(recall_scores)"
   ]
  },
  {
   "cell_type": "code",
   "execution_count": 26,
   "metadata": {
    "collapsed": false
   },
   "outputs": [
    {
     "data": {
      "text/plain": [
       "{'col_avg_length': 338,\n",
       " 'col_distinct_values': 480,\n",
       " 'col_id': 556,\n",
       " 'col_max_length': 264,\n",
       " 'row_avg_fraction': 2117,\n",
       " 'row_avg_length': 1384,\n",
       " 'tool_AddressCleaner_detectedCells': 30,\n",
       " 'tool_gaussian': 195,\n",
       " 'tool_histograms': 313,\n",
       " 'tool_katara': 7,\n",
       " 'tool_mixture': 294,\n",
       " 'tool_tamr': 269,\n",
       " 'val_fraction': 1213,\n",
       " 'val_length': 1481}"
      ]
     },
     "execution_count": 26,
     "metadata": {},
     "output_type": "execute_result"
    }
   ],
   "source": [
    "importances = final_gb.get_fscore()\n",
    "importances"
   ]
  },
  {
   "cell_type": "code",
   "execution_count": 27,
   "metadata": {
    "collapsed": false
   },
   "outputs": [
    {
     "data": {
      "text/plain": [
       "<matplotlib.axes.AxesSubplot at 0x7ffc2428ba50>"
      ]
     },
     "execution_count": 27,
     "metadata": {},
     "output_type": "execute_result"
    },
    {
     "data": {
      "image/png": "[encoded data removed]",
      "text/plain": [
       "<matplotlib.figure.Figure at 0x7ffc78553050>"
      ]
     },
     "metadata": {},
     "output_type": "display_data"
    }
   ],
   "source": [
    "%matplotlib inline  \n",
    "importance_frame = pd.DataFrame({'Importance': list(importances.values()), 'Feature': list(importances.keys())})\n",
    "importance_frame.sort_values(by = 'Importance', inplace = True)\n",
    "importance_frame.plot(kind = 'barh', x = 'Feature', figsize = (8,8), color = 'orange')"
   ]
  },
  {
   "cell_type": "code",
   "execution_count": null,
   "metadata": {
    "collapsed": true
   },
   "outputs": [],
   "source": []
  },
  {
   "cell_type": "code",
   "execution_count": 24,
   "metadata": {
    "collapsed": false
   },
   "outputs": [
    {
     "name": "stdout",
     "output_type": "stream",
     "text": [
      "F-Score: [0.1890476877457227, 0.37834691631269701, 0.58013839104177711, 0.64066265622150431, 0.76637150886752126, 0.88541243966779748, 0.8904424312141298, 0.89418077951191766, 0.89400388396576158]\n",
      "Precision: [0.12948940111400137, 0.62960554503886479, 0.70424754442742199, 0.64042826713778922, 0.807455474301358, 0.90216814718046978, 0.89283842140448699, 0.89833355466123843, 0.89884032575999573]\n",
      "Recall: [0.35217309570185013, 0.34439729061364038, 0.55682396832813552, 0.65127321356131895, 0.75088111053690398, 0.86981633402841962, 0.88823521575000952, 0.89007312570900476, 0.88922014444919262]\n"
     ]
    }
   ],
   "source": [
    "f_scores = []\n",
    "precision_scores = []\n",
    "recall_scores = []\n",
    "\n",
    "n = 5\n",
    "for train_size in [2, 5, 10, 15, 100, 1000, 10000, 100000, 200000]:\n",
    "    f_current = 0.0\n",
    "    precision_current = 0.0\n",
    "    recall_current = 0.0\n",
    "    for t in range(n):\n",
    "        train, train_target, test, test_target = create_data(feature_matrix, train_size)\n",
    "\n",
    "        gnb = GaussianNB()\n",
    "        final = gnb.fit(train, train_target)\n",
    "\n",
    "        res = final.predict(test)\n",
    "        \n",
    "        f_current += f1_score(test_target, res)\n",
    "        precision_current += precision_score(test_target, res)\n",
    "        recall_current += recall_score(test_target, res)\n",
    "    \n",
    "    f_scores.append(f_current / n)\n",
    "    precision_scores.append(precision_current / n)\n",
    "    recall_scores.append(recall_current / n)\n",
    "\n",
    "print \"F-Score: \" + str(f_scores)\n",
    "print \"Precision: \" + str(precision_scores)\n",
    "print \"Recall: \" + str(recall_scores)"
   ]
  },
  {
   "cell_type": "code",
   "execution_count": null,
   "metadata": {
    "collapsed": true
   },
   "outputs": [],
   "source": []
  },
  {
   "cell_type": "code",
   "execution_count": 25,
   "metadata": {
    "collapsed": false
   },
   "outputs": [
    {
     "name": "stdout",
     "output_type": "stream",
     "text": [
      "F-Score: [0.87223511722492031, 0.89280466393892388, 0.9687255651065676, 0.95227522685165267, 0.95391058569075116, 0.95623387247360725]\n",
      "Precision: [0.93076489020254838, 0.90334381529741548, 0.99457415845025388, 0.9703945073953697, 0.97138393496406006, 0.97921391826144721]\n",
      "Recall: [0.84483747697020684, 0.88643684568142933, 0.94420199829901663, 0.93495260626051502, 0.93739386301633743, 0.93440290289820849]\n"
     ]
    }
   ],
   "source": [
    "f_scores = []\n",
    "precision_scores = []\n",
    "recall_scores = []\n",
    "\n",
    "n = 5\n",
    "for train_size in [30,100,1000,10000,30000,100000]:\n",
    "    f_current = 0.0\n",
    "    precision_current = 0.0\n",
    "    recall_current = 0.0\n",
    "    \n",
    "    for t in range(n):\n",
    "        train, train_target, test, test_target = create_data(feature_matrix, train_size)\n",
    "\n",
    "        logistic = linear_model.LogisticRegression()\n",
    "        final = logistic.fit(train, train_target)\n",
    "\n",
    "        res = final.predict(test)\n",
    "        \n",
    "        f_current += f1_score(test_target, res)\n",
    "        precision_current += precision_score(test_target, res)\n",
    "        recall_current += recall_score(test_target, res)\n",
    "    \n",
    "    f_scores.append(f_current / n)\n",
    "    precision_scores.append(precision_current / n)\n",
    "    recall_scores.append(recall_current / n)\n",
    "\n",
    "print \"F-Score: \" + str(f_scores)\n",
    "print \"Precision: \" + str(precision_scores)\n",
    "print \"Recall: \" + str(recall_scores)"
   ]
  },
  {
   "cell_type": "code",
   "execution_count": 145,
   "metadata": {
    "collapsed": false
   },
   "outputs": [
    {
     "name": "stdout",
     "output_type": "stream",
     "text": [
      "recall: 0.931965062081\n"
     ]
    }
   ],
   "source": [
    "recall = recall_score(test_target, res)\n",
    "print \"recall: \" + str(recall)"
   ]
  },
  {
   "cell_type": "code",
   "execution_count": 146,
   "metadata": {
    "collapsed": false
   },
   "outputs": [
    {
     "name": "stdout",
     "output_type": "stream",
     "text": [
      "precision: 0.963111878677\n"
     ]
    }
   ],
   "source": [
    "precision = precision_score(test_target, res)\n",
    "print \"precision: \" + str(precision)"
   ]
  },
  {
   "cell_type": "code",
   "execution_count": 99,
   "metadata": {
    "collapsed": true
   },
   "outputs": [],
   "source": [
    "column_detect = np.array([False] * len(clean) * len(clean.columns))\n",
    "target = np.array([False] * len(clean) * len(clean.columns))"
   ]
  },
  {
   "cell_type": "code",
   "execution_count": 100,
   "metadata": {
    "collapsed": false
   },
   "outputs": [],
   "source": [
    "i = 0\n",
    "for row in range(len(clean)):\n",
    "    for column in range(len(clean.columns)):\n",
    "        column_detect[i] = (row, column) in error_sets[4]\n",
    "        target[i] = ground_truth[row,column]\n",
    "        i += 1"
   ]
  },
  {
   "cell_type": "code",
   "execution_count": 101,
   "metadata": {
    "collapsed": false
   },
   "outputs": [],
   "source": [
    "TP = np.sum(np.logical_and(column_detect == True, target == True))"
   ]
  },
  {
   "cell_type": "code",
   "execution_count": 102,
   "metadata": {
    "collapsed": false
   },
   "outputs": [],
   "source": [
    "FP = np.sum(np.logical_and(column_detect == True, target == False))"
   ]
  },
  {
   "cell_type": "code",
   "execution_count": 103,
   "metadata": {
    "collapsed": true
   },
   "outputs": [],
   "source": [
    "FN = np.sum(np.logical_and(column_detect == False, target == True))"
   ]
  },
  {
   "cell_type": "code",
   "execution_count": 104,
   "metadata": {
    "collapsed": false
   },
   "outputs": [
    {
     "name": "stdout",
     "output_type": "stream",
     "text": [
      "precision: 0.999349493101\n"
     ]
    }
   ],
   "source": [
    "print \"precision: \" + str(float(TP) / (TP + FP))"
   ]
  },
  {
   "cell_type": "code",
   "execution_count": 105,
   "metadata": {
    "collapsed": false
   },
   "outputs": [
    {
     "name": "stdout",
     "output_type": "stream",
     "text": [
      "recall: 0.946619217082\n"
     ]
    }
   ],
   "source": [
    "print \"recall: \" + str(float(TP) / (TP + FN))"
   ]
  },
  {
   "cell_type": "code",
   "execution_count": null,
   "metadata": {
    "collapsed": true
   },
   "outputs": [],
   "source": []
  }
 ],
 "metadata": {
  "kernelspec": {
   "display_name": "Python 2",
   "language": "python",
   "name": "python2"
  },
  "language_info": {
   "codemirror_mode": {
    "name": "ipython",
    "version": 2
   },
   "file_extension": ".py",
   "mimetype": "text/x-python",
   "name": "python",
   "nbconvert_exporter": "python",
   "pygments_lexer": "ipython2",
   "version": "2.7.12"
  }
 },
 "nbformat": 4,
 "nbformat_minor": 0
}
